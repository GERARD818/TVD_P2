{
 "cells": [
  {
   "cell_type": "markdown",
   "metadata": {
    "id": "fWeisQHVRdqk"
   },
   "source": [
    "<center>\n",
    "<h1 style=\"font-family:verdana\">\n",
    " 💻 🧑 Classificació d'intencions 🧑 💻\n"
   ]
  },
  {
   "cell_type": "markdown",
   "metadata": {
    "id": "OYVGfnG6MhT8"
   },
   "source": [
    "<p> 🎯 <b>Objectiu</b>: en aquesta pràctica aprendrem a detectar la intenció de l'usuari a partir d'interaccions reals amb un xatbot. En el context de xatbots, la classificació d'intencions ajuda a entendre quina acció o resposta hauria de prendre el sistema en funció de la consulta de l'usuari.  \n",
    "\n",
    "\n",
    "<p> ✨ <b>Contingut</b>: en primer lloc, farem servir una base de dades amb oracions d'interaccions en espanyol etiquetades com 19 intencions diferents. En segon lloc, realitzarem el preprocessament de les dades, és a dir, transformarem les dades perquè tinguen un format adequat per a ser introduïdes al model. I finalment, dissenyarem i entrenarem el model de classificació per detectar automàticament la intenció de les oracions.</p>  \n",
    "\n",
    "\n",
    "<p> ✏ <b>Exercicis</b>: en cada secció anireu trobant exercicis que haureu d'anar resolent. </p>\n",
    "\n"
   ]
  },
  {
   "cell_type": "markdown",
   "metadata": {
    "id": "Ff3yPMsPihza"
   },
   "source": [
    "---\n",
    "\n",
    "<h2> Índex </h2>\n",
    "\n",
    "1. [Inspecció del conjunt de dades](#section-one)\n",
    "  * [Exercici 1](#ex-one)\n",
    "2. [Preprocessament de dades](#section-two)\n",
    "  * [Exercici 2](#ex-two)\n",
    "  * [Exercici 3](#ex-three)\n",
    "3. [Disseny del model i entrenament](#section-three)\n",
    "  * [Exercici 4](#ex-four)\n",
    "  * [Exercici 5](#ex-five)\n",
    "4. [Lliurable](#section-four)\n",
    "---"
   ]
  },
  {
   "cell_type": "code",
   "execution_count": 103,
   "metadata": {
    "executionInfo": {
     "elapsed": 3615,
     "status": "ok",
     "timestamp": 1759332190341,
     "user": {
      "displayName": "Carlos Escolano Peinado",
      "userId": "17539970034125185813"
     },
     "user_tz": -120
    },
    "id": "KQ5ViCr82quX"
   },
   "outputs": [
    {
     "name": "stderr",
     "output_type": "stream",
     "text": [
      "[nltk_data] Downloading package punkt_tab to\n",
      "[nltk_data]     /home/manukali/nltk_data...\n",
      "[nltk_data]   Package punkt_tab is already up-to-date!\n",
      "[nltk_data] Downloading package wordnet to /home/manukali/nltk_data...\n",
      "[nltk_data]   Package wordnet is already up-to-date!\n"
     ]
    }
   ],
   "source": [
    "import random\n",
    "import pandas as pd\n",
    "import numpy as np\n",
    "import os\n",
    "import tensorflow as tf\n",
    "from keras.utils import to_categorical\n",
    "from keras.models import Sequential\n",
    "from keras.layers import Embedding, LSTM, Dense, GlobalMaxPooling1D, Dropout, Conv1D, GlobalAveragePooling1D, LayerNormalization #Remove\n",
    "from sklearn.preprocessing import LabelEncoder\n",
    "from tensorflow.keras.preprocessing.text import Tokenizer\n",
    "from tensorflow.keras.preprocessing.sequence import pad_sequences\n",
    "import nltk\n",
    "from nltk.stem import WordNetLemmatizer\n",
    "nltk.download('punkt_tab')\n",
    "nltk.download('wordnet')\n",
    "import matplotlib.pyplot as plt\n",
    "from sklearn.metrics import classification_report, confusion_matrix, accuracy_score\n",
    "from tqdm import tqdm\n",
    "# import seaborn as sns\n",
    "# from sklearn.metrics import accuracy_score\n",
    "tf.random.set_seed(100)"
   ]
  },
  {
   "cell_type": "code",
   "execution_count": 104,
   "metadata": {
    "colab": {
     "base_uri": "https://localhost:8080/"
    },
    "executionInfo": {
     "elapsed": 9946,
     "status": "ok",
     "timestamp": 1759332512833,
     "user": {
      "displayName": "Carlos Escolano Peinado",
      "userId": "17539970034125185813"
     },
     "user_tz": -120
    },
    "id": "xcK7bp2ztSCi",
    "outputId": "9acb7fe8-84ef-45be-d87e-f5084824aea3"
   },
   "outputs": [
    {
     "name": "stdout",
     "output_type": "stream",
     "text": [
      "Requirement already satisfied: gdown in ./TVD_P2_environment/lib/python3.13/site-packages (5.2.0)\n",
      "Requirement already satisfied: beautifulsoup4 in ./TVD_P2_environment/lib/python3.13/site-packages (from gdown) (4.14.2)\n",
      "Requirement already satisfied: filelock in ./TVD_P2_environment/lib/python3.13/site-packages (from gdown) (3.19.1)\n",
      "Requirement already satisfied: requests[socks] in ./TVD_P2_environment/lib/python3.13/site-packages (from gdown) (2.32.5)\n",
      "Requirement already satisfied: tqdm in ./TVD_P2_environment/lib/python3.13/site-packages (from gdown) (4.67.1)\n",
      "Requirement already satisfied: soupsieve>1.2 in ./TVD_P2_environment/lib/python3.13/site-packages (from beautifulsoup4->gdown) (2.8)\n",
      "Requirement already satisfied: typing-extensions>=4.0.0 in ./TVD_P2_environment/lib/python3.13/site-packages (from beautifulsoup4->gdown) (4.15.0)\n",
      "Requirement already satisfied: charset_normalizer<4,>=2 in ./TVD_P2_environment/lib/python3.13/site-packages (from requests[socks]->gdown) (3.4.3)\n",
      "Requirement already satisfied: idna<4,>=2.5 in ./TVD_P2_environment/lib/python3.13/site-packages (from requests[socks]->gdown) (3.10)\n",
      "Requirement already satisfied: urllib3<3,>=1.21.1 in ./TVD_P2_environment/lib/python3.13/site-packages (from requests[socks]->gdown) (2.5.0)\n",
      "Requirement already satisfied: certifi>=2017.4.17 in ./TVD_P2_environment/lib/python3.13/site-packages (from requests[socks]->gdown) (2025.8.3)\n",
      "Requirement already satisfied: PySocks!=1.5.7,>=1.5.6 in ./TVD_P2_environment/lib/python3.13/site-packages (from requests[socks]->gdown) (1.7.1)\n",
      "Downloading...\n",
      "From: https://drive.google.com/uc?id=1u2wzXvsuscLeFHwXcDwMDaNDy0u_99-t\n",
      "To: /home/manukali/TVD_P2/nlu_ATIS_data.tar.gz\n",
      "  0%|                                                | 0.00/122k [00:00<?, ?B/s]Downloading...\n",
      "From: https://drive.google.com/uc?id=1u2wzXvsuscLeFHwXcDwMDaNDy0u_99-t\n",
      "To: /home/manukali/TVD_P2/nlu_ATIS_data.tar.gz\n",
      "100%|████████████████████████████████████████| 122k/122k [00:00<00:00, 2.72MB/s]\n",
      "100%|████████████████████████████████████████| 122k/122k [00:00<00:00, 2.72MB/s]\n"
     ]
    }
   ],
   "source": [
    "!pip install gdown\n",
    "!gdown \"https://drive.google.com/uc?id=1u2wzXvsuscLeFHwXcDwMDaNDy0u_99-t\"\n",
    "!tar -zxf nlu_ATIS_data.tar.gz"
   ]
  },
  {
   "cell_type": "markdown",
   "metadata": {
    "id": "Q52qMS2g2X7f"
   },
   "source": [
    "<h1><a name=\"section-one\"> 1. Inspecció del conjunt de dades </a></h1>"
   ]
  },
  {
   "cell_type": "markdown",
   "metadata": {
    "id": "L8P5b9k82vcy"
   },
   "source": [
    "A la carpeta `data` tenim els diferents fitxers CSV que utilitzarem per a aquesta pràctica.\n",
    "\n",
    "En primer lloc, llegirem les dades dels fitxers CSV amb `pandas`."
   ]
  },
  {
   "cell_type": "code",
   "execution_count": 105,
   "metadata": {
    "colab": {
     "base_uri": "https://localhost:8080/"
    },
    "executionInfo": {
     "elapsed": 149,
     "status": "ok",
     "timestamp": 1759332514971,
     "user": {
      "displayName": "Carlos Escolano Peinado",
      "userId": "17539970034125185813"
     },
     "user_tz": -120
    },
    "id": "KsBfmAPsnn6n",
    "outputId": "f7f2e2a5-a859-4081-cf5c-d9b6b255d8a7"
   },
   "outputs": [
    {
     "name": "stdout",
     "output_type": "stream",
     "text": [
      "Training size: 4078\n",
      "Validation dataset size: 900\n",
      "Test dataset size: 893\n"
     ]
    }
   ],
   "source": [
    "train_data = pd.read_csv('./data/train.csv', header=None)\n",
    "val_data = train_data.tail(900)\n",
    "train_data = pd.read_csv('./data/train.csv', header=None, nrows=4078)\n",
    "test_data = pd.read_csv('./data/test.csv', header=None)\n",
    "\n",
    "print('Training size:', len(train_data))\n",
    "print('Validation dataset size:', len(val_data))\n",
    "print('Test dataset size:', len(test_data))"
   ]
  },
  {
   "cell_type": "markdown",
   "metadata": {
    "id": "zXFrLX9mvdiQ"
   },
   "source": [
    "Per a aquesta primera part de la pràctica ens centrarem en la primera columna dels arxius que correspon amb les **oracions** en anglès introduïdes per l'usuari. I en la tercera columna que correspon amb la **intenció** de cada oració, és a dir, cada oració tindrà una etiqueta.\n",
    "\n",
    "Podeu executar la cel·la següent tantes vegades com vulgueu per veure instàncies d'aquest conjunt de dades.\n"
   ]
  },
  {
   "cell_type": "code",
   "execution_count": 106,
   "metadata": {
    "colab": {
     "base_uri": "https://localhost:8080/"
    },
    "executionInfo": {
     "elapsed": 46,
     "status": "ok",
     "timestamp": 1759332518122,
     "user": {
      "displayName": "Carlos Escolano Peinado",
      "userId": "17539970034125185813"
     },
     "user_tz": -120
    },
    "id": "tJ4svJaAwQXo",
    "outputId": "9c8fd899-f817-4abe-d19f-3e3999f3d2d7"
   },
   "outputs": [
    {
     "name": "stdout",
     "output_type": "stream",
     "text": [
      "Sentence:  i need 2 first class tickets from dallas fort worth to san francisco\n",
      "Intent:  airfare\n"
     ]
    }
   ],
   "source": [
    "random_number = random.randint(0, len(train_data)-1)\n",
    "\n",
    "train_sentences = list(train_data[0])\n",
    "train_labels = list(s.replace('\"', '') for s in train_data[2])\n",
    "train_labels = list(s.replace(' ', '') for s in train_labels)\n",
    "\n",
    "print('Sentence: ', train_sentences[random_number])\n",
    "print('Intent: ', train_labels[random_number])"
   ]
  },
  {
   "cell_type": "code",
   "execution_count": 107,
   "metadata": {},
   "outputs": [],
   "source": [
    "test_sentences = list(test_data[0])"
   ]
  },
  {
   "cell_type": "markdown",
   "metadata": {
    "id": "mjhulZcA0aPG"
   },
   "source": [
    "A continuació analitzarem quantes etiquetes diferents hi ha al dataset i quines són."
   ]
  },
  {
   "cell_type": "code",
   "execution_count": 108,
   "metadata": {
    "colab": {
     "base_uri": "https://localhost:8080/"
    },
    "executionInfo": {
     "elapsed": 5,
     "status": "ok",
     "timestamp": 1759332520922,
     "user": {
      "displayName": "Carlos Escolano Peinado",
      "userId": "17539970034125185813"
     },
     "user_tz": -120
    },
    "id": "C9eS7iLazf-i",
    "outputId": "045e0f31-b2c2-410e-eb47-3c7032c62dfa"
   },
   "outputs": [
    {
     "name": "stdout",
     "output_type": "stream",
     "text": [
      "Label 0: distance\n",
      "Label 1: ground_fare\n",
      "Label 2: restriction\n",
      "Label 3: flight_no\n",
      "Label 4: abbreviation\n",
      "Label 5: airport\n",
      "Label 6: city\n",
      "Label 7: airfare\n",
      "Label 8: capacity\n",
      "Label 9: aircraft+flight+flight_no\n",
      "Label 10: quantity\n",
      "Label 11: aircraft\n",
      "Label 12: meal\n",
      "Label 13: airfare+flight_time\n",
      "Label 14: ground_service+ground_fare\n",
      "Label 15: flight_time\n",
      "Label 16: flight+airfare\n",
      "Label 17: airline\n",
      "Label 18: ground_service\n",
      "Label 19: flight\n",
      "Label 20: airline+flight_no\n",
      "Label 21: cheapest\n",
      "\n",
      "There are a total of 22 intent labels\n"
     ]
    }
   ],
   "source": [
    "num_labels = 0\n",
    "for label in set(train_labels):\n",
    "  print(f'Label {num_labels}:', label.split('.')[-1])\n",
    "  num_labels += 1\n",
    "\n",
    "print(f'\\nThere are a total of {num_labels} intent labels')"
   ]
  },
  {
   "cell_type": "markdown",
   "metadata": {
    "id": "hsjk95_B4pXY"
   },
   "source": [
    "<h1><a name=\"section-two\"> 2. Preprocessament de dades </a></h1>"
   ]
  },
  {
   "cell_type": "markdown",
   "metadata": {
    "id": "o-Ita3Yf46R5"
   },
   "source": [
    "En primer lloc, haurem de tokenitzar les oracions. Això consisteix a convertir el text en representacions numèriques, ja que els models esperen unitats discretes.\n",
    "\n",
    "En aquesta pràctica farem servir una tokenització senzilla, simplement dividirem les oracions en paraules i crearem un vocabulari basat en les paraules úniques de les dades d'entrenament. Cada paraula (token) tindrà assignat un ID únic.\n",
    "\n",
    "Vegem com queda el vocabulari."
   ]
  },
  {
   "cell_type": "code",
   "execution_count": 109,
   "metadata": {
    "colab": {
     "base_uri": "https://localhost:8080/"
    },
    "executionInfo": {
     "elapsed": 53,
     "status": "ok",
     "timestamp": 1759332523868,
     "user": {
      "displayName": "Carlos Escolano Peinado",
      "userId": "17539970034125185813"
     },
     "user_tz": -120
    },
    "id": "zbAD9luKn1X3",
    "outputId": "99cdf8e0-80f7-4b18-e82d-1adbfcf9f731"
   },
   "outputs": [
    {
     "name": "stdout",
     "output_type": "stream",
     "text": [
      "{'to': 1, 'from': 2, 'flights': 3, 'the': 4, 'on': 5, 'what': 6, 'me': 7, 'flight': 8, 'boston': 9, 'show': 10, 'san': 11, 'i': 12, 'denver': 13, 'a': 14, 'francisco': 15, 'in': 16, 'and': 17, 'atlanta': 18, 'pittsburgh': 19, 'is': 20, 'dallas': 21, 'baltimore': 22, 'all': 23, 'philadelphia': 24, 'like': 25, 'are': 26, 'list': 27, 'airlines': 28, 'of': 29, 'between': 30, 'that': 31, 'washington': 32, 'leaving': 33, 'please': 34, 'pm': 35, 'morning': 36, 'would': 37, 'fly': 38, 'for': 39, 'fare': 40, 'first': 41, 'wednesday': 42, 'after': 43, 'there': 44, 'oakland': 45, \"'d\": 46, 'ground': 47, 'you': 48, 'does': 49, 'trip': 50, 'transportation': 51, 'class': 52, 'arriving': 53, 'cheapest': 54, 'need': 55, 'city': 56, 'round': 57, 'with': 58, 'before': 59, 'which': 60, 'available': 61, 'have': 62, 'give': 63, 'at': 64, 'fares': 65, 'american': 66, 'afternoon': 67, 'one': 68, 'want': 69, 'how': 70, 'way': 71, 'new': 72, 'dc': 73, 'nonstop': 74, 'arrive': 75, 'earliest': 76, 'york': 77, 'go': 78, 'monday': 79, 'thursday': 80, 'leave': 81, 'tuesday': 82, 'united': 83, 'am': 84, 'airport': 85, 'information': 86, 'st': 87, 'find': 88, 'evening': 89, 'sunday': 90, 'can': 91, 'milwaukee': 92, 'delta': 93, 'twenty': 94, 'miami': 95, 'noon': 96, 'las': 97, 'vegas': 98, 'charlotte': 99, 'chicago': 100, 'newark': 101, 'any': 102, 'phoenix': 103, \"o'clock\": 104, 'diego': 105, \"'s\": 106, 'august': 107, 'saturday': 108, 'continental': 109, 'do': 110, 'stop': 111, 'friday': 112, 'us': 113, 'air': 114, 'orlando': 115, 'next': 116, 'seventh': 117, 'july': 118, 'airline': 119, 'tell': 120, 'kansas': 121, 'seattle': 122, '5': 123, 'houston': 124, 'toronto': 125, 'or': 126, 'early': 127, 'indianapolis': 128, 'fort': 129, 'worth': 130, 'code': 131, 'aircraft': 132, 'latest': 133, 'cost': 134, 'tomorrow': 135, 'downtown': 136, 'cleveland': 137, 'los': 138, 'angeles': 139, 'many': 140, 'salt': 141, 'lake': 142, 'stopover': 143, 'around': 144, 'going': 145, '6': 146, 'by': 147, 'see': 148, '12': 149, '10': 150, 'an': 151, 'about': 152, 'dollars': 153, '8': 154, 'june': 155, 'may': 156, 'memphis': 157, 'montreal': 158, 'type': 159, 'twa': 160, 'petersburg': 161, 'get': 162, '7': 163, 'much': 164, 'jose': 165, 'leaves': 166, 'than': 167, 'minneapolis': 168, 'expensive': 169, \"'m\": 170, 'ticket': 171, 'tacoma': 172, 'could': 173, 'mean': 174, 'tampa': 175, 'nashville': 176, 'departing': 177, 'travel': 178, 'international': 179, 'time': 180, 'service': 181, 'long': 182, 'louis': 183, 'cincinnati': 184, 'less': 185, 'depart': 186, 'detroit': 187, 'meal': 188, 'into': 189, 'daily': 190, 'columbus': 191, 'know': 192, 'least': 193, 'okay': 194, 'economy': 195, 'it': 196, 'beach': 197, 'november': 198, 'coach': 199, 'last': 200, 'night': 201, 'paul': 202, 'book': 203, 'california': 204, 'used': 205, 'serves': 206, '4': 207, 'second': 208, 'day': 209, 'northwest': 210, 'return': 211, 'kind': 212, 'lowest': 213, 'december': 214, 'love': 215, 'field': 216, '1000': 217, 'serve': 218, 'make': 219, 'general': 220, 'mitchell': 221, 'now': 222, 'september': 223, 'schedule': 224, 'third': 225, 'be': 226, 'breakfast': 227, '2': 228, 'direct': 229, 'arrives': 230, 'stops': 231, '9': 232, 'flying': 233, 'number': 234, 'times': 235, 'goes': 236, 'stopping': 237, 'la': 238, 'looking': 239, 'possible': 240, 'burbank': 241, 'served': 242, 'dl': 243, 'as': 244, 'week': 245, 'airports': 246, 'take': 247, 'cities': 248, 'also': 249, 'eighth': 250, 'connecting': 251, 'this': 252, 'fifth': 253, 'fourth': 254, 'eastern': 255, '1991': 256, 'business': 257, 'ontario': 258, 'has': 259, 'most': 260, 'out': 261, 'car': 262, 'interested': 263, 'restriction': 264, 'ua': 265, 'april': 266, 'back': 267, 'two': 268, 'fifteenth': 269, 'same': 270, 'stand': 271, 'twentieth': 272, 'flies': 273, 'through': 274, 'late': 275, 'price': 276, 'ninth': 277, 'westchester': 278, 'via': 279, 'wednesdays': 280, 'prices': 281, 'using': 282, 'will': 283, 'airfare': 284, 'returning': 285, 'display': 286, 'plane': 287, 'ap': 288, '3': 289, 'arrangements': 290, 'your': 291, 'limousine': 292, 'sixth': 293, 'then': 294, 'only': 295, 'county': 296, 'listing': 297, 'bwi': 298, 'florida': 299, 'today': 300, 'dinner': 301, 'october': 302, 'other': 303, 'under': 304, 'types': 305, 'smallest': 306, 'eleventh': 307, 'tenth': 308, 'guardia': 309, 'thirtieth': 310, '1': 311, 'lunch': 312, 'tickets': 313, 'qx': 314, 'rental': 315, 'where': 316, 'canadian': 317, 'classes': 318, 'f': 319, 'jersey': 320, 'twelfth': 321, 'makes': 322, 'should': 323, 'airplane': 324, 'colorado': 325, 'either': 326, 'north': 327, 'carolina': 328, 'live': 329, 'h': 330, 'shortest': 331, 'midwest': 332, 'express': 333, 'capacity': 334, 'fourteenth': 335, 'meals': 336, 'again': 337, 'hi': 338, '57': 339, 'y': 340, 'but': 341, 'weekday': 342, 'people': 343, 'planes': 344, 'mco': 345, 'march': 346, 'no': 347, 'sixteenth': 348, 'nineteenth': 349, 'seating': 350, 'thirty': 351, 'seventeenth': 352, 'layover': 353, 'if': 354, 'yn': 355, 'my': 356, 'transport': 357, '11': 358, 'explain': 359, 'january': 360, 'when': 361, 'use': 362, 'traveling': 363, 'right': 364, 'some': 365, 'far': 366, 'both': 367, 'booking': 368, 'q': 369, 'serving': 370, 'thank': 371, 'during': 372, 'offer': 373, 'logan': 374, 'boeing': 375, 'sfo': 376, 'trying': 377, \"'re\": 378, '466': 379, 'each': 380, '1100': 381, 'abbreviation': 382, 'landings': 383, 'hp': 384, 'over': 385, 'february': 386, 'arrival': 387, 'numbers': 388, 'arrange': 389, 'coming': 390, 'distance': 391, 'midnight': 392, 'rent': 393, 'qw': 394, 'stopovers': 395, 'thrift': 396, 'ohio': 397, '530': 398, '630': 399, 'yes': 400, 'dfw': 401, 'canada': 402, 'let': 403, '281': 404, 'name': 405, 'takeoffs': 406, 'later': 407, 'uses': 408, 'lufthansa': 409, 'departure': 410, 'hours': 411, 'mornings': 412, 'codes': 413, 'sometime': 414, '838': 415, 'arrivals': 416, 'southwest': 417, 'area': 418, '230': 419, 'cheap': 420, '430': 421, 'nationair': 422, 'jfk': 423, 'days': 424, 'costs': 425, 'starting': 426, 'hello': 427, 'provided': 428, '1115': 429, '1245': 430, '1992': 431, 'ff': 432, 'total': 433, '747': 434, '718': 435, '2100': 436, 's': 437, 'making': 438, 'destination': 439, \"'ll\": 440, 'anywhere': 441, 'requesting': 442, 'kinds': 443, 'reservation': 444, 'america': 445, 'west': 446, 'sorry': 447, 'heading': 448, 'close': 449, 'f28': 450, 'minnesota': 451, 'their': 452, 'those': 453, 'seats': 454, 'pennsylvania': 455, 'saturdays': 456, 'sixteen': 457, 'eighteenth': 458, 'offers': 459, '80': 460, 'passengers': 461, 'fit': 462, 'rates': 463, 'sa': 464, 'land': 465, 'fn': 466, 'qo': 467, 'so': 468, '825': 469, 'help': 470, 'plan': 471, 'define': 472, 'tuesdays': 473, 'connect': 474, 'ea': 475, 'thursdays': 476, 'following': 477, 'more': 478, 'nw': 479, 'ewr': 480, 'noontime': 481, 'ten': 482, 'weekdays': 483, 'near': 484, 'dc10': 485, '934': 486, 'these': 487, 'include': 488, 'another': 489, 'departs': 490, '270': 491, '415': 492, '1110': 493, '755': 494, '720': 495, 'within': 496, 'c': 497, 'snack': 498, 'rate': 499, 'sure': 500, \"'t\": 501, 'rentals': 502, '100': 503, 'abbreviations': 504, '852': 505, 'approximately': 506, 'say': 507, 'wish': 508, 'difference': 509, '737': 510, 'highest': 511, 'connection': 512, '1700': 513, 'ord': 514, '813': 515, '2134': 516, 'maximum': 517, 'choices': 518, 'database': 519, '1765': 520, 'soon': 521, 'eight': 522, 'up': 523, 'departures': 524, 'quebec': 525, 'originate': 526, 'm80': 527, 'm': 528, '72s': 529, 'cp': 530, 'carries': 531, 'co': 532, 'here': 533, 'services': 534, 'taxi': 535, '555': 536, '201': 537, 'six': 538, 'connections': 539, 'philly': 540, 'located': 541, 'ap57': 542, 'dinnertime': 543, '1039': 544, 'lastest': 545, 'amount': 546, '21': 547, 'they': 548, 'just': 549, 'limo': 550, 'describe': 551, 'originating': 552, 'stapleton': 553, 'who': 554, '343': 555, 'options': 556, '1145': 557, 'schedules': 558, 'tennessee': 559, 'without': 560, 'landing': 561, 'midway': 562, '217': 563, 'bound': 564, 'different': 565, '296': 566, '324': 567, 'michigan': 568, 'train': 569, 'well': 570, 'along': 571, 'friends': 572, 'thirteenth': 573, 'transcontinental': 574, 'missouri': 575, 'utah': 576, 'cars': 577, 'dulles': 578, 'reservations': 579, 'lives': 580, '767': 581, '269': 582, 'turboprop': 583, 'sundays': 584, '757': 585, 'meaning': 586, 'taking': 587, 'proper': 588, 'beginning': 589, 'being': 590, '329': 591, '352': 592, 'don': 593, 'serviced': 594, '1024': 595, 'such': 596, 'wanted': 597, '615': 598, 'mealtime': 599, 'provides': 600, 'prefer': 601, '1288': 602, 'four': 603, '257': 604, 'across': 605, 'continent': 606, 'overnight': 607, 'trips': 608, 'local': 609, 'route': 610, '746': 611, 'represented': 612, 'trans': 613, 'world': 614, '1030': 615, '1130': 616, 'discount': 617, 'tower': 618, '2153': 619, 'thereafter': 620, '71': 621, 'supper': 622, 'bna': 623, '106': 624, 'd9s': 625, 'afterwards': 626, '345': 627, '19': 628, '82': 629, '139': 630, 'repeating': 631, '420': 632, 'look': 633, 'regarding': 634, 'nights': 635, 'seven': 636, 'restrictions': 637, '416': 638, 'kindly': 639, 'limousines': 640, 'place': 641, 'includes': 642, '1026': 643, '124': 644, 'fifteen': 645, 'oh': 646, 'year': 647, 'including': 648, 'o': 649, \"'hare\": 650, '815': 651, '928': 652, 'bur': 653, '315': 654, '1291': 655, 'longest': 656, '1222': 657, 'grounds': 658, '200': 659, 'must': 660, 'operation': 661, 'd': 662, '297': 663, 'question': 664, 'texas': 665, 'laying': 666, '650': 667, 'tonight': 668, '3724': 669, 'ls': 670, '210': 671, '1600': 672, 'inform': 673, 'k': 674, '932': 675, 'nonstops': 676, 'aa': 677, '459': 678, 'calling': 679, 'designate': 680, 'spend': 681, 'hou': 682, '1220': 683, 'directly': 684, 'reverse': 685, 'b': 686, 'belong': 687, '445': 688, '515': 689, '150': 690, '110': 691, 'connects': 692, 'charges': 693, 'minimum': 694, 'intercontinental': 695, '727': 696, 'takeoff': 697, 'seat': 698, 'final': 699, 'capacities': 700, '823': 701, '1059': 702, '271': 703, 'alaska': 704, 'able': 705, 'put': 706, 'locate': 707, 'hartfield': 708, 'scheduled': 709, '225': 710, '1158': 711, 'equipment': 712, 'begins': 713, 'lands': 714, 'reaches': 715, 'carried': 716, 'indiana': 717, 'try': 718, '130': 719, 'arizona': 720, 'continuing': 721, 'lester': 722, 'pearson': 723, 'everywhere': 724, '73s': 725, 'whether': 726, 'offered': 727, 'we': 728, 'usa': 729, 'red': 730, 'eye': 731, '1045': 732, 'georgia': 733, 'currently': 734, 'visit': 735, 'them': 736, '55': 737, 'determine': 738, 'thing': 739, '705': 740, 'fridays': 741, 'catch': 742, 'straight': 743, 'planning': 744, 'listed': 745, '1055': 746, '405': 747, 'equal': 748, 'ac': 749, 'provide': 750, 'hopefully': 751, 'symbols': 752, 'sort': 753, 'cover': 754, '810': 755, 'operating': 756, '1205': 757, 'mondays': 758, '733': 759, 'atl': 760, 'besides': 761, 'too': 762, 'month': 763, \"'ve\": 764, 'got': 765, 'somebody': 766, 'else': 767, 'wants': 768, 'level': 769, 'vicinity': 770, '311': 771, 'mia': 772, 'instead': 773, 'repeat': 774, 'eleven': 775, 'off': 776, 'greatest': 777, 'summer': 778, '300': 779, 'lax': 780, 'economic': 781, 'bay': 782, '402': 783, '845': 784, 'j31': 785, 'date': 786, '1020': 787, '730': 788, '400': 789, 'doesn': 790, '1993': 791, 'toward': 792, 'home': 793, '1850': 794, '1505': 795, 'runs': 796, 'stands': 797, '723': 798, 'thanks': 799, 'bring': 800, 'zone': 801, 'yyz': 802, 'airplanes': 803, 'non': 804, 'buy': 805, '500': 806, 'airfares': 807, 'come': 808, '428': 809, '98': 810, 'qualify': 811, '279': 812, '137338': 813, 'd10': 814, '539': 815, 'fine': 816, 'while': 817, '1200': 818, 'ap80': 819, 'concerning': 820, 'iah': 821, '1230': 822, 'still': 823, 'preferably': 824, 'itinerary': 825, '3357': 826, '323': 827, '229': 828, 'inexpensive': 829, 'actually': 830}\n",
      "830\n"
     ]
    }
   ],
   "source": [
    "num_words=500\n",
    "tokenizer = Tokenizer(num_words)\n",
    "tokenizer.fit_on_texts(train_sentences)\n",
    "\n",
    "vocab = tokenizer.word_index #diccionario con todas las palabras del corpus y su índice ordenado por frecuencia.\n",
    "print(vocab)\n",
    "print(len(vocab))"
   ]
  },
  {
   "cell_type": "markdown",
   "metadata": {
    "id": "6hGwpkozALwY"
   },
   "source": [
    "---\n",
    "\n",
    " <h1><a name=\"ex-one\"><center> ✏ Exercici 1 ✏</a></h1>"
   ]
  },
  {
   "cell_type": "markdown",
   "metadata": {
    "id": "aUg-yEv3AQHF"
   },
   "source": [
    "En aquest primer exercici us demanem que donat el vocabulari anterior convertiu la llista d'oracions de la partició d'entrenament, és a dir, `train_sentenes` en seqüències d'IDs.\n",
    "\n",
    "Podeu trobar la documentació [aquí](https://www.tensorflow.org/api_docs/python/tf/keras/preprocessing/text/Tokenizer)."
   ]
  },
  {
   "cell_type": "code",
   "execution_count": 110,
   "metadata": {
    "id": "GKe6R8slB3BY"
   },
   "outputs": [
    {
     "name": "stdout",
     "output_type": "stream",
     "text": [
      "i want to fly from boston at 838 am and arrive in denver at 1110 in the morning\n",
      "[12, 69, 1, 38, 2, 9, 64, 415, 84, 17, 75, 16, 13, 64, 493, 16, 4, 36]\n"
     ]
    }
   ],
   "source": [
    "train_sequences = tokenizer.texts_to_sequences(train_sentences)\n",
    "print(train_sentences[0])\n",
    "print(train_sequences[0])"
   ]
  },
  {
   "cell_type": "markdown",
   "metadata": {
    "id": "hWD1yHt6B5-v"
   },
   "source": [
    "Si ho heu fet correctament hauríeu d'obtenir això:\n",
    "\n",
    "```\n",
    "print(train_sentences[0])\n",
    "print(train_sequences[0])\n",
    "\n",
    "i want to fly from boston at 838 am and arrive in denver at 1110 in the morning\n",
    "[12, 69, 1, 38, 2, 9, 64, 415, 84, 17, 75, 16, 13, 64, 493, 16, 4, 36]\n",
    "```\n",
    "\n"
   ]
  },
  {
   "cell_type": "markdown",
   "metadata": {
    "id": "o0XsJ2MBDN-C"
   },
   "source": [
    "---\n",
    "A continuació haurem d'aconseguir que totes les seqüències tinguen una longitud fixa. Per a fer això primer fixarem la longitud segons la longitud màxima trobada a les seqüències del conjunt d'entrenament. I a continuació omplirem (*pad*) les seqüències que tinguen una longitud menor.\n"
   ]
  },
  {
   "cell_type": "code",
   "execution_count": 111,
   "metadata": {
    "id": "pCZCtmemEJcC"
   },
   "outputs": [
    {
     "name": "stdout",
     "output_type": "stream",
     "text": [
      "Padded sequence:  [  0   0   0   0   0   0   0   0   0   0   0   0   0   0   0   0   0   0\n",
      "   0   0   0   0   0   0   0   0   0  12  69   1  38   2   9  64 415  84\n",
      "  17  75  16  13  64 493  16   4  36]\n",
      "45\n"
     ]
    }
   ],
   "source": [
    "max_sequence_length = max(map(len, train_sequences))\n",
    "\n",
    "\n",
    "train_pad_sequences = pad_sequences(train_sequences, maxlen=max_sequence_length)\n",
    "print('Padded sequence: ', train_pad_sequences[0])\n",
    "print(len(train_pad_sequences[0]))"
   ]
  },
  {
   "cell_type": "markdown",
   "metadata": {
    "id": "pra9IsdHF__M"
   },
   "source": [
    "---\n",
    "\n",
    " <h1><a name=\"ex-two\"><center> ✏ Exercici 2 ✏</a></h1>"
   ]
  },
  {
   "cell_type": "markdown",
   "metadata": {
    "id": "PBgfE1taGCFZ"
   },
   "source": [
    "Com l'ordre de les paraules sí que importa als models que utilitzarem en aquesta pràctica, és aconsellable que el *padding* estiga al final i no al principi. Busqueu [aquí](https://www.tensorflow.org/api_docs/python/tf/keras/utils/pad_sequences) com fer perquè el codi anterior afegisca els zeros al final i no al principi de la seqüència."
   ]
  },
  {
   "cell_type": "code",
   "execution_count": 112,
   "metadata": {
    "id": "VpZd7KQsHIEH"
   },
   "outputs": [
    {
     "name": "stdout",
     "output_type": "stream",
     "text": [
      "Padded sequence:  [ 12  69   1  38   2   9  64 415  84  17  75  16  13  64 493  16   4  36\n",
      "   0   0   0   0   0   0   0   0   0   0   0   0   0   0   0   0   0   0\n",
      "   0   0   0   0   0   0   0   0   0]\n"
     ]
    }
   ],
   "source": [
    "#TODO\n",
    " \n",
    "train_pad_sequences = pad_sequences(train_sequences, maxlen=max_sequence_length, padding='post')\n",
    "\n",
    "print('Padded sequence: ', train_pad_sequences[0])"
   ]
  },
  {
   "cell_type": "markdown",
   "metadata": {},
   "source": [
    "Si ho heu fet correctament hauríeu d'obtenir això:\n",
    "\n",
    "```\n",
    "print('Padded sequence: ', train_pad_sequences[0])\n",
    "\n",
    "Padded sequence:  [ 12  69   1  38   2   9  64 415  84  17  75  16  13  64 493  16   4  36\n",
    "   0   0   0   0   0   0   0   0   0   0   0   0   0   0   0   0   0   0\n",
    "   0   0   0   0   0   0   0   0   0]\n",
    "```\n"
   ]
  },
  {
   "cell_type": "markdown",
   "metadata": {
    "id": "KjuIPHd7HNRY"
   },
   "source": [
    "---"
   ]
  },
  {
   "cell_type": "markdown",
   "metadata": {
    "id": "_l6lJA9mHj3j"
   },
   "source": [
    "A continuació convertirem les classes d'intencions categòriques (*capacity*, *ground_service*, *flight*, etc.) en el que anomenem one-hot vector encoding. Aquesta tècnica s'utilitza per representar les dades categòriques com a vectors binaris. On cada vector representa una classe específica i l'element corresponent a la classe es posa a 1 i la resta d'elements es mantenen a 0.\n",
    "\n",
    "Imaginem que tenim tres classes: *capacity*, *ground_service*, *flight*. Podríem codificar aquestes classes amb un vector únic de la forma següent:\n",
    "\n",
    "\n",
    "```\n",
    "   capacity -> [1, 0, 0]\n",
    "   ground_service -> [0, 1, 0]\n",
    "   flight -> [0, 0, 1]\n",
    "```\n",
    "\n",
    "Per aconseguir això primer codificarem les classes d'intenció en etiquetes numèriques."
   ]
  },
  {
   "cell_type": "code",
   "execution_count": 113,
   "metadata": {
    "id": "j8c6wt1Pb7fw"
   },
   "outputs": [
    {
     "name": "stdout",
     "output_type": "stream",
     "text": [
      "Original labels: ['flight', 'flight', 'flight_time', 'airfare', 'airfare', 'flight', 'aircraft', 'flight', 'flight', 'ground_service', 'flight', 'flight', 'airport', 'flight', 'flight', 'airfare', 'ground_service', 'flight', 'flight', 'flight', 'flight', 'flight', 'flight', 'aircraft', 'airfare', 'flight', 'airline', 'flight', 'ground_service', 'flight', 'airfare', 'flight', 'flight', 'flight', 'flight', 'airfare', 'airline', 'flight', 'flight', 'flight', 'distance', 'flight', 'airline', 'airline', 'flight', 'airline', 'ground_service', 'abbreviation', 'flight', 'flight', 'flight_time', 'flight', 'flight', 'ground_fare', 'flight', 'abbreviation', 'flight', 'flight', 'flight', 'flight', 'flight', 'airline', 'flight', 'ground_service', 'airline', 'flight', 'flight', 'airport', 'flight', 'flight', 'abbreviation', 'flight', 'flight', 'flight', 'flight', 'aircraft', 'airfare', 'flight', 'flight', 'flight', 'flight', 'flight', 'flight', 'flight', 'airline', 'flight', 'flight', 'flight', 'flight', 'flight', 'flight', 'flight', 'airfare', 'flight', 'distance', 'ground_service', 'quantity', 'flight', 'flight', 'flight', 'flight', 'flight', 'flight', 'flight', 'city', 'ground_fare', 'flight', 'ground_service', 'flight', 'flight', 'flight', 'flight', 'flight', 'flight', 'flight', 'flight', 'flight', 'flight', 'flight', 'flight', 'flight', 'ground_service', 'airline', 'flight', 'flight', 'flight', 'flight', 'flight', 'aircraft', 'flight', 'flight', 'flight', 'flight', 'flight', 'flight', 'flight', 'flight', 'flight', 'flight', 'airfare', 'ground_service', 'airfare', 'abbreviation', 'flight', 'airfare', 'ground_service', 'flight', 'flight', 'flight', 'flight', 'flight', 'flight', 'airfare', 'flight', 'flight', 'flight', 'flight', 'flight', 'flight', 'flight', 'flight', 'flight', 'flight', 'flight', 'flight', 'ground_service', 'flight', 'flight', 'airfare', 'flight', 'flight', 'flight', 'flight', 'flight', 'flight', 'flight', 'flight', 'flight', 'airfare', 'airfare', 'flight', 'flight', 'flight', 'flight', 'flight', 'flight', 'ground_service', 'flight', 'flight', 'ground_service', 'flight', 'flight', 'flight', 'flight', 'flight', 'flight', 'flight', 'flight', 'flight', 'flight', 'flight', 'flight', 'flight_time', 'ground_service', 'airline', 'quantity', 'flight', 'flight', 'flight', 'flight', 'airline', 'flight', 'flight', 'flight', 'flight', 'flight', 'ground_service', 'flight', 'flight', 'flight', 'flight', 'ground_service', 'flight', 'abbreviation', 'flight', 'flight', 'ground_service', 'flight', 'flight', 'airfare', 'flight', 'flight', 'flight', 'airfare', 'flight', 'flight', 'flight', 'flight', 'flight', 'flight', 'flight', 'flight', 'flight', 'flight', 'ground_service', 'flight', 'flight', 'airfare', 'flight', 'flight', 'flight', 'flight', 'flight', 'flight', 'flight', 'flight', 'flight', 'flight', 'airline', 'flight', 'flight', 'abbreviation', 'flight', 'flight', 'airfare', 'flight', 'flight', 'flight', 'flight', 'flight', 'flight', 'aircraft', 'abbreviation', 'flight', 'flight', 'airfare', 'flight', 'airline', 'flight', 'airline', 'flight', 'flight', 'flight', 'flight', 'flight', 'airfare', 'flight', 'flight', 'flight', 'flight', 'flight', 'flight', 'flight', 'flight', 'flight', 'flight', 'flight', 'flight', 'flight', 'flight', 'flight', 'flight', 'flight', 'flight', 'flight', 'flight', 'flight', 'flight', 'flight', 'flight', 'flight', 'aircraft', 'flight', 'flight', 'flight_time', 'flight', 'flight', 'flight', 'flight', 'flight', 'flight', 'flight', 'flight', 'airfare', 'flight', 'flight', 'abbreviation', 'flight', 'flight', 'quantity', 'flight_no', 'flight', 'flight', 'flight', 'flight', 'airfare', 'abbreviation', 'flight', 'ground_service', 'flight', 'flight', 'flight', 'flight', 'flight', 'flight', 'airfare', 'flight', 'flight', 'ground_service', 'flight', 'flight', 'airline', 'flight', 'quantity', 'flight', 'flight', 'flight', 'flight', 'airfare', 'flight', 'flight', 'city', 'flight', 'flight', 'flight', 'flight', 'flight', 'flight', 'airfare', 'flight', 'flight', 'flight', 'flight', 'flight', 'flight', 'flight', 'flight', 'flight', 'flight', 'flight', 'flight_time', 'flight', 'quantity', 'flight_time', 'flight', 'quantity', 'flight', 'flight', 'flight', 'airline', 'flight', 'flight', 'flight', 'flight', 'flight', 'flight', 'flight', 'flight', 'flight', 'flight', 'flight', 'flight', 'flight', 'abbreviation', 'flight', 'flight', 'airfare', 'flight', 'flight', 'flight', 'flight', 'flight', 'flight', 'flight', 'flight', 'quantity', 'flight', 'flight', 'flight', 'aircraft', 'abbreviation', 'flight', 'capacity', 'flight', 'flight', 'flight', 'flight', 'flight', 'airfare', 'flight', 'flight', 'abbreviation', 'ground_service', 'flight', 'flight', 'flight', 'flight', 'airfare', 'flight', 'flight', 'flight', 'flight', 'flight', 'airfare', 'flight', 'flight', 'flight', 'flight', 'airfare', 'flight', 'airfare', 'flight', 'quantity', 'flight', 'flight', 'flight', 'flight', 'flight', 'flight', 'flight', 'flight', 'flight', 'flight', 'flight', 'flight', 'flight', 'flight', 'flight', 'flight', 'flight', 'flight', 'flight', 'airfare', 'flight', 'flight', 'airfare', 'flight', 'flight', 'flight', 'flight', 'flight', 'flight_time', 'ground_service', 'flight', 'airfare', 'flight', 'ground_service', 'flight', 'flight', 'flight', 'flight', 'airline', 'flight', 'flight', 'flight', 'ground_service', 'flight', 'flight', 'flight', 'airline', 'airfare', 'flight', 'flight', 'airfare', 'flight', 'flight', 'flight', 'distance', 'flight', 'airfare', 'flight', 'flight', 'airfare', 'flight', 'flight', 'ground_service', 'flight', 'ground_service', 'abbreviation', 'flight', 'flight', 'flight', 'flight', 'flight', 'flight', 'flight', 'flight', 'airline', 'airfare', 'flight', 'airline', 'flight', 'flight', 'flight', 'quantity', 'flight', 'flight', 'airfare', 'flight', 'airfare', 'flight', 'flight', 'flight', 'flight', 'flight', 'flight', 'flight', 'flight', 'aircraft', 'flight', 'flight', 'flight', 'flight', 'flight', 'flight', 'flight', 'flight', 'flight', 'ground_service', 'flight', 'flight', 'flight', 'flight', 'abbreviation', 'flight', 'flight', 'airfare', 'flight', 'flight', 'flight', 'flight+airfare', 'flight', 'flight', 'ground_service', 'flight', 'flight', 'quantity', 'flight', 'flight', 'flight', 'flight', 'airline', 'flight', 'flight', 'flight', 'airfare', 'flight', 'flight', 'flight', 'abbreviation', 'flight', 'airfare', 'flight', 'flight', 'flight', 'flight', 'flight', 'ground_fare', 'airline', 'flight', 'airfare', 'ground_service', 'flight+airfare', 'airfare', 'flight', 'flight', 'flight', 'flight', 'flight', 'flight', 'flight', 'flight', 'flight', 'flight', 'airfare', 'flight', 'airline', 'flight', 'airfare', 'abbreviation', 'flight', 'airfare', 'airfare', 'flight', 'flight', 'flight', 'capacity', 'flight', 'flight', 'flight', 'flight', 'ground_service', 'flight', 'airfare', 'flight', 'airfare', 'flight', 'flight', 'flight', 'flight', 'abbreviation', 'flight', 'flight', 'flight', 'flight', 'flight_time', 'flight', 'airfare', 'flight', 'flight', 'airfare', 'flight', 'airfare', 'ground_service', 'flight', 'flight', 'airfare', 'flight', 'flight', 'flight', 'abbreviation', 'flight', 'flight', 'flight', 'airfare', 'flight', 'flight', 'flight', 'flight', 'flight', 'flight', 'airport', 'flight', 'flight', 'flight', 'flight', 'airline', 'airline', 'flight', 'flight', 'flight', 'quantity', 'airfare', 'flight', 'flight', 'flight', 'flight', 'ground_service', 'quantity', 'flight', 'flight', 'flight', 'flight', 'airfare', 'flight', 'flight', 'flight', 'flight', 'flight', 'airfare', 'flight', 'flight', 'flight', 'flight', 'flight', 'airfare', 'flight', 'flight', 'flight', 'flight', 'quantity', 'flight', 'flight', 'aircraft', 'flight', 'flight', 'flight', 'flight', 'flight', 'flight+airfare', 'flight', 'aircraft', 'airfare', 'flight', 'flight', 'flight', 'flight', 'airfare', 'aircraft', 'quantity', 'abbreviation', 'flight', 'flight', 'flight', 'aircraft', 'flight', 'flight', 'flight', 'abbreviation', 'ground_service', 'flight', 'flight', 'flight', 'airfare', 'ground_service', 'ground_service', 'flight', 'abbreviation', 'flight', 'meal', 'flight', 'flight', 'flight', 'flight', 'flight', 'flight', 'flight', 'flight', 'ground_service', 'flight', 'flight', 'flight', 'airline', 'flight', 'flight', 'flight', 'flight', 'flight', 'ground_service', 'flight', 'flight', 'flight', 'flight', 'airfare', 'flight_time', 'distance', 'flight', 'ground_service', 'airfare', 'airport', 'flight', 'flight', 'airport', 'flight', 'flight', 'flight', 'flight', 'flight', 'flight', 'flight', 'flight', 'ground_service', 'flight', 'flight', 'flight', 'flight', 'airfare', 'flight', 'airfare', 'flight', 'flight', 'flight_time', 'flight', 'flight', 'capacity', 'abbreviation', 'flight', 'flight', 'flight', 'flight', 'airfare', 'airfare', 'ground_service', 'flight', 'flight', 'flight', 'flight', 'flight_time', 'flight', 'flight', 'airfare', 'flight', 'flight', 'ground_fare', 'flight', 'airfare', 'flight', 'abbreviation', 'aircraft', 'flight', 'aircraft', 'flight', 'flight', 'airfare', 'flight', 'flight', 'airline', 'abbreviation', 'flight', 'abbreviation', 'flight', 'restriction', 'flight', 'flight', 'flight', 'airfare', 'flight', 'flight', 'flight', 'flight', 'aircraft', 'flight', 'flight', 'flight', 'flight', 'flight', 'ground_service', 'flight', 'flight', 'flight+airfare', 'flight', 'flight', 'flight', 'flight', 'flight', 'flight', 'flight', 'abbreviation', 'flight', 'flight', 'flight', 'flight', 'flight', 'abbreviation', 'flight', 'flight', 'abbreviation', 'airfare', 'flight', 'flight_no', 'airfare', 'flight', 'airfare', 'flight', 'flight', 'flight', 'flight', 'aircraft', 'flight', 'ground_service', 'ground_service', 'flight', 'flight', 'flight', 'flight', 'flight', 'airfare', 'flight', 'quantity', 'flight', 'distance', 'flight', 'airfare', 'flight', 'ground_service', 'flight', 'flight', 'flight', 'flight', 'flight', 'flight', 'flight', 'flight', 'airfare', 'flight', 'flight', 'flight', 'flight', 'flight', 'flight', 'ground_service', 'flight', 'airfare', 'flight', 'flight', 'flight', 'flight', 'flight', 'flight', 'flight', 'flight', 'flight', 'flight', 'flight', 'flight', 'flight', 'flight', 'ground_service', 'flight', 'flight', 'flight', 'flight', 'quantity', 'flight', 'flight', 'flight', 'flight', 'flight', 'flight', 'flight', 'flight_time', 'ground_service', 'flight', 'airline', 'flight', 'flight', 'flight', 'aircraft', 'flight_time', 'flight', 'airfare', 'flight_no', 'flight', 'airline', 'flight', 'flight', 'flight', 'flight', 'airfare', 'flight', 'flight', 'flight', 'abbreviation', 'flight', 'flight', 'flight', 'flight', 'airfare', 'flight', 'flight', 'flight', 'airline', 'abbreviation', 'flight', 'flight', 'flight', 'flight', 'airline', 'flight', 'flight', 'flight', 'flight', 'flight', 'airline', 'flight', 'flight', 'flight', 'flight', 'flight', 'flight', 'flight', 'flight', 'flight', 'flight', 'flight', 'flight', 'airline', 'airfare', 'flight', 'flight', 'flight', 'flight', 'flight', 'flight', 'flight', 'capacity', 'flight', 'flight', 'flight', 'flight', 'flight', 'airfare', 'flight', 'flight', 'flight', 'flight', 'abbreviation', 'flight', 'airfare', 'flight_time', 'flight', 'flight', 'flight', 'flight', 'airline', 'flight', 'flight', 'flight', 'flight', 'flight', 'flight', 'flight', 'flight', 'flight', 'flight', 'flight', 'flight', 'flight', 'flight', 'airfare', 'flight', 'flight', 'flight', 'flight', 'flight', 'flight', 'flight', 'airfare', 'airfare', 'flight', 'airfare', 'flight', 'flight', 'ground_service', 'flight', 'flight', 'flight', 'flight', 'flight', 'flight', 'flight', 'airfare', 'flight', 'flight', 'flight', 'flight', 'flight', 'flight', 'flight', 'flight', 'airfare', 'flight', 'flight', 'flight', 'flight', 'flight', 'flight', 'flight', 'flight_time', 'flight', 'flight', 'flight', 'flight', 'flight', 'flight', 'aircraft', 'flight', 'flight', 'flight', 'flight', 'flight', 'flight', 'flight', 'flight', 'flight', 'flight', 'flight', 'flight', 'flight', 'flight', 'airline', 'airline', 'flight', 'flight', 'flight', 'airfare', 'airline', 'airline', 'flight', 'airfare', 'flight', 'flight', 'aircraft', 'airfare', 'flight', 'flight', 'flight', 'flight', 'flight', 'flight', 'flight', 'flight', 'flight', 'flight', 'abbreviation', 'flight', 'airfare', 'flight', 'airline', 'airfare', 'flight', 'flight', 'airline', 'quantity', 'flight', 'flight', 'airfare', 'flight', 'abbreviation', 'flight', 'flight', 'ground_service', 'flight', 'ground_service', 'flight', 'airfare', 'flight', 'flight', 'flight', 'flight', 'flight', 'city', 'abbreviation', 'flight', 'flight', 'flight', 'flight', 'abbreviation', 'flight', 'flight', 'flight', 'airfare', 'flight', 'flight', 'flight', 'flight_time', 'airline', 'flight', 'flight', 'flight', 'flight', 'flight', 'flight', 'flight', 'flight', 'restriction', 'flight', 'flight', 'flight', 'flight', 'flight', 'flight', 'flight', 'flight', 'flight', 'flight', 'flight', 'flight', 'flight', 'aircraft', 'flight', 'airfare', 'flight', 'flight', 'ground_service', 'flight', 'aircraft', 'flight', 'airfare', 'flight', 'airfare', 'flight', 'flight', 'flight', 'flight', 'flight', 'flight', 'flight', 'flight', 'flight', 'flight', 'ground_service', 'aircraft', 'abbreviation', 'flight', 'airfare', 'flight', 'distance', 'flight', 'airfare', 'aircraft', 'flight', 'flight', 'flight', 'flight', 'flight', 'ground_service', 'flight', 'flight', 'flight', 'flight', 'flight', 'flight', 'flight', 'flight', 'flight', 'flight', 'flight', 'flight', 'flight', 'airfare', 'flight', 'airfare', 'flight', 'flight', 'flight_no', 'flight', 'flight', 'flight', 'airfare', 'flight', 'flight', 'aircraft', 'airline', 'flight', 'flight', 'flight', 'flight', 'flight', 'flight', 'flight', 'aircraft', 'flight', 'flight', 'airfare', 'flight', 'aircraft', 'flight', 'quantity', 'flight', 'abbreviation', 'flight', 'flight', 'flight', 'flight', 'flight', 'flight', 'flight', 'flight', 'flight', 'ground_service', 'flight', 'flight', 'flight', 'flight', 'flight', 'flight', 'flight', 'flight', 'flight', 'ground_service', 'flight', 'quantity', 'flight', 'ground_fare', 'flight', 'flight', 'flight', 'flight', 'quantity', 'flight', 'flight', 'flight', 'flight', 'flight', 'flight', 'flight', 'flight', 'ground_service', 'flight', 'abbreviation', 'flight', 'flight', 'flight', 'flight', 'flight+airfare', 'airfare', 'airfare', 'flight', 'flight', 'flight', 'flight', 'flight', 'flight', 'flight', 'flight', 'ground_service', 'flight', 'flight', 'flight', 'airfare', 'flight', 'flight', 'flight', 'aircraft', 'flight', 'flight', 'flight', 'flight', 'flight', 'flight', 'flight', 'ground_service', 'flight', 'ground_service', 'ground_fare', 'abbreviation', 'airline', 'airfare', 'airfare', 'flight', 'flight', 'flight', 'flight', 'flight', 'flight', 'flight', 'flight', 'flight', 'flight', 'flight', 'airline', 'airfare', 'airfare', 'flight', 'flight', 'flight', 'ground_service', 'flight', 'flight', 'flight', 'flight', 'flight', 'flight', 'airfare', 'flight', 'flight', 'flight', 'airfare', 'flight', 'flight', 'flight', 'flight', 'flight', 'flight', 'flight', 'flight', 'ground_service', 'flight', 'ground_service', 'flight', 'flight', 'flight', 'flight', 'flight', 'flight', 'abbreviation', 'flight', 'flight', 'flight', 'ground_fare', 'flight', 'flight', 'flight', 'ground_service', 'flight', 'aircraft', 'ground_service', 'flight', 'airline', 'flight', 'ground_service', 'flight', 'flight', 'flight', 'flight', 'abbreviation', 'ground_service', 'flight', 'flight', 'flight', 'flight', 'flight', 'flight', 'airfare', 'airfare', 'quantity', 'flight', 'flight', 'flight', 'flight', 'flight', 'flight', 'flight', 'flight', 'abbreviation', 'flight', 'flight', 'flight', 'flight', 'ground_service', 'city', 'flight', 'airfare', 'flight', 'abbreviation', 'flight', 'flight', 'airport', 'flight', 'flight', 'flight', 'flight', 'airfare', 'ground_service', 'airfare', 'ground_service', 'flight', 'flight', 'flight', 'airline', 'flight', 'flight', 'flight', 'flight', 'flight', 'ground_service', 'flight', 'flight', 'flight', 'flight', 'flight', 'flight', 'flight', 'airfare', 'flight', 'flight', 'abbreviation', 'flight', 'flight', 'flight', 'flight', 'flight', 'flight', 'flight', 'flight', 'flight', 'flight', 'flight', 'flight', 'airfare', 'flight', 'flight', 'airfare', 'flight', 'flight', 'aircraft', 'flight', 'flight', 'flight', 'flight', 'flight', 'flight', 'flight', 'flight', 'flight', 'flight', 'ground_service', 'airline', 'flight_time', 'airfare', 'flight', 'airfare', 'flight', 'flight', 'flight', 'flight', 'flight', 'aircraft', 'flight', 'flight', 'flight', 'flight', 'flight', 'flight', 'airfare', 'airfare', 'flight', 'flight', 'flight', 'flight', 'flight', 'flight', 'flight', 'airfare', 'airfare', 'flight', 'flight', 'flight', 'flight', 'flight', 'flight', 'flight', 'flight', 'flight', 'flight', 'flight', 'flight', 'flight', 'flight', 'ground_service', 'capacity', 'flight', 'flight', 'flight', 'flight', 'abbreviation', 'flight', 'flight', 'flight', 'airfare', 'flight', 'flight', 'flight', 'flight', 'flight', 'flight', 'flight', 'aircraft', 'flight', 'flight', 'flight', 'aircraft', 'abbreviation', 'flight', 'flight', 'flight', 'abbreviation', 'flight', 'flight', 'flight', 'airline', 'flight', 'flight', 'distance', 'flight', 'flight', 'flight', 'flight', 'flight_time', 'flight', 'airfare', 'flight', 'flight', 'flight', 'flight', 'flight', 'airfare', 'flight', 'flight', 'flight', 'quantity', 'quantity', 'flight', 'flight', 'flight', 'airfare', 'flight', 'flight', 'quantity', 'flight', 'ground_service', 'flight', 'flight', 'flight', 'flight', 'flight', 'flight', 'flight', 'flight', 'flight', 'flight', 'flight', 'flight', 'flight', 'flight', 'flight', 'flight', 'flight', 'flight', 'flight', 'flight', 'flight', 'flight', 'airfare', 'flight', 'flight', 'airfare', 'flight', 'flight', 'flight', 'airline', 'flight', 'flight', 'flight', 'flight_time', 'flight', 'flight', 'flight', 'flight', 'flight', 'flight', 'flight', 'flight', 'ground_service', 'flight', 'flight', 'flight', 'abbreviation', 'flight', 'airfare', 'flight', 'flight', 'airfare', 'flight', 'flight', 'flight', 'flight', 'flight', 'airline', 'flight', 'flight', 'flight', 'flight', 'flight', 'abbreviation', 'flight', 'flight', 'flight', 'flight', 'flight', 'flight', 'flight', 'flight', 'flight_no', 'ground_service', 'flight', 'flight', 'flight', 'flight', 'flight', 'flight_no', 'flight', 'flight', 'flight', 'ground_service', 'flight', 'airfare', 'flight_time', 'flight', 'flight', 'flight', 'flight', 'flight', 'flight', 'flight', 'flight', 'flight', 'flight', 'flight', 'airfare', 'flight', 'ground_service', 'flight', 'flight', 'abbreviation', 'flight', 'flight', 'flight', 'flight', 'quantity', 'flight', 'flight', 'flight', 'flight', 'flight', 'flight', 'flight', 'flight', 'flight', 'flight', 'aircraft', 'flight', 'flight', 'flight', 'flight', 'airfare', 'flight', 'ground_service', 'flight', 'airfare', 'flight', 'flight', 'flight', 'flight', 'flight', 'flight', 'flight', 'flight', 'airfare', 'flight', 'airfare', 'airline', 'flight', 'flight', 'flight', 'flight', 'flight', 'flight', 'flight+airfare', 'flight', 'flight', 'flight', 'airfare', 'flight', 'flight', 'flight', 'airline', 'flight', 'flight', 'flight', 'flight', 'flight', 'ground_service', 'flight', 'flight', 'airline', 'flight', 'flight', 'airfare', 'flight', 'flight', 'ground_service', 'quantity', 'flight', 'airline', 'ground_service', 'airfare', 'flight', 'flight', 'flight', 'flight', 'airfare', 'flight_time', 'flight', 'flight', 'flight', 'flight', 'flight', 'airfare', 'flight', 'flight', 'flight', 'city', 'flight', 'flight', 'flight', 'flight', 'flight', 'ground_service', 'flight', 'ground_service', 'flight', 'flight', 'flight', 'airfare', 'ground_service', 'airfare', 'airfare', 'abbreviation', 'flight', 'airfare', 'flight', 'flight', 'flight', 'flight', 'flight', 'flight', 'flight', 'flight', 'flight', 'flight', 'flight', 'flight', 'airline', 'flight', 'flight', 'flight', 'airfare', 'ground_service', 'flight', 'flight', 'aircraft', 'flight', 'airfare', 'flight', 'flight', 'flight', 'flight', 'flight', 'flight', 'flight', 'flight', 'flight', 'airfare', 'quantity', 'flight', 'flight', 'flight', 'flight', 'flight', 'airline', 'flight', 'flight', 'ground_service', 'capacity', 'flight', 'ground_service', 'flight', 'flight', 'flight', 'flight', 'flight', 'flight', 'flight', 'airfare', 'flight', 'flight', 'flight', 'flight', 'airfare', 'airline', 'flight', 'flight', 'airfare', 'flight', 'flight', 'quantity', 'ground_service', 'flight', 'flight', 'flight', 'quantity', 'airline', 'ground_service', 'flight', 'flight', 'flight', 'flight', 'flight', 'abbreviation', 'flight', 'flight', 'flight', 'flight', 'distance', 'flight', 'flight', 'flight', 'flight', 'ground_service', 'flight', 'flight', 'flight_time', 'flight', 'flight', 'airfare', 'flight', 'flight', 'flight', 'flight', 'abbreviation', 'flight', 'flight', 'flight', 'airfare', 'flight', 'airfare', 'flight', 'ground_service', 'flight', 'flight', 'airline', 'flight', 'flight', 'airline', 'flight', 'flight', 'aircraft', 'flight', 'flight', 'flight', 'ground_service', 'flight', 'flight', 'flight', 'flight', 'flight', 'airfare', 'flight', 'flight', 'flight', 'flight', 'flight', 'flight', 'flight', 'airfare', 'flight', 'airfare', 'airline', 'flight', 'abbreviation', 'flight', 'flight', 'ground_service', 'flight', 'flight', 'flight', 'airfare', 'flight', 'flight', 'flight', 'flight', 'flight_time', 'ground_service', 'flight', 'flight', 'flight', 'flight', 'flight', 'airfare', 'flight', 'flight', 'flight', 'flight', 'flight', 'ground_service', 'ground_service', 'flight', 'ground_service', 'flight', 'flight', 'flight', 'flight', 'airfare', 'flight', 'flight', 'flight', 'quantity', 'flight', 'flight', 'flight', 'flight', 'flight', 'airline', 'flight', 'flight', 'ground_service', 'flight', 'flight+airfare', 'flight', 'abbreviation', 'flight', 'flight', 'flight', 'flight', 'capacity', 'airfare', 'flight', 'airfare', 'airline+flight_no', 'airport', 'airline', 'airfare', 'airfare', 'flight', 'airline', 'flight', 'ground_service', 'flight', 'flight', 'flight', 'flight', 'flight', 'flight', 'flight', 'ground_service', 'aircraft', 'flight', 'flight', 'quantity', 'flight', 'flight', 'flight', 'flight', 'flight', 'flight', 'flight', 'ground_fare', 'flight', 'flight', 'flight', 'flight', 'flight', 'flight', 'flight', 'abbreviation', 'flight', 'flight', 'flight', 'flight', 'flight', 'flight', 'flight', 'abbreviation', 'flight', 'flight', 'airline', 'flight', 'flight', 'flight', 'flight', 'flight', 'flight', 'flight', 'flight', 'flight', 'flight', 'aircraft', 'flight', 'flight', 'city', 'flight', 'flight', 'flight', 'flight', 'flight', 'flight', 'airfare', 'flight', 'flight', 'flight', 'flight', 'flight', 'flight', 'flight', 'flight', 'flight', 'flight', 'flight', 'flight', 'flight', 'quantity', 'airfare', 'flight', 'flight', 'airline', 'flight', 'flight', 'flight', 'flight', 'flight', 'abbreviation', 'abbreviation', 'aircraft', 'flight', 'flight', 'flight', 'flight', 'airport', 'aircraft', 'flight', 'flight', 'airfare', 'flight', 'flight', 'ground_fare', 'flight', 'flight', 'flight', 'flight', 'flight', 'flight', 'flight', 'flight', 'flight', 'flight', 'airline', 'flight', 'flight', 'flight', 'flight', 'flight', 'flight', 'flight', 'flight', 'flight', 'flight', 'flight', 'airfare', 'flight', 'flight_time', 'abbreviation', 'flight', 'flight', 'flight', 'flight', 'flight', 'flight', 'flight', 'flight', 'flight', 'flight', 'flight', 'flight', 'flight', 'capacity', 'flight', 'flight', 'airfare', 'flight', 'flight', 'flight', 'flight', 'flight', 'flight', 'flight', 'flight', 'flight', 'quantity', 'flight', 'flight', 'flight', 'flight', 'aircraft', 'flight', 'flight', 'flight', 'flight', 'airline', 'flight', 'flight', 'flight', 'airfare', 'flight', 'airfare', 'flight_time', 'flight', 'flight_time', 'flight', 'flight', 'flight', 'airfare', 'flight', 'flight', 'airfare', 'flight', 'flight', 'flight', 'flight', 'flight', 'flight', 'flight', 'flight', 'ground_service', 'flight', 'flight', 'flight', 'ground_service', 'flight', 'airline', 'flight', 'flight', 'flight', 'flight', 'aircraft', 'ground_service', 'airline', 'flight', 'flight', 'airfare', 'flight', 'flight', 'flight', 'flight', 'flight', 'flight', 'flight', 'ground_service', 'flight', 'flight', 'flight', 'aircraft', 'flight', 'flight', 'flight', 'flight', 'flight', 'flight', 'flight', 'flight', 'ground_service', 'flight', 'quantity', 'flight', 'flight', 'flight', 'flight', 'flight', 'flight', 'airfare', 'flight', 'distance', 'flight', 'flight', 'ground_service', 'flight', 'flight', 'flight', 'ground_service', 'flight', 'flight', 'flight', 'flight', 'flight', 'flight', 'flight', 'flight', 'flight', 'airfare', 'flight', 'flight', 'flight', 'flight', 'ground_service', 'flight', 'airfare', 'airline', 'flight', 'flight', 'flight', 'airline', 'flight', 'flight', 'flight', 'flight', 'flight', 'flight', 'flight', 'flight', 'flight', 'flight', 'flight', 'flight', 'flight', 'flight', 'flight', 'flight', 'flight', 'flight', 'flight', 'flight', 'flight', 'flight', 'flight', 'airfare', 'flight', 'flight', 'flight', 'flight', 'flight', 'flight', 'flight', 'flight', 'airfare', 'flight', 'airfare', 'airfare', 'flight_time', 'ground_service', 'flight', 'ground_service', 'flight+airfare', 'flight', 'capacity', 'flight', 'abbreviation', 'flight', 'distance', 'flight', 'flight', 'airfare', 'flight', 'flight', 'flight', 'flight', 'airfare', 'flight', 'airfare', 'flight', 'flight', 'flight', 'airline', 'flight', 'flight', 'ground_service', 'flight', 'flight', 'flight', 'ground_fare', 'flight', 'airline', 'flight', 'flight', 'flight', 'flight', 'flight', 'flight', 'abbreviation', 'ground_service', 'flight', 'flight', 'flight', 'flight', 'flight', 'airfare', 'flight', 'flight', 'flight', 'ground_service', 'flight', 'flight', 'flight', 'abbreviation', 'aircraft', 'flight', 'flight', 'flight', 'flight', 'airfare', 'flight', 'ground_service', 'flight', 'flight', 'flight', 'flight', 'flight', 'ground_service', 'flight', 'flight', 'flight', 'flight', 'airport', 'airfare', 'flight', 'flight', 'flight', 'flight', 'airfare', 'flight', 'ground_service', 'flight', 'flight', 'airfare', 'flight', 'airfare', 'flight', 'flight', 'flight', 'airline', 'flight', 'ground_service', 'flight', 'ground_service', 'flight', 'flight', 'flight', 'airline', 'capacity', 'flight', 'flight', 'flight', 'flight', 'flight', 'airline', 'flight', 'flight', 'airfare', 'airfare', 'flight', 'airfare', 'flight', 'airline', 'flight', 'flight', 'abbreviation', 'flight', 'flight', 'flight', 'flight', 'flight', 'flight', 'flight', 'ground_service', 'abbreviation', 'flight', 'aircraft', 'flight', 'airline', 'ground_service', 'flight', 'flight', 'flight', 'airfare', 'flight', 'flight', 'ground_service', 'flight', 'flight', 'flight', 'flight', 'flight', 'flight', 'quantity', 'flight', 'ground_service', 'flight', 'ground_service', 'flight', 'flight', 'flight', 'flight', 'flight', 'flight', 'airfare', 'flight', 'airline', 'flight', 'airfare', 'flight', 'flight', 'flight', 'flight', 'flight', 'flight', 'flight', 'flight', 'aircraft', 'flight', 'airfare', 'flight', 'flight', 'flight', 'flight', 'airfare', 'flight', 'flight', 'flight', 'flight', 'flight', 'flight', 'flight', 'flight', 'flight', 'flight', 'meal', 'flight', 'flight', 'flight', 'flight', 'flight', 'flight', 'flight', 'flight', 'flight', 'flight', 'flight', 'flight', 'flight', 'ground_service', 'flight', 'airline', 'flight', 'flight', 'flight', 'flight', 'flight', 'aircraft', 'abbreviation', 'ground_service', 'flight', 'airfare', 'abbreviation', 'flight', 'ground_service', 'flight', 'flight', 'abbreviation', 'flight', 'flight', 'flight', 'flight', 'abbreviation', 'flight', 'flight', 'ground_service', 'aircraft', 'flight', 'flight', 'flight', 'airport', 'flight', 'flight', 'flight', 'airfare', 'flight', 'flight', 'flight', 'flight', 'flight', 'flight', 'flight', 'flight', 'flight', 'flight', 'flight', 'flight', 'flight', 'flight', 'ground_service', 'airfare', 'flight', 'flight', 'flight', 'airfare', 'flight', 'airfare', 'flight', 'flight', 'flight', 'flight', 'flight', 'flight', 'ground_service', 'flight', 'city', 'flight', 'flight', 'flight', 'abbreviation', 'flight', 'ground_service', 'flight', 'flight', 'airline', 'flight', 'ground_service', 'aircraft', 'airfare', 'flight', 'flight', 'flight', 'flight', 'airfare', 'flight', 'quantity', 'abbreviation', 'flight', 'flight', 'flight', 'flight', 'flight', 'flight', 'flight', 'flight', 'flight', 'airline', 'airfare', 'flight', 'ground_service', 'flight', 'airfare', 'flight', 'flight', 'flight', 'flight', 'flight', 'flight', 'abbreviation', 'flight', 'flight', 'flight', 'flight', 'airfare', 'flight', 'flight', 'flight', 'flight', 'airfare', 'ground_service', 'flight', 'flight_no', 'flight', 'ground_service', 'flight', 'airline', 'flight', 'airline', 'flight', 'flight', 'quantity', 'flight', 'flight', 'flight', 'flight', 'flight', 'flight', 'flight', 'flight', 'flight', 'flight', 'flight', 'aircraft', 'flight', 'flight', 'flight', 'flight', 'flight', 'distance', 'flight', 'flight', 'flight', 'flight', 'ground_service+ground_fare', 'flight', 'flight', 'abbreviation', 'flight', 'flight', 'flight', 'flight', 'flight', 'flight', 'flight', 'flight', 'flight', 'flight', 'flight', 'flight', 'airfare', 'airline', 'airfare', 'flight', 'flight', 'flight', 'airfare', 'flight', 'ground_fare', 'flight', 'abbreviation', 'capacity', 'aircraft', 'airfare', 'abbreviation', 'flight', 'flight', 'flight', 'flight', 'flight', 'flight', 'flight', 'flight', 'flight', 'flight', 'flight', 'flight', 'flight', 'ground_service', 'flight', 'flight', 'ground_service', 'flight', 'flight', 'flight', 'airline', 'flight', 'flight', 'ground_service', 'flight', 'flight', 'abbreviation', 'flight', 'ground_service', 'flight', 'flight', 'flight', 'flight', 'flight', 'ground_service', 'flight', 'flight', 'flight', 'distance', 'flight', 'flight', 'flight', 'flight', 'flight', 'flight', 'abbreviation', 'flight', 'flight', 'flight', 'airline', 'flight', 'flight', 'flight', 'flight', 'flight', 'flight', 'flight', 'flight', 'flight', 'flight', 'flight', 'airfare', 'ground_service', 'airfare', 'flight', 'flight', 'flight', 'flight', 'flight_time', 'flight', 'flight', 'flight', 'flight', 'flight', 'flight', 'flight', 'flight', 'airline', 'flight', 'flight', 'flight', 'flight', 'flight', 'flight', 'flight', 'flight', 'flight', 'airfare+flight_time', 'flight', 'abbreviation', 'flight', 'flight', 'flight', 'flight', 'flight', 'flight', 'flight', 'airline', 'flight', 'flight', 'flight', 'flight', 'airline', 'flight', 'flight', 'flight_time', 'ground_service', 'flight', 'flight', 'flight', 'aircraft', 'airline', 'flight', 'flight', 'flight', 'flight', 'flight', 'flight', 'flight', 'flight', 'flight', 'flight', 'flight', 'flight', 'flight', 'flight', 'airfare', 'flight', 'flight', 'flight', 'flight', 'airfare', 'ground_service', 'ground_service', 'flight', 'flight', 'flight', 'flight', 'flight', 'flight', 'flight', 'flight', 'ground_service', 'flight', 'flight', 'abbreviation', 'abbreviation', 'abbreviation', 'quantity', 'flight', 'flight+airfare', 'aircraft', 'flight', 'flight', 'ground_service', 'ground_service', 'flight', 'flight', 'flight', 'flight', 'flight', 'flight', 'flight', 'flight', 'flight', 'flight', 'flight', 'abbreviation', 'ground_service', 'flight', 'flight', 'flight', 'flight', 'flight', 'flight', 'abbreviation', 'flight', 'flight', 'flight', 'flight', 'flight', 'ground_service', 'flight', 'flight', 'flight', 'airfare', 'flight', 'flight', 'airline', 'airline', 'flight', 'airline', 'ground_service', 'flight', 'flight', 'ground_service', 'flight', 'flight', 'airfare', 'flight', 'flight', 'flight', 'flight', 'flight', 'airline', 'flight_no', 'flight', 'city', 'flight', 'flight', 'quantity', 'flight', 'flight', 'abbreviation', 'flight', 'quantity', 'flight', 'quantity', 'flight', 'quantity', 'ground_fare', 'airfare', 'ground_service', 'flight', 'abbreviation', 'flight', 'ground_service', 'flight', 'flight', 'flight', 'flight+airfare', 'airfare', 'flight', 'flight', 'abbreviation', 'flight', 'flight', 'airline', 'flight', 'flight', 'flight', 'flight', 'flight', 'flight', 'airfare', 'flight', 'airfare', 'flight', 'flight', 'aircraft', 'flight', 'ground_service', 'flight', 'flight', 'flight', 'flight', 'flight', 'flight', 'airfare', 'flight', 'flight_time', 'flight', 'abbreviation', 'flight_time', 'flight', 'abbreviation', 'flight', 'flight', 'flight', 'flight', 'flight', 'flight', 'ground_service', 'flight', 'flight', 'flight', 'flight', 'flight', 'aircraft', 'flight', 'flight', 'ground_service', 'flight', 'ground_fare', 'flight', 'flight', 'capacity', 'airfare', 'airline', 'flight', 'airfare', 'flight', 'airfare', 'flight', 'flight', 'flight', 'flight', 'airfare', 'flight_time', 'flight', 'flight', 'flight', 'flight', 'flight', 'flight', 'flight', 'flight', 'flight', 'aircraft', 'aircraft', 'flight', 'flight', 'flight', 'flight', 'aircraft', 'flight', 'flight', 'flight_time', 'flight', 'flight', 'airfare', 'flight', 'flight', 'airfare', 'airline', 'flight', 'flight', 'flight', 'flight', 'flight', 'flight', 'flight', 'flight', 'flight', 'flight', 'flight', 'flight', 'flight', 'flight', 'flight', 'flight', 'flight', 'flight', 'flight', 'flight', 'flight_time', 'flight', 'flight', 'flight', 'flight', 'flight', 'airfare', 'airport', 'flight', 'flight', 'flight', 'ground_fare', 'flight', 'airfare', 'flight', 'flight', 'airfare', 'airfare', 'flight', 'abbreviation', 'flight', 'flight', 'ground_service', 'flight', 'flight', 'flight', 'flight', 'flight', 'abbreviation', 'flight', 'flight', 'flight', 'flight', 'flight', 'flight', 'flight', 'flight', 'ground_service', 'flight', 'flight', 'flight_time', 'flight', 'flight', 'flight', 'flight', 'abbreviation', 'flight', 'flight', 'ground_fare', 'flight', 'flight', 'flight', 'flight', 'distance', 'airline', 'abbreviation', 'flight', 'airfare', 'flight', 'flight', 'airfare', 'flight', 'flight', 'flight', 'flight', 'flight', 'distance', 'airfare', 'flight', 'flight', 'flight', 'aircraft', 'airline', 'flight', 'flight', 'abbreviation', 'flight', 'flight', 'flight', 'distance', 'flight', 'flight', 'flight', 'flight', 'flight', 'flight', 'flight+airfare', 'flight', 'flight', 'flight', 'ground_service', 'flight', 'flight', 'flight', 'airline', 'flight', 'flight', 'flight', 'flight', 'flight', 'flight', 'flight', 'flight', 'flight', 'airfare', 'flight', 'airline', 'flight', 'flight', 'flight', 'flight', 'flight', 'abbreviation', 'flight', 'flight', 'flight', 'flight', 'flight', 'flight', 'flight_time', 'flight', 'meal', 'flight', 'flight', 'flight', 'airfare', 'flight', 'flight', 'flight', 'flight', 'ground_service', 'flight', 'flight', 'flight', 'flight', 'flight', 'ground_service', 'flight', 'flight', 'flight', 'flight', 'city', 'flight', 'flight', 'flight', 'airline', 'flight', 'flight', 'flight', 'flight', 'airfare', 'abbreviation', 'flight', 'flight', 'flight', 'abbreviation', 'airfare', 'airfare', 'flight', 'flight', 'flight', 'flight', 'flight', 'flight', 'ground_service', 'flight', 'flight', 'flight', 'flight', 'flight', 'flight_time', 'flight', 'flight', 'flight', 'flight', 'flight_time', 'flight', 'flight', 'flight', 'flight', 'flight', 'flight', 'flight', 'flight', 'flight', 'flight', 'flight', 'airfare', 'flight', 'flight', 'flight', 'flight', 'flight', 'flight', 'flight', 'flight', 'flight', 'airline+flight_no', 'flight', 'flight', 'ground_service', 'flight', 'flight', 'flight', 'flight', 'flight', 'flight', 'flight', 'flight', 'flight', 'airfare', 'flight', 'flight', 'flight', 'flight', 'flight', 'airfare', 'flight', 'flight', 'quantity', 'flight', 'flight', 'flight', 'flight', 'flight', 'flight', 'flight', 'airfare', 'airfare', 'flight', 'airfare', 'airfare', 'flight', 'flight', 'quantity', 'flight', 'airfare', 'ground_service', 'flight', 'flight', 'flight', 'flight', 'flight', 'airline', 'airfare', 'flight', 'flight', 'flight', 'flight', 'flight', 'airfare', 'flight', 'flight', 'flight', 'airfare', 'flight', 'flight', 'flight', 'flight', 'flight', 'flight', 'flight', 'flight', 'ground_service', 'flight', 'flight', 'flight', 'flight+airfare', 'abbreviation', 'flight', 'flight', 'flight', 'abbreviation', 'flight', 'flight', 'flight', 'flight', 'airfare', 'flight', 'flight', 'flight', 'flight', 'flight', 'flight', 'flight', 'flight', 'flight', 'flight', 'flight', 'flight', 'flight', 'flight', 'flight', 'flight', 'flight', 'flight', 'flight', 'flight', 'flight', 'flight', 'ground_service', 'flight', 'flight', 'flight', 'flight', 'flight', 'airfare', 'flight', 'airfare', 'flight', 'abbreviation', 'flight', 'flight', 'aircraft', 'flight', 'flight', 'flight', 'airfare', 'flight', 'flight', 'airfare', 'flight', 'flight', 'flight', 'flight', 'airline', 'flight', 'flight', 'flight', 'flight', 'flight', 'ground_service', 'flight', 'flight', 'flight', 'airline', 'flight', 'flight', 'flight', 'flight', 'airfare', 'flight', 'abbreviation', 'flight', 'flight', 'flight', 'flight', 'flight', 'flight', 'flight', 'flight', 'flight', 'abbreviation', 'ground_service', 'flight', 'flight', 'airfare', 'airline', 'flight', 'flight', 'flight', 'abbreviation', 'flight', 'quantity', 'flight', 'flight', 'flight', 'ground_service', 'flight', 'flight', 'ground_service', 'flight', 'cheapest', 'flight', 'flight', 'flight', 'airfare', 'quantity', 'airfare', 'flight', 'flight', 'flight', 'flight', 'ground_service', 'flight', 'flight', 'ground_service', 'flight_time', 'airfare', 'flight', 'flight', 'flight', 'flight', 'flight', 'flight', 'airline', 'flight', 'airline', 'flight', 'flight', 'flight', 'flight', 'flight', 'flight', 'flight', 'flight', 'flight', 'flight', 'flight', 'flight', 'ground_service', 'flight', 'flight', 'flight', 'city', 'abbreviation', 'flight', 'flight', 'flight', 'flight', 'flight', 'flight', 'flight', 'flight', 'flight_time', 'abbreviation', 'flight', 'flight', 'airfare', 'flight', 'flight', 'airline', 'airfare', 'flight', 'flight', 'airline', 'aircraft', 'flight', 'quantity', 'flight', 'flight', 'aircraft', 'flight', 'flight', 'flight', 'ground_service', 'flight', 'airfare', 'flight', 'airfare', 'flight', 'flight', 'flight', 'flight', 'flight', 'ground_service', 'flight', 'airline', 'flight', 'flight', 'ground_service', 'airfare', 'airfare', 'flight', 'flight', 'flight', 'abbreviation', 'flight', 'flight', 'flight', 'flight', 'flight', 'flight', 'flight', 'flight', 'airfare', 'flight', 'flight', 'flight', 'flight', 'flight', 'flight', 'flight', 'flight', 'flight', 'flight', 'airfare', 'flight', 'flight', 'flight', 'flight', 'flight', 'flight', 'flight', 'flight', 'flight', 'flight', 'flight', 'flight', 'flight', 'flight', 'flight', 'flight', 'airfare', 'flight', 'flight', 'flight', 'flight', 'airfare', 'flight', 'flight', 'flight', 'flight', 'airline', 'flight', 'flight', 'flight', 'flight', 'flight', 'ground_service', 'flight', 'flight', 'flight', 'flight', 'flight', 'flight', 'airfare', 'flight_time', 'flight', 'flight', 'flight', 'flight', 'airfare', 'flight', 'flight', 'abbreviation', 'flight', 'flight', 'ground_service', 'abbreviation', 'flight_no', 'flight', 'airfare', 'flight', 'flight', 'flight', 'airfare', 'flight', 'ground_service', 'flight', 'city', 'quantity', 'airport', 'airfare', 'flight', 'flight', 'flight', 'flight', 'airfare', 'flight', 'flight', 'flight', 'flight', 'flight', 'flight', 'flight', 'flight', 'flight', 'flight', 'flight', 'flight', 'flight', 'ground_service', 'flight', 'airfare', 'flight', 'flight', 'ground_service', 'quantity', 'flight', 'flight', 'flight', 'airline', 'abbreviation', 'flight', 'flight+airfare', 'airline', 'flight', 'flight', 'flight', 'flight', 'flight', 'flight', 'ground_service', 'city', 'flight', 'flight', 'flight', 'flight', 'airfare', 'flight_no', 'airfare', 'flight', 'ground_service', 'flight', 'flight', 'ground_service', 'flight', 'flight', 'flight', 'flight', 'abbreviation', 'flight', 'flight', 'flight', 'flight', 'flight', 'flight', 'abbreviation', 'airfare', 'flight', 'flight', 'flight_time', 'flight', 'abbreviation', 'flight', 'flight', 'flight', 'flight_time', 'aircraft', 'flight', 'airfare', 'flight', 'ground_service', 'flight', 'flight', 'abbreviation', 'flight', 'airline', 'airfare', 'flight', 'flight', 'flight', 'flight', 'aircraft', 'flight', 'airfare', 'flight', 'flight', 'airfare', 'flight', 'ground_service', 'flight', 'flight', 'flight', 'flight', 'flight', 'flight', 'flight', 'flight', 'flight', 'flight', 'ground_service', 'flight', 'airfare', 'flight', 'flight', 'flight', 'flight', 'flight', 'flight', 'flight', 'flight', 'flight', 'ground_service', 'flight', 'airfare', 'flight+airfare', 'flight', 'flight', 'aircraft', 'ground_service', 'flight', 'flight', 'flight', 'flight', 'flight', 'flight', 'airfare', 'flight', 'airport', 'flight', 'flight', 'flight', 'flight_time', 'airfare', 'ground_service', 'flight', 'flight', 'flight', 'flight', 'flight', 'flight', 'flight', 'flight', 'flight', 'capacity', 'flight', 'flight', 'flight', 'flight', 'airfare', 'flight', 'flight', 'flight', 'ground_service', 'flight', 'flight', 'flight', 'flight', 'flight', 'airline', 'airfare', 'flight', 'flight', 'flight', 'airport', 'flight', 'airline', 'flight', 'flight', 'flight', 'flight', 'airfare', 'flight', 'airfare', 'airfare', 'airfare', 'flight', 'flight', 'flight', 'flight', 'flight', 'flight', 'airfare', 'ground_service', 'flight', 'quantity', 'flight', 'flight', 'ground_service', 'flight', 'flight', 'abbreviation', 'flight', 'flight', 'ground_service', 'flight', 'flight', 'flight', 'flight', 'flight', 'flight', 'flight', 'airfare', 'flight', 'flight', 'airfare', 'flight', 'flight', 'flight', 'abbreviation', 'flight', 'flight', 'flight', 'flight', 'flight', 'ground_service', 'airfare', 'airfare', 'flight', 'flight', 'flight', 'flight', 'flight', 'flight', 'flight', 'aircraft', 'flight', 'flight', 'ground_service', 'flight', 'flight', 'flight', 'flight', 'airfare', 'flight', 'aircraft', 'flight', 'airfare', 'flight', 'flight', 'flight', 'flight_time', 'flight', 'flight', 'airfare', 'flight', 'flight', 'aircraft+flight+flight_no', 'city', 'flight', 'flight', 'abbreviation', 'flight', 'flight', 'flight', 'flight', 'flight', 'flight', 'flight', 'city', 'flight', 'ground_service', 'flight', 'flight', 'flight', 'flight', 'flight', 'flight', 'ground_service', 'flight', 'flight', 'flight', 'flight', 'flight', 'airline', 'flight', 'flight', 'flight', 'flight', 'flight', 'flight', 'ground_service', 'flight', 'flight', 'flight', 'airline', 'flight', 'airfare', 'flight', 'flight', 'airline', 'airfare', 'flight', 'flight', 'flight', 'flight', 'flight', 'city', 'flight', 'airfare', 'flight', 'flight', 'flight', 'flight', 'airfare', 'flight', 'flight', 'aircraft', 'flight', 'flight', 'flight', 'flight', 'flight_no', 'flight', 'ground_service', 'flight', 'flight', 'flight', 'flight', 'airfare', 'airfare', 'flight', 'ground_service', 'flight', 'flight', 'flight', 'flight', 'airfare', 'flight', 'flight', 'flight', 'flight', 'flight', 'flight', 'flight', 'airfare', 'flight', 'airfare', 'flight', 'flight', 'flight+airfare', 'flight', 'abbreviation', 'flight', 'flight', 'flight', 'flight', 'flight', 'ground_service', 'flight', 'flight', 'airfare', 'airfare', 'flight', 'flight', 'flight', 'flight', 'airfare', 'flight', 'flight', 'flight', 'flight', 'flight', 'airfare', 'flight', 'flight', 'abbreviation', 'flight', 'flight', 'flight', 'flight', 'flight', 'flight', 'flight', 'flight', 'flight', 'flight', 'flight', 'flight', 'airline', 'flight', 'abbreviation', 'flight', 'flight', 'flight', 'flight', 'flight', 'flight', 'flight', 'flight', 'flight', 'flight', 'flight', 'flight', 'flight', 'flight', 'flight', 'flight', 'flight', 'flight', 'flight', 'ground_service', 'airfare', 'flight', 'flight', 'flight', 'flight', 'flight', 'flight', 'city', 'flight', 'flight', 'flight', 'flight', 'flight', 'aircraft', 'flight', 'flight', 'flight', 'flight', 'airline', 'airfare', 'flight', 'flight', 'airfare', 'flight_time', 'abbreviation', 'flight', 'flight', 'flight', 'flight', 'flight', 'flight', 'flight', 'flight', 'flight', 'flight', 'flight', 'ground_service', 'flight', 'airline', 'flight', 'flight', 'flight', 'flight', 'abbreviation', 'flight']\n",
      "\n",
      "Encoded labels: [12 12 15 ... 12  0 12] \n",
      "\n"
     ]
    }
   ],
   "source": [
    "label_encoder = LabelEncoder()\n",
    "train_numerical_labels = label_encoder.fit_transform(train_labels)\n",
    "\n",
    "print(f'Original labels: {train_labels}\\n')\n",
    "print(f'Encoded labels: {train_numerical_labels} \\n')"
   ]
  },
  {
   "cell_type": "markdown",
   "metadata": {
    "id": "7Ni3g_AsfSB6"
   },
   "source": [
    "I a continuació convertim les etiquetes a vectors one-hot."
   ]
  },
  {
   "cell_type": "code",
   "execution_count": 114,
   "metadata": {
    "id": "Bu_KEG7hgFKO"
   },
   "outputs": [
    {
     "name": "stdout",
     "output_type": "stream",
     "text": [
      "Example: \n",
      "\n",
      "Original label: flight\n",
      "\n",
      "Numerical label: 12\n",
      "\n",
      "One-hot: [0. 0. 0. 0. 0. 0. 0. 0. 0. 0. 0. 0. 1. 0. 0. 0. 0. 0. 0. 0. 0. 0.]\n",
      "\n"
     ]
    }
   ],
   "source": [
    "num_classes = len(np.unique(train_numerical_labels))\n",
    "train_encoded_labels = to_categorical(train_numerical_labels, num_classes)\n",
    "\n",
    "print('Example: \\n')\n",
    "print(f'Original label: {train_labels[0]}\\n')\n",
    "print(f'Numerical label: {train_numerical_labels[0]}\\n')\n",
    "print(f'One-hot: {train_encoded_labels[0]}\\n')"
   ]
  },
  {
   "cell_type": "markdown",
   "metadata": {
    "id": "Sup3vzTkNg0q"
   },
   "source": [
    "---\n",
    "\n",
    " <h1><a name=\"ex-three\"><center> ✏ Exercici 3 ✏</a></h1>"
   ]
  },
  {
   "cell_type": "markdown",
   "metadata": {
    "id": "n3Rpxi7PNjB3"
   },
   "source": [
    "Amb la partició de validació i test haurem de realitzar els mateixos passos. Per tant, en aquest exercici us demanem que obtingueu `val_pad_sequences`, `val_encoded_labels`, `test_pad_sequences` i `test_encoded_labels`."
   ]
  },
  {
   "cell_type": "code",
   "execution_count": 115,
   "metadata": {
    "id": "8YFVmi4SOPv2"
   },
   "outputs": [],
   "source": [
    "#TODO\n",
    "val_pad_sequences = pad_sequences(tokenizer.texts_to_sequences(list(val_data[0])), maxlen=max_sequence_length, padding='post')\n",
    "test_pad_sequences =  pad_sequences(tokenizer.texts_to_sequences(list(test_data[0])), maxlen=max_sequence_length, padding='post')\n"
   ]
  },
  {
   "cell_type": "code",
   "execution_count": 116,
   "metadata": {
    "id": "Z0MIvWt6nre2"
   },
   "outputs": [],
   "source": [
    "val_labels = list(val_data[2])\n",
    "test_labels = list(test_data[2])\n",
    "\n",
    "# limpiar las etiquetas de val y test\n",
    "val_labels = [lbl.strip().replace('\"', '').replace(\"'\", '') for lbl in val_labels]\n",
    "test_labels = [lbl.strip().replace('\"', '').replace(\"'\", '') for lbl in test_labels]\n",
    "\n",
    "def remove_values_and_indices(input_list, values_to_remove, other_list):\n",
    "    indices_to_remove = [idx for idx, item in enumerate(input_list) if item in values_to_remove]\n",
    "    cleaned_list = [item for item in input_list if item not in values_to_remove]\n",
    "    cleaned_other_list = [item for idx, item in enumerate(other_list) if idx not in indices_to_remove]\n",
    "    return cleaned_list, np.array(cleaned_other_list)\n",
    "\n",
    "values_to_remove = ['day_name','airfare+flight','flight+airline','flight_no+airline']\n",
    "val_labels, val_pad_sequences = remove_values_and_indices(val_labels, values_to_remove, val_pad_sequences)\n",
    "test_labels, test_pad_sequences = remove_values_and_indices(test_labels, values_to_remove, test_pad_sequences)\n"
   ]
  },
  {
   "cell_type": "code",
   "execution_count": 117,
   "metadata": {
    "id": "eDOehXO--rn7"
   },
   "outputs": [],
   "source": [
    "#primero pasamos las labels a numericas\n",
    "val_numerical_labels = label_encoder.transform(val_labels)\n",
    "test_numerical_labels = label_encoder.transform(test_labels)\n",
    "\n",
    "val_encoded_labels = to_categorical(val_numerical_labels, num_classes)\n",
    "test_encoded_labels = to_categorical(test_numerical_labels, num_classes)"
   ]
  },
  {
   "cell_type": "markdown",
   "metadata": {
    "id": "5iS0Z1mbOZcM"
   },
   "source": [
    "---"
   ]
  },
  {
   "cell_type": "markdown",
   "metadata": {
    "id": "8Rddmu0bM0PI"
   },
   "source": [
    "<h1><a name=\"section-three\"> 3. Disseny del model i entrenament </a></h1>"
   ]
  },
  {
   "cell_type": "markdown",
   "metadata": {
    "id": "o3mi1pL38yU4"
   },
   "source": [
    "En primer lloc, anem a comprovar si hi ha GPUs disponibles. A continuació si hi ha GPUs disponibles el codi assegurarà que *TensorFlow* només assigne memòria GPU quan siga necessari."
   ]
  },
  {
   "cell_type": "code",
   "execution_count": 118,
   "metadata": {
    "id": "4Dx4NjOc6PYx",
    "outputId": "7244a3ac-3428-43c8-9ef7-771f53462ccd"
   },
   "outputs": [
    {
     "name": "stdout",
     "output_type": "stream",
     "text": [
      "GPU is not available. The model will be trained on CPU.\n"
     ]
    }
   ],
   "source": [
    "if tf.config.list_physical_devices('GPU'):\n",
    "    print(\"GPU is available!\")\n",
    "else:\n",
    "    print(\"GPU is not available. The model will be trained on CPU.\")\n",
    "\n",
    "gpus = tf.config.experimental.list_physical_devices('GPU')\n",
    "if gpus:\n",
    "    try:\n",
    "        for gpu in gpus:\n",
    "            tf.config.experimental.set_memory_growth(gpu, True)\n",
    "    except RuntimeError as e:\n",
    "        print(e)"
   ]
  },
  {
   "cell_type": "markdown",
   "metadata": {
    "id": "0CPFNkeCKSVl"
   },
   "source": [
    "---\n",
    "\n",
    " <h1><a name=\"ex-four\"><center> ✏ Exercici 4 ✏</a></h1>"
   ]
  },
  {
   "cell_type": "markdown",
   "metadata": {
    "id": "woZEkupw0LAB"
   },
   "source": [
    "En aquest exercici haureu de dissenyar l'arquitectura del model. El nostre model tindrà quatre capes:\n",
    "\n",
    "1. La primera capa serà un **embedding**. Aquesta capa permetrà convertir les dades de text d'entrada, en vectors densos amb una mida fixa (*embedding_dim*). Aquesta representació més compacta permetrà per una part capturar la informació semàntica del text d'entrada, permetent així generalitzar millor i comprendre les relacions entre les paraules. I, per una altra banda, reduir la complexitat computacional, accelerant així el temps d'entrenament i inferència. En resum, aquesta capa assignarà a cada índex de cada paraula un vector dens de mida *embedding_dim*.\n",
    "\n",
    "2. La segona capa serà un **pooling** layer. L'entrada d'aquesta capa serà un tensor 3D (*batch_size*, *sequence_length*, *embedding_dim*). Aquesta capa es centrarà a capturar la informació més important de la seqüència d'entrada, és a dir, prendrà el valor màxim de la seqüència, donant lloc a un tensor 2D (batch_size, embedding_dim).\n",
    "\n",
    "3. La tercera capa serà una capa **densa**. És a dir, una capa completament connectada (*fully-connected*): cada neurona d'aquesta capa estarà connectada a totes les neurones de la capa anterior. La funció d'activació que utilitzarem serà una ReLU. Aquesta funció introdueix una no-linealitat al model permetent així aprendre relacions complexes en les dades.\n",
    "\n",
    "4. L'última capa també serà una capa **densa**. En aquest cas la funció d'activació haurà de ser la funció Softmax. Aquesta funció es fa servir per a convertir els valors de la capa anterior (*logits*) en probabilitats normalitzades. El valor de cada element de sortida representarà la probabilitat que l'entrada pertanya a una classe específica.\n",
    "\n",
    "\n",
    "📢  Les capes que haureu de fer servir les podreu trobar [aquí](https://www.tensorflow.org/api_docs/python/tf/keras/layers).\n",
    "\n",
    "\n",
    "\n"
   ]
  },
  {
   "cell_type": "code",
   "execution_count": 119,
   "metadata": {
    "id": "vUv4tsRAJh8o"
   },
   "outputs": [
    {
     "name": "stdout",
     "output_type": "stream",
     "text": [
      "Epoch 1/30\n"
     ]
    },
    {
     "name": "stderr",
     "output_type": "stream",
     "text": [
      "/home/manukali/TVD_P2/TVD_P2_environment/lib/python3.13/site-packages/keras/src/layers/core/embedding.py:97: UserWarning: Argument `input_length` is deprecated. Just remove it.\n",
      "  warnings.warn(\n"
     ]
    },
    {
     "name": "stdout",
     "output_type": "stream",
     "text": [
      "\u001b[1m128/128\u001b[0m \u001b[32m━━━━━━━━━━━━━━━━━━━━\u001b[0m\u001b[37m\u001b[0m \u001b[1m1s\u001b[0m 5ms/step - accuracy: 0.7440 - loss: 1.1306 - val_accuracy: 0.7844 - val_loss: 0.7783\n",
      "Epoch 2/30\n",
      "\u001b[1m128/128\u001b[0m \u001b[32m━━━━━━━━━━━━━━━━━━━━\u001b[0m\u001b[37m\u001b[0m \u001b[1m1s\u001b[0m 4ms/step - accuracy: 0.8632 - loss: 0.5527 - val_accuracy: 0.8878 - val_loss: 0.4770\n",
      "Epoch 3/30\n",
      "\u001b[1m128/128\u001b[0m \u001b[32m━━━━━━━━━━━━━━━━━━━━\u001b[0m\u001b[37m\u001b[0m \u001b[1m1s\u001b[0m 4ms/step - accuracy: 0.9134 - loss: 0.3386 - val_accuracy: 0.9144 - val_loss: 0.3411\n",
      "Epoch 4/30\n",
      "\u001b[1m128/128\u001b[0m \u001b[32m━━━━━━━━━━━━━━━━━━━━\u001b[0m\u001b[37m\u001b[0m \u001b[1m1s\u001b[0m 5ms/step - accuracy: 0.9389 - loss: 0.2230 - val_accuracy: 0.9278 - val_loss: 0.2657\n",
      "Epoch 5/30\n",
      "\u001b[1m128/128\u001b[0m \u001b[32m━━━━━━━━━━━━━━━━━━━━\u001b[0m\u001b[37m\u001b[0m \u001b[1m1s\u001b[0m 5ms/step - accuracy: 0.9625 - loss: 0.1534 - val_accuracy: 0.9422 - val_loss: 0.2232\n",
      "Epoch 6/30\n",
      "\u001b[1m128/128\u001b[0m \u001b[32m━━━━━━━━━━━━━━━━━━━━\u001b[0m\u001b[37m\u001b[0m \u001b[1m1s\u001b[0m 6ms/step - accuracy: 0.9792 - loss: 0.1077 - val_accuracy: 0.9489 - val_loss: 0.1987\n",
      "Epoch 7/30\n",
      "\u001b[1m128/128\u001b[0m \u001b[32m━━━━━━━━━━━━━━━━━━━━\u001b[0m\u001b[37m\u001b[0m \u001b[1m1s\u001b[0m 4ms/step - accuracy: 0.9838 - loss: 0.0770 - val_accuracy: 0.9500 - val_loss: 0.1849\n",
      "Epoch 8/30\n",
      "\u001b[1m128/128\u001b[0m \u001b[32m━━━━━━━━━━━━━━━━━━━━\u001b[0m\u001b[37m\u001b[0m \u001b[1m1s\u001b[0m 4ms/step - accuracy: 0.9897 - loss: 0.0568 - val_accuracy: 0.9522 - val_loss: 0.1772\n",
      "Epoch 9/30\n",
      "\u001b[1m128/128\u001b[0m \u001b[32m━━━━━━━━━━━━━━━━━━━━\u001b[0m\u001b[37m\u001b[0m \u001b[1m1s\u001b[0m 5ms/step - accuracy: 0.9912 - loss: 0.0432 - val_accuracy: 0.9533 - val_loss: 0.1786\n",
      "Epoch 10/30\n",
      "\u001b[1m128/128\u001b[0m \u001b[32m━━━━━━━━━━━━━━━━━━━━\u001b[0m\u001b[37m\u001b[0m \u001b[1m1s\u001b[0m 4ms/step - accuracy: 0.9926 - loss: 0.0335 - val_accuracy: 0.9533 - val_loss: 0.1782\n",
      "Epoch 11/30\n",
      "\u001b[1m128/128\u001b[0m \u001b[32m━━━━━━━━━━━━━━━━━━━━\u001b[0m\u001b[37m\u001b[0m \u001b[1m1s\u001b[0m 5ms/step - accuracy: 0.9946 - loss: 0.0264 - val_accuracy: 0.9556 - val_loss: 0.1781\n",
      "Epoch 12/30\n",
      "\u001b[1m128/128\u001b[0m \u001b[32m━━━━━━━━━━━━━━━━━━━━\u001b[0m\u001b[37m\u001b[0m \u001b[1m1s\u001b[0m 5ms/step - accuracy: 0.9956 - loss: 0.0210 - val_accuracy: 0.9578 - val_loss: 0.1789\n",
      "Epoch 13/30\n",
      "\u001b[1m128/128\u001b[0m \u001b[32m━━━━━━━━━━━━━━━━━━━━\u001b[0m\u001b[37m\u001b[0m \u001b[1m1s\u001b[0m 4ms/step - accuracy: 0.9961 - loss: 0.0167 - val_accuracy: 0.9611 - val_loss: 0.1786\n"
     ]
    }
   ],
   "source": [
    "from tensorflow.keras.models import Sequential\n",
    "from tensorflow.keras.layers import Embedding, GlobalMaxPooling1D, Dense\n",
    "from tensorflow.keras.callbacks import EarlyStopping\n",
    "\n",
    "\n",
    "if not os.path.exists('./models/basic_model.keras'):\n",
    "    # Paràmetres\n",
    "    vocab_size = len(vocab)       # 893 paraules\n",
    "    embedding_dim = 300           # mida del vector d'embedding\n",
    "    max_sequence_length = 45      # longitud fixa de les seqüències després del padding\n",
    "    num_classes = len(label_encoder.classes_)  # nombre de classes\n",
    "\n",
    "    # Definim el model\n",
    "    modelo_basico = Sequential([\n",
    "        # Capa Embedding\n",
    "        Embedding(input_dim=vocab_size, output_dim=embedding_dim, input_length=max_sequence_length),\n",
    "\n",
    "        # Global Max Pooling\n",
    "        GlobalMaxPooling1D(),\n",
    "\n",
    "        # Capa Dense amb ReLU\n",
    "        Dense(128, activation='relu'),\n",
    "\n",
    "        # Capa Dense amb Softmax (sortida)\n",
    "        Dense(num_classes, activation='softmax')\n",
    "    ])\n",
    "\n",
    "    # Compilar el model\n",
    "    modelo_basico.compile(\n",
    "        optimizer='adam',\n",
    "        loss='categorical_crossentropy',\n",
    "        metrics=['accuracy']\n",
    "    )\n",
    "\n",
    "    early_stop = EarlyStopping(\n",
    "        monitor='val_loss',     # se fija en la pérdida de validación\n",
    "        patience=5,             # espera 3 epochs sin mejora antes de parar\n",
    "        restore_best_weights=True\n",
    "    )\n",
    "\n",
    "    # Entrenament\n",
    "    history = modelo_basico.fit(\n",
    "        train_pad_sequences, train_encoded_labels,\n",
    "        validation_data=(val_pad_sequences, val_encoded_labels),\n",
    "        epochs=30,\n",
    "        batch_size=32,\n",
    "        callbacks=[early_stop]\n",
    "    )\n",
    "    #Guardamos el modelo para poder usarlo posteriormente en caso de que lo necesitemos.\n",
    "    modelo_basico.save('./models/basic_model.keras')\n",
    "else:\n",
    "    modelo_basico = tf.keras.models.load_model('./models/basic_model.keras')"
   ]
  },
  {
   "cell_type": "markdown",
   "metadata": {
    "id": "exbeyhxdVC1M"
   },
   "source": [
    "Podeu veure a continuació les oracions que el model ha classificat incorrectament."
   ]
  },
  {
   "cell_type": "code",
   "execution_count": 120,
   "metadata": {
    "id": "J0JErcq5OK7e"
   },
   "outputs": [
    {
     "name": "stdout",
     "output_type": "stream",
     "text": [
      "\u001b[1m28/28\u001b[0m \u001b[32m━━━━━━━━━━━━━━━━━━━━\u001b[0m\u001b[37m\u001b[0m \u001b[1m0s\u001b[0m 2ms/step \n",
      "Sentence:  show flight and prices kansas city to chicago on next wednesday arriving in chicago by 7 pm\n",
      "Original label:  flight+airfare\n",
      "Predicted label:  flight\n",
      "\n",
      "Sentence:  i need a flight from tampa to milwaukee\n",
      "Original label:  meal\n",
      "Predicted label:  flight\n",
      "\n",
      "Sentence:  i need a flight from milwaukee to seattle\n",
      "Original label:  meal\n",
      "Predicted label:  flight\n",
      "\n",
      "Sentence:  please find a flight from orlando to kansas city\n",
      "Original label:  airport\n",
      "Predicted label:  flight\n",
      "\n",
      "Sentence:  which flights are available from san jose to nashville leaving in the morning on april twenty three\n",
      "Original label:  airline\n",
      "Predicted label:  flight\n",
      "\n",
      "Sentence:  what is the latest flight from baltimore to oakland that serves dinner\n",
      "Original label:  city\n",
      "Predicted label:  flight\n",
      "\n",
      "Sentence:  show me flight us 1207 from indianapolis to charlotte on monday and flight us 1500 from charlotte to minneapolis on monday and flight twa 639 from minneapolis to indianapolis\n",
      "Original label:  airline\n",
      "Predicted label:  flight\n",
      "\n",
      "Sentence:  i need to get from cincinnati to denver on june sixth by 6 pm\n",
      "Original label:  ground_fare\n",
      "Predicted label:  airfare\n",
      "\n",
      "Sentence:  what 's the ground transportation in denver\n",
      "Original label:  ground_fare\n",
      "Predicted label:  ground_service\n",
      "\n",
      "Sentence:  show me the flights on american airlines which fly from st. petersburg to ontario canada with a stopover in st. louis\n",
      "Original label:  airport\n",
      "Predicted label:  flight\n",
      "\n",
      "Sentence:  show me the delta flights which serve a snack to coach passengers\n",
      "Original label:  meal\n",
      "Predicted label:  flight\n",
      "\n",
      "Sentence:  what are the flights between washington dc and columbus ohio\n",
      "Original label:  aircraft\n",
      "Predicted label:  capacity\n",
      "\n",
      "Sentence:  what is the first class round trip airfare from india indianapolis to memphis\n",
      "Original label:  flight+airfare\n",
      "Predicted label:  flight\n",
      "\n",
      "Sentence:  list all flights from memphis to miami\n",
      "Original label:  flight+airfare\n",
      "Predicted label:  flight\n",
      "\n",
      "Sentence:  list all flights and their fares from indianapolis to memphis on a monday morning\n",
      "Original label:  flight+airfare\n",
      "Predicted label:  flight\n",
      "\n",
      "Sentence:  list all flights from cleveland to nashville\n",
      "Original label:  flight+airfare\n",
      "Predicted label:  flight\n",
      "\n",
      "Sentence:  what airlines are departing from baltimore\n",
      "Original label:  distance\n",
      "Predicted label:  flight\n",
      "\n",
      "Sentence:  list american airlines flights from milwaukee to san jose wednesday\n",
      "Original label:  airline\n",
      "Predicted label:  flight\n",
      "\n",
      "Sentence:  list american airlines flights from san jose to dallas friday afternoon\n",
      "Original label:  capacity\n",
      "Predicted label:  aircraft\n",
      "\n",
      "Sentence:  i would like a flight from san diego to las vegas\n",
      "Original label:  airline\n",
      "Predicted label:  flight\n",
      "\n",
      "Sentence:  what does ua mean\n",
      "Original label:  meal\n",
      "Predicted label:  flight\n",
      "\n",
      "Sentence:  what is the seating capacity of a dc9\n",
      "Original label:  capacity\n",
      "Predicted label:  aircraft\n",
      "\n",
      "Sentence:  i need a flight from kansas city to minneapolis\n",
      "Original label:  flight+airfare\n",
      "Predicted label:  airfare\n",
      "\n",
      "Sentence:  i need a flight from san diego to washington dc\n",
      "Original label:  flight+airfare\n",
      "Predicted label:  airfare\n",
      "\n",
      "Sentence:  i need a flight from washington dc to san diego\n",
      "Original label:  flight+airfare\n",
      "Predicted label:  flight\n",
      "\n",
      "Sentence:  i would like information on flights leaving from washington dc to denver\n",
      "Original label:  airfare\n",
      "Predicted label:  flight\n",
      "\n",
      "Sentence:  is there ground transportation available at the salt lake city airport\n",
      "Original label:  flight+airfare\n",
      "Predicted label:  flight\n",
      "\n",
      "Sentence:  i need a flight from salt lake city to phoenix departing wednesday after 5 pm\n",
      "Original label:  flight+airfare\n",
      "Predicted label:  flight\n",
      "\n",
      "Sentence:  is there ground transportation available at the phoenix airport\n",
      "Original label:  flight_no\n",
      "Predicted label:  flight\n",
      "\n",
      "Sentence:  i need a flight from oakland to salt lake city on wednesday departing after 6 pm\n",
      "Original label:  airport\n",
      "Predicted label:  flight\n",
      "\n",
      "Sentence:  i need flights departing from oakland and arriving salt lake city\n",
      "Original label:  flight_no\n",
      "Predicted label:  flight\n",
      "\n",
      "Sentence:  what airline is as\n",
      "Original label:  flight+airfare\n",
      "Predicted label:  flight\n",
      "\n",
      "Sentence:  list airports in la\n",
      "Original label:  city\n",
      "Predicted label:  airport\n",
      "\n",
      "Sentence:  list airports\n",
      "Original label:  city\n",
      "Predicted label:  airport\n",
      "\n",
      "Sentence:  list flights from indianapolis to memphis with fares on monday\n",
      "Original label:  aircraft\n",
      "Predicted label:  flight\n",
      "\n",
      "Sentence:  list flights from indianapolis to memphis on monday\n",
      "Original label:  flight+airfare\n",
      "Predicted label:  flight\n",
      "\n",
      "Sentence:  list flights from charlotte on saturday afternoon\n",
      "Original label:  airfare\n",
      "Predicted label:  flight\n",
      "\n",
      "Sentence:  list flights from pittsburgh to newark on monday morning\n",
      "Original label:  airline\n",
      "Predicted label:  flight\n",
      "\n",
      "Sentence:  list flights before 9 am from cincinnati to tampa\n",
      "Original label:  capacity\n",
      "Predicted label:  flight\n",
      "\n",
      "Sentence:  list flights from baltimore to san francisco on friday\n",
      "Original label:  flight\n",
      "Predicted label:  airfare\n",
      "\n",
      "Sentence:  i need a sunday flight from tampa to charlotte\n",
      "Original label:  flight_no\n",
      "Predicted label:  flight\n",
      "\n",
      "Sentence:  give me a flight from charlotte to baltimore on tuesday morning\n",
      "Original label:  flight_no\n",
      "Predicted label:  flight\n",
      "\n",
      "Sentence:  cheapest round trip fare from or indianapolis to orlando on december twenty fifth\n",
      "Original label:  flight_no\n",
      "Predicted label:  flight\n",
      "\n",
      "Sentence:  cheapest one way fare from indianapolis to orlando on december twenty seventh\n",
      "Original label:  flight_no\n",
      "Predicted label:  flight\n",
      "\n",
      "Sentence:  flight number from dallas to houston\n",
      "Original label:  flight_no\n",
      "Predicted label:  flight\n",
      "\n",
      "Sentence:  flight number from houston to dallas\n",
      "Original label:  flight_no\n",
      "Predicted label:  flight\n",
      "\n",
      "Sentence:  pittsburgh to los angeles thursday evening\n",
      "Original label:  flight\n",
      "Predicted label:  quantity\n",
      "\n",
      "Sentence:  milwaukee to phoenix on saturday\n",
      "Original label:  flight\n",
      "Predicted label:  quantity\n",
      "\n",
      "Sentence:  phoenix to milwaukee on sunday\n",
      "Original label:  flight\n",
      "Predicted label:  quantity\n",
      "\n",
      "Sentence:  phoenix to milwaukee on wednesday\n",
      "Original label:  city\n",
      "Predicted label:  flight\n",
      "\n",
      "Sentence:  a flight from baltimore to san francisco arriving between 5 and 8 pm\n",
      "Original label:  city\n",
      "Predicted label:  flight\n",
      "\n",
      "Sentence:  how many northwest flights leave st. paul\n",
      "Original label:  city\n",
      "Predicted label:  flight\n",
      "\n",
      "Sentence:  what is a d9s\n",
      "Original label:  meal\n",
      "Predicted label:  airfare\n",
      "\n",
      "Sentence:  show me the airports serviced by tower air\n",
      "Original label:  meal\n",
      "Predicted label:  flight\n",
      "\n",
      "Sentence:  show me the first class and coach flights from kennedy airport to miami\n",
      "Original label:  flight\n",
      "Predicted label:  airline\n",
      "\n",
      "Sentence:  what is the earliest arriving flight from houston to orlando\n",
      "Original label:  capacity\n",
      "Predicted label:  aircraft\n",
      "\n",
      "Sentence:  show me the flights between houston and orlando\n",
      "Original label:  capacity\n",
      "Predicted label:  aircraft\n",
      "\n",
      "Sentence:  show me the flights from houston to orlando\n",
      "Original label:  capacity\n",
      "Predicted label:  aircraft\n",
      "\n",
      "Sentence:  list all flights leaving denver between 8 pm and 9 pm\n",
      "Original label:  capacity\n",
      "Predicted label:  aircraft\n",
      "\n",
      "Sentence:  list the airlines with flights to or from denver\n",
      "Original label:  capacity\n",
      "Predicted label:  aircraft\n",
      "\n",
      "Sentence:  tell me about the m80 aircraft\n",
      "Original label:  capacity\n",
      "Predicted label:  aircraft\n",
      "\n",
      "Sentence:  please list ground transportation from ewr into new york city\n",
      "Original label:  flight\n",
      "Predicted label:  quantity\n",
      "\n",
      "Sentence:  give me the flights from new york city to nashville leaving after 5 pm on wednesday\n",
      "Original label:  flight\n",
      "Predicted label:  airline\n",
      "\n",
      "Sentence:  i would like a flight that leaves on sunday from montreal quebec to san diego california\n",
      "Original label:  aircraft\n",
      "Predicted label:  flight\n",
      "\n",
      "Sentence:  please find a flight from ontario to westchester that makes a stop in chicago on may seventeenth one way with dinner\n",
      "Original label:  airline\n",
      "Predicted label:  flight\n",
      "\n",
      "Sentence:  now show me all the flights from st. louis to burbank\n",
      "Original label:  airport\n",
      "Predicted label:  flight\n",
      "\n"
     ]
    }
   ],
   "source": [
    "probs = modelo_basico.predict(test_pad_sequences)\n",
    "_predicted_labels = np.argmax(probs, axis=1)\n",
    "predicted_labels = label_encoder.inverse_transform(_predicted_labels)\n",
    "\n",
    "for i in range(0, len(predicted_labels)):\n",
    "  if test_labels[i] != predicted_labels[i]:\n",
    "    print('Sentence: ', test_sentences[i])\n",
    "    print('Original label: ', test_labels[i])\n",
    "    print('Predicted label: ', predicted_labels[i])\n",
    "    print()"
   ]
  },
  {
   "cell_type": "markdown",
   "metadata": {},
   "source": [
    "---\n",
    "\n",
    " <h1><a name=\"ex-five\"><center> ✏ Exercici 5 ✏ </a></h1>\n",
    "\n",
    "Modifiqueu els següents paràmetres del model anterior i analitzeu com afecten a la seva *accuracy*:\n",
    "\n",
    " 1. **Preprocessament.** Modifiqueu el Tokenizer per canviar la mida del vostre vocabulari i afegiu nous passos de preprocessament. Alguns possibles canvis són canviar la mida del vocabulari, treure la capitalització o fer servir *lemmatització* o *stemming*.\n"
   ]
  },
  {
   "cell_type": "code",
   "execution_count": 121,
   "metadata": {},
   "outputs": [],
   "source": [
    "# Preprocesamiento avanzado: lematización y descapitalización\n",
    "def preprocess(num_words, train_sentences, val_data, test_data):\n",
    "    lemmatizer = WordNetLemmatizer()\n",
    "\n",
    "    def preprocess_sentence(sentences):\n",
    "        processed = []\n",
    "        for sentence in sentences:\n",
    "            words = nltk.word_tokenize(sentence.lower())  # descapitalización y tokenización\n",
    "            lemmatized = [lemmatizer.lemmatize(word) for word in words]\n",
    "            processed.append(' '.join(lemmatized))\n",
    "        return processed\n",
    "\n",
    "    # Aplica el preprocesamiento a los datos de entrenamiento, validación y test\n",
    "    train_sentences_lemmatized = preprocess_sentence(train_sentences)\n",
    "    val_sentences_lemmatized = preprocess_sentence(list(val_data[0]))\n",
    "    test_sentences_lemmatized = preprocess_sentence(list(test_data[0]))\n",
    "\n",
    "    # Tokenizer con el mismo num_words (puedes cambiarlo para comparar)\n",
    "    tokenizer_lemmatized = Tokenizer(num_words)\n",
    "    tokenizer_lemmatized.fit_on_texts(train_sentences_lemmatized)\n",
    "\n",
    "    # Secuencias\n",
    "    train_sequences_lemmatized = tokenizer_lemmatized.texts_to_sequences(train_sentences_lemmatized)\n",
    "    val_sequences_lemmatized = tokenizer_lemmatized.texts_to_sequences(val_sentences_lemmatized)\n",
    "    test_sequences_lemmatized = tokenizer_lemmatized.texts_to_sequences(test_sentences_lemmatized)\n",
    "\n",
    "    # Padding\n",
    "    max_sequence_length_lemmatized = max(map(len, train_sequences_lemmatized))\n",
    "    train_pad_sequences_lemmatized = pad_sequences(train_sequences_lemmatized, maxlen=max_sequence_length_lemmatized, padding='post')\n",
    "    val_pad_sequences_lemmatized = pad_sequences(val_sequences_lemmatized, maxlen=max_sequence_length_lemmatized, padding='post')\n",
    "    test_pad_sequences_lemmatized = pad_sequences(test_sequences_lemmatized, maxlen=max_sequence_length_lemmatized, padding='post')\n",
    "\n",
    "    # Las etiquetas se procesan igual que antes\n",
    "    val_labels_lemmatized = [lbl.strip().replace('\"', '').replace(\"'\", '') for lbl in list(val_data[2])]\n",
    "    test_labels_lemmatized = [lbl.strip().replace('\"', '').replace(\"'\", '') for lbl in list(test_data[2])]\n",
    "\n",
    "    label_encoder_lemmatized = LabelEncoder()\n",
    "    train_numerical_labels_lemmatized = label_encoder_lemmatized.fit_transform(train_labels)  # Usamos las etiquetas originales de entrenamiento\n",
    "    train_encoded_labels_lemmatized = to_categorical(train_numerical_labels_lemmatized, num_classes)\n",
    "\n",
    "    values_to_remove = ['day_name','airfare+flight','flight+airline','flight_no+airline']\n",
    "    def remove_values_and_indices(input_list, values_to_remove, other_list):\n",
    "        indices_to_remove = [idx for idx, item in enumerate(input_list) if item in values_to_remove]\n",
    "        cleaned_list = [item for item in input_list if item not in values_to_remove]\n",
    "        cleaned_other_list = [item for idx, item in enumerate(other_list) if idx not in indices_to_remove]\n",
    "        return cleaned_list, np.array(cleaned_other_list)\n",
    "\n",
    "    val_labels_lemmatized, val_pad_sequences_lemmatized = remove_values_and_indices(val_labels_lemmatized, values_to_remove, val_pad_sequences_lemmatized)\n",
    "    test_labels_lemmatized, test_pad_sequences_lemmatized = remove_values_and_indices(test_labels_lemmatized, values_to_remove, test_pad_sequences_lemmatized)\n",
    "\n",
    "    val_numerical_labels_lemmatized = label_encoder.transform(val_labels_lemmatized)\n",
    "    test_numerical_labels_lemmatized = label_encoder.transform(test_labels_lemmatized)\n",
    "\n",
    "    val_encoded_labels_lemmatized = to_categorical(val_numerical_labels_lemmatized, num_classes)\n",
    "    test_encoded_labels_lemmatized = to_categorical(test_numerical_labels_lemmatized, num_classes)\n",
    "\n",
    "    return train_pad_sequences_lemmatized, train_encoded_labels_lemmatized, val_pad_sequences_lemmatized, val_encoded_labels_lemmatized, test_pad_sequences_lemmatized, test_encoded_labels_lemmatized"
   ]
  },
  {
   "cell_type": "code",
   "execution_count": 122,
   "metadata": {},
   "outputs": [
    {
     "name": "stdout",
     "output_type": "stream",
     "text": [
      "Epoch 1/30\n"
     ]
    },
    {
     "name": "stderr",
     "output_type": "stream",
     "text": [
      "/home/manukali/TVD_P2/TVD_P2_environment/lib/python3.13/site-packages/keras/src/layers/core/embedding.py:97: UserWarning: Argument `input_length` is deprecated. Just remove it.\n",
      "  warnings.warn(\n"
     ]
    },
    {
     "name": "stdout",
     "output_type": "stream",
     "text": [
      "\u001b[1m128/128\u001b[0m \u001b[32m━━━━━━━━━━━━━━━━━━━━\u001b[0m\u001b[37m\u001b[0m \u001b[1m1s\u001b[0m 6ms/step - accuracy: 0.7629 - loss: 1.0841 - val_accuracy: 0.8522 - val_loss: 0.7009\n",
      "Epoch 2/30\n",
      "\u001b[1m128/128\u001b[0m \u001b[32m━━━━━━━━━━━━━━━━━━━━\u001b[0m\u001b[37m\u001b[0m \u001b[1m1s\u001b[0m 5ms/step - accuracy: 0.8821 - loss: 0.4861 - val_accuracy: 0.8933 - val_loss: 0.4257\n",
      "Epoch 3/30\n",
      "\u001b[1m128/128\u001b[0m \u001b[32m━━━━━━━━━━━━━━━━━━━━\u001b[0m\u001b[37m\u001b[0m \u001b[1m1s\u001b[0m 5ms/step - accuracy: 0.9213 - loss: 0.2859 - val_accuracy: 0.9222 - val_loss: 0.3001\n",
      "Epoch 4/30\n",
      "\u001b[1m128/128\u001b[0m \u001b[32m━━━━━━━━━━━━━━━━━━━━\u001b[0m\u001b[37m\u001b[0m \u001b[1m1s\u001b[0m 5ms/step - accuracy: 0.9490 - loss: 0.1822 - val_accuracy: 0.9356 - val_loss: 0.2394\n",
      "Epoch 5/30\n",
      "\u001b[1m128/128\u001b[0m \u001b[32m━━━━━━━━━━━━━━━━━━━━\u001b[0m\u001b[37m\u001b[0m \u001b[1m1s\u001b[0m 4ms/step - accuracy: 0.9689 - loss: 0.1237 - val_accuracy: 0.9500 - val_loss: 0.2073\n",
      "Epoch 6/30\n",
      "\u001b[1m128/128\u001b[0m \u001b[32m━━━━━━━━━━━━━━━━━━━━\u001b[0m\u001b[37m\u001b[0m \u001b[1m1s\u001b[0m 5ms/step - accuracy: 0.9809 - loss: 0.0865 - val_accuracy: 0.9567 - val_loss: 0.1865\n",
      "Epoch 7/30\n",
      "\u001b[1m128/128\u001b[0m \u001b[32m━━━━━━━━━━━━━━━━━━━━\u001b[0m\u001b[37m\u001b[0m \u001b[1m1s\u001b[0m 6ms/step - accuracy: 0.9885 - loss: 0.0633 - val_accuracy: 0.9567 - val_loss: 0.1754\n",
      "Epoch 8/30\n",
      "\u001b[1m128/128\u001b[0m \u001b[32m━━━━━━━━━━━━━━━━━━━━\u001b[0m\u001b[37m\u001b[0m \u001b[1m1s\u001b[0m 4ms/step - accuracy: 0.9912 - loss: 0.0478 - val_accuracy: 0.9567 - val_loss: 0.1683\n",
      "Epoch 9/30\n",
      "\u001b[1m128/128\u001b[0m \u001b[32m━━━━━━━━━━━━━━━━━━━━\u001b[0m\u001b[37m\u001b[0m \u001b[1m1s\u001b[0m 5ms/step - accuracy: 0.9929 - loss: 0.0369 - val_accuracy: 0.9533 - val_loss: 0.1668\n",
      "Epoch 10/30\n",
      "\u001b[1m128/128\u001b[0m \u001b[32m━━━━━━━━━━━━━━━━━━━━\u001b[0m\u001b[37m\u001b[0m \u001b[1m1s\u001b[0m 4ms/step - accuracy: 0.9939 - loss: 0.0290 - val_accuracy: 0.9533 - val_loss: 0.1668\n",
      "Epoch 11/30\n",
      "\u001b[1m128/128\u001b[0m \u001b[32m━━━━━━━━━━━━━━━━━━━━\u001b[0m\u001b[37m\u001b[0m \u001b[1m1s\u001b[0m 5ms/step - accuracy: 0.9946 - loss: 0.0232 - val_accuracy: 0.9567 - val_loss: 0.1654\n",
      "Epoch 12/30\n",
      "\u001b[1m128/128\u001b[0m \u001b[32m━━━━━━━━━━━━━━━━━━━━\u001b[0m\u001b[37m\u001b[0m \u001b[1m1s\u001b[0m 6ms/step - accuracy: 0.9956 - loss: 0.0183 - val_accuracy: 0.9600 - val_loss: 0.1638\n",
      "Epoch 13/30\n",
      "\u001b[1m128/128\u001b[0m \u001b[32m━━━━━━━━━━━━━━━━━━━━\u001b[0m\u001b[37m\u001b[0m \u001b[1m1s\u001b[0m 4ms/step - accuracy: 0.9966 - loss: 0.0146 - val_accuracy: 0.9622 - val_loss: 0.1615\n",
      "Epoch 14/30\n",
      "\u001b[1m128/128\u001b[0m \u001b[32m━━━━━━━━━━━━━━━━━━━━\u001b[0m\u001b[37m\u001b[0m \u001b[1m1s\u001b[0m 4ms/step - accuracy: 0.9973 - loss: 0.0116 - val_accuracy: 0.9622 - val_loss: 0.1610\n",
      "Epoch 15/30\n",
      "\u001b[1m128/128\u001b[0m \u001b[32m━━━━━━━━━━━━━━━━━━━━\u001b[0m\u001b[37m\u001b[0m \u001b[1m1s\u001b[0m 4ms/step - accuracy: 0.9980 - loss: 0.0093 - val_accuracy: 0.9611 - val_loss: 0.1625\n",
      "Epoch 16/30\n",
      "\u001b[1m128/128\u001b[0m \u001b[32m━━━━━━━━━━━━━━━━━━━━\u001b[0m\u001b[37m\u001b[0m \u001b[1m1s\u001b[0m 5ms/step - accuracy: 0.9993 - loss: 0.0076 - val_accuracy: 0.9644 - val_loss: 0.1645\n",
      "Epoch 17/30\n",
      "\u001b[1m128/128\u001b[0m \u001b[32m━━━━━━━━━━━━━━━━━━━━\u001b[0m\u001b[37m\u001b[0m \u001b[1m1s\u001b[0m 6ms/step - accuracy: 0.9995 - loss: 0.0062 - val_accuracy: 0.9622 - val_loss: 0.1686\n",
      "Epoch 18/30\n",
      "\u001b[1m128/128\u001b[0m \u001b[32m━━━━━━━━━━━━━━━━━━━━\u001b[0m\u001b[37m\u001b[0m \u001b[1m1s\u001b[0m 6ms/step - accuracy: 0.9995 - loss: 0.0052 - val_accuracy: 0.9622 - val_loss: 0.1741\n",
      "Epoch 19/30\n",
      "\u001b[1m128/128\u001b[0m \u001b[32m━━━━━━━━━━━━━━━━━━━━\u001b[0m\u001b[37m\u001b[0m \u001b[1m1s\u001b[0m 5ms/step - accuracy: 0.9995 - loss: 0.0043 - val_accuracy: 0.9600 - val_loss: 0.1797\n"
     ]
    }
   ],
   "source": [
    "import os\n",
    "\n",
    "if not os.path.exists('./models/model_preprocessed.keras'):\n",
    "    train_pad_sequences_lemmatized, train_encoded_labels_lemmatized, val_pad_sequences_lemmatized, val_encoded_labels_lemmatized, test_pad_sequences_lemmatized, test_encoded_labels_lemmatized = preprocess(500, train_sentences=train_sentences, val_data=val_data, test_data= test_data)\n",
    "    # Paràmetres\n",
    "    vocab_size = len(vocab)       # 893 paraules\n",
    "    embedding_dim = 300           # mida del vector d'embedding\n",
    "    max_sequence_length = 45      # longitud fixa de les seqüències després del padding\n",
    "    num_classes = len(label_encoder.classes_)  # nombre de classes\n",
    "\n",
    "    # Definim el model\n",
    "    modelo_preprocesado = Sequential([\n",
    "        # Capa Embedding\n",
    "        Embedding(input_dim=vocab_size, output_dim=embedding_dim, input_length=max_sequence_length),\n",
    "\n",
    "        # Global Max Pooling\n",
    "        GlobalMaxPooling1D(),\n",
    "\n",
    "        # Capa Dense amb ReLU\n",
    "        Dense(128, activation='relu'),\n",
    "\n",
    "        # Capa Dense amb Softmax (sortida)\n",
    "        Dense(num_classes, activation='softmax')\n",
    "    ])\n",
    "\n",
    "    # Compilar el model\n",
    "    modelo_preprocesado.compile(\n",
    "        optimizer='adam',\n",
    "        loss='categorical_crossentropy',\n",
    "        metrics=['accuracy']\n",
    "    )\n",
    "\n",
    "    early_stop = EarlyStopping(\n",
    "        monitor='val_loss',     # se fija en la pérdida de validación\n",
    "        patience=5,             # espera 3 epochs sin mejora antes de parar\n",
    "        restore_best_weights=True\n",
    "    )\n",
    "\n",
    "    # Entrenament\n",
    "    history = modelo_preprocesado.fit(\n",
    "        train_pad_sequences_lemmatized, train_encoded_labels_lemmatized,\n",
    "        validation_data=(val_pad_sequences_lemmatized, val_encoded_labels_lemmatized),\n",
    "        epochs=30,\n",
    "        batch_size=32,\n",
    "        callbacks=[early_stop]\n",
    "    )\n",
    "    modelo_preprocesado.save('./models/model_preprocessed.keras')\n",
    "else:\n",
    "    modelo_preprocesado = tf.keras.models.load_model('./models/model_preprocessed.keras')"
   ]
  },
  {
   "cell_type": "code",
   "execution_count": 123,
   "metadata": {},
   "outputs": [],
   "source": [
    "# Evaluación en el conjunto de test\n",
    "def evaluacion(model, test_labels, test_sequences):\n",
    "    # Predicciones en test\n",
    "    test_probs = model.predict(test_sequences)\n",
    "    test_pred_labels = np.argmax(test_probs, axis=1)\n",
    "    test_true_labels = np.argmax(test_labels, axis=1)\n",
    "    # Accuracy\n",
    "    test_accuracy = accuracy_score(test_true_labels, test_pred_labels)\n",
    "    print(f\"Test Accuracy: {test_accuracy:.4f}\")\n",
    "\n",
    "    # Classification report\n",
    "    all_labels = np.arange(len(label_encoder.classes_))\n",
    "    print(classification_report(\n",
    "        test_true_labels, test_pred_labels,\n",
    "        labels=all_labels,\n",
    "        target_names=label_encoder.classes_,\n",
    "        zero_division=0\n",
    "    ))\n",
    "\n",
    "#no hacemos matriz de confusión porque las clases están demasiado desbalanceadas por la clase Flight\n"
   ]
  },
  {
   "cell_type": "code",
   "execution_count": 124,
   "metadata": {},
   "outputs": [
    {
     "name": "stdout",
     "output_type": "stream",
     "text": [
      "\u001b[1m28/28\u001b[0m \u001b[32m━━━━━━━━━━━━━━━━━━━━\u001b[0m\u001b[37m\u001b[0m \u001b[1m0s\u001b[0m 2ms/step \n",
      "Test Accuracy: 0.9257\n",
      "                            precision    recall  f1-score   support\n",
      "\n",
      "              abbreviation       1.00      1.00      1.00        33\n",
      "                  aircraft       0.43      0.67      0.52         9\n",
      " aircraft+flight+flight_no       0.00      0.00      0.00         0\n",
      "                   airfare       0.90      0.96      0.93        48\n",
      "       airfare+flight_time       0.00      0.00      0.00         0\n",
      "                   airline       0.94      0.84      0.89        38\n",
      "         airline+flight_no       0.00      0.00      0.00         0\n",
      "                   airport       0.88      0.78      0.82        18\n",
      "                  capacity       0.92      0.57      0.71        21\n",
      "                  cheapest       0.00      0.00      0.00         0\n",
      "                      city       0.00      0.00      0.00         6\n",
      "                  distance       1.00      0.90      0.95        10\n",
      "                    flight       0.94      0.99      0.96       632\n",
      "            flight+airfare       0.00      0.00      0.00        12\n",
      "                 flight_no       0.00      0.00      0.00         8\n",
      "               flight_time       1.00      1.00      1.00         1\n",
      "               ground_fare       1.00      0.71      0.83         7\n",
      "            ground_service       0.97      1.00      0.99        36\n",
      "ground_service+ground_fare       0.00      0.00      0.00         0\n",
      "                      meal       0.00      0.00      0.00         6\n",
      "                  quantity       0.43      1.00      0.60         3\n",
      "               restriction       0.00      0.00      0.00         0\n",
      "\n",
      "                  accuracy                           0.93       888\n",
      "                 macro avg       0.47      0.47      0.46       888\n",
      "              weighted avg       0.90      0.93      0.91       888\n",
      "\n",
      "\u001b[1m28/28\u001b[0m \u001b[32m━━━━━━━━━━━━━━━━━━━━\u001b[0m\u001b[37m\u001b[0m \u001b[1m0s\u001b[0m 2ms/step \n",
      "Test Accuracy: 0.9268\n",
      "                            precision    recall  f1-score   support\n",
      "\n",
      "              abbreviation       1.00      1.00      1.00        33\n",
      "                  aircraft       0.62      0.89      0.73         9\n",
      " aircraft+flight+flight_no       0.00      0.00      0.00         0\n",
      "                   airfare       0.90      0.94      0.92        48\n",
      "       airfare+flight_time       0.00      0.00      0.00         0\n",
      "                   airline       0.88      0.79      0.83        38\n",
      "         airline+flight_no       0.00      0.00      0.00         0\n",
      "                   airport       1.00      0.61      0.76        18\n",
      "                  capacity       0.94      0.76      0.84        21\n",
      "                  cheapest       0.00      0.00      0.00         0\n",
      "                      city       0.00      0.00      0.00         6\n",
      "                  distance       1.00      0.90      0.95        10\n",
      "                    flight       0.93      0.98      0.96       632\n",
      "            flight+airfare       1.00      0.08      0.15        12\n",
      "                 flight_no       1.00      0.38      0.55         8\n",
      "               flight_time       1.00      1.00      1.00         1\n",
      "               ground_fare       1.00      0.71      0.83         7\n",
      "            ground_service       0.97      1.00      0.99        36\n",
      "ground_service+ground_fare       0.00      0.00      0.00         0\n",
      "                      meal       0.00      0.00      0.00         6\n",
      "                  quantity       0.43      1.00      0.60         3\n",
      "               restriction       0.00      0.00      0.00         0\n",
      "\n",
      "                  accuracy                           0.93       888\n",
      "                 macro avg       0.58      0.50      0.50       888\n",
      "              weighted avg       0.92      0.93      0.91       888\n",
      "\n"
     ]
    }
   ],
   "source": [
    "evaluacion(modelo_basico, test_labels=test_encoded_labels, test_sequences=test_pad_sequences)\n",
    "evaluacion(modelo_preprocesado, test_labels=test_encoded_labels_lemmatized, test_sequences=test_pad_sequences_lemmatized)"
   ]
  },
  {
   "cell_type": "markdown",
   "metadata": {},
   "source": [
    "Primero probamos con el mismo tamaño de vocabulario pero mejorando el preprocesamiento del conjunto de entrenamiento. A pesar de ello, los resultados son muy similares a los obtenidos anteriormente."
   ]
  },
  {
   "cell_type": "markdown",
   "metadata": {},
   "source": [
    "Ahora jugaremos con la medida del vocabulario"
   ]
  },
  {
   "cell_type": "code",
   "execution_count": 125,
   "metadata": {},
   "outputs": [
    {
     "name": "stderr",
     "output_type": "stream",
     "text": [
      "Probando vocabularios: 100%|██████████| 13/13 [01:59<00:00,  9.16s/it]\n"
     ]
    },
    {
     "data": {
      "image/png": "[encoded data removed]",
      "text/plain": [
       "<Figure size 800x500 with 1 Axes>"
      ]
     },
     "metadata": {},
     "output_type": "display_data"
    }
   ],
   "source": [
    "# Parámetros fijos\n",
    "embedding_dim = 300\n",
    "max_sequence_length = 45\n",
    "num_classes = len(label_encoder.classes_)\n",
    "batch_size = 32\n",
    "epochs = 30\n",
    "accuracies = list()\n",
    "best_accuracy = 0\n",
    "best_model = None\n",
    "best_vocab_size = None\n",
    "\n",
    "from keras.models import clone_model\n",
    "\n",
    "vocab_sizes = list(range(200, 801, 50))\n",
    "for vocab_size in tqdm(vocab_sizes, desc=\"Probando vocabularios\"):\n",
    "    # Tokenizer y secuencias para cada vocab_size\n",
    "    train_pad_sequences_lemmatized, train_encoded_labels_lemmatized, val_pad_sequences_lemmatized, val_encoded_labels_lemmatized, test_pad_sequences_lemmatized, test_encoded_labels_lemmatized = preprocess(vocab_size, train_sentences=train_sentences, val_data=val_data, test_data= test_data)\n",
    "    # Definim el model\n",
    "    model = Sequential([\n",
    "        Embedding(input_dim=vocab_size, output_dim=embedding_dim),\n",
    "        GlobalMaxPooling1D(),\n",
    "        Dense(128, activation='relu'),\n",
    "        Dense(num_classes, activation='softmax')\n",
    "    ])\n",
    "\n",
    "    model.compile(optimizer='adam', loss='categorical_crossentropy', metrics=['accuracy'])\n",
    "    early_stop = EarlyStopping(monitor='val_loss', patience=5, restore_best_weights=True)\n",
    "\n",
    "    history = model.fit(\n",
    "        train_pad_sequences_lemmatized, train_encoded_labels_lemmatized,\n",
    "        validation_data=(val_pad_sequences_lemmatized, val_encoded_labels_lemmatized),\n",
    "        epochs=epochs,\n",
    "        batch_size=batch_size,\n",
    "        callbacks=[early_stop],\n",
    "        verbose=0\n",
    "    )\n",
    "    test_probs = model.predict(test_pad_sequences_lemmatized, verbose=0)\n",
    "    test_pred_labels = np.argmax(test_probs, axis=1)\n",
    "    test_true_labels = np.argmax(test_encoded_labels_lemmatized, axis=1)\n",
    "    test_accuracy = accuracy_score(test_true_labels, test_pred_labels)\n",
    "    accuracies.append(test_accuracy)\n",
    "\n",
    "    if test_accuracy > best_accuracy:\n",
    "        best_accuracy = test_accuracy\n",
    "        best_model = clone_model(model)\n",
    "        best_model.set_weights(model.get_weights())\n",
    "        best_vocab_size = vocab_size\n",
    "\n",
    "# Guardar el mejor modelo\n",
    "best_model.save(f'./models/best_model_vocab_{best_vocab_size}.keras')\n",
    "\n",
    "# Plot accuracy vs vocab_size\n",
    "plt.figure(figsize=(8,5))\n",
    "plt.plot(vocab_sizes, accuracies, marker='o')\n",
    "plt.xlabel('Vocab Size')\n",
    "plt.ylabel('Test Accuracy')\n",
    "plt.title('Accuracy vs Vocab Size')\n",
    "plt.grid(True)\n",
    "plt.show()"
   ]
  },
  {
   "cell_type": "code",
   "execution_count": 131,
   "metadata": {},
   "outputs": [
    {
     "name": "stdout",
     "output_type": "stream",
     "text": [
      "\u001b[1m28/28\u001b[0m \u001b[32m━━━━━━━━━━━━━━━━━━━━\u001b[0m\u001b[37m\u001b[0m \u001b[1m0s\u001b[0m 2ms/step \n",
      "Test Accuracy: 0.9302\n",
      "                            precision    recall  f1-score   support\n",
      "\n",
      "              abbreviation       1.00      1.00      1.00        33\n",
      "                  aircraft       0.89      0.89      0.89         9\n",
      " aircraft+flight+flight_no       0.00      0.00      0.00         0\n",
      "                   airfare       0.90      0.90      0.90        48\n",
      "       airfare+flight_time       0.00      0.00      0.00         0\n",
      "                   airline       0.91      0.76      0.83        38\n",
      "         airline+flight_no       0.00      0.00      0.00         0\n",
      "                   airport       1.00      0.78      0.88        18\n",
      "                  capacity       1.00      0.90      0.95        21\n",
      "                  cheapest       0.00      0.00      0.00         0\n",
      "                      city       0.00      0.00      0.00         6\n",
      "                  distance       1.00      0.90      0.95        10\n",
      "                    flight       0.93      0.99      0.96       632\n",
      "            flight+airfare       0.00      0.00      0.00        12\n",
      "                 flight_no       1.00      0.25      0.40         8\n",
      "               flight_time       1.00      1.00      1.00         1\n",
      "               ground_fare       1.00      0.71      0.83         7\n",
      "            ground_service       0.95      1.00      0.97        36\n",
      "ground_service+ground_fare       0.00      0.00      0.00         0\n",
      "                      meal       0.00      0.00      0.00         6\n",
      "                  quantity       0.43      1.00      0.60         3\n",
      "               restriction       0.00      0.00      0.00         0\n",
      "\n",
      "                  accuracy                           0.93       888\n",
      "                 macro avg       0.55      0.50      0.51       888\n",
      "              weighted avg       0.91      0.93      0.92       888\n",
      "\n"
     ]
    }
   ],
   "source": [
    "modelo_vocab_optimo = tf.keras.models.load_model(f'./models/best_model_vocab_{best_vocab_size}.keras')\n",
    "vocab_size = best_vocab_size\n",
    "train_pad_sequences_lemmatized, train_encoded_labels_lemmatized, val_pad_sequences_lemmatized, val_encoded_labels_lemmatized, test_pad_sequences_lemmatized, test_encoded_labels_lemmatized = preprocess(vocab_size, train_sentences=train_sentences, val_data=val_data, test_data= test_data)\n",
    "evaluacion(modelo_vocab_optimo, test_labels=test_encoded_labels_lemmatized, test_sequences=test_pad_sequences_lemmatized)"
   ]
  },
  {
   "cell_type": "markdown",
   "metadata": {},
   "source": [
    "\n",
    " 2. **Mida dels Embeddings.** Proveu diferents mides d'*Embeddings* i observeu com canvia l'*accuracy* del model. Heu d'explicar les vostres conclusions.\n"
   ]
  },
  {
   "cell_type": "code",
   "execution_count": 133,
   "metadata": {},
   "outputs": [
    {
     "name": "stderr",
     "output_type": "stream",
     "text": [
      "Probando dimensiones de embedding:   0%|          | 0/10 [00:00<?, ?it/s]"
     ]
    },
    {
     "name": "stdout",
     "output_type": "stream",
     "text": [
      "\u001b[1m28/28\u001b[0m \u001b[32m━━━━━━━━━━━━━━━━━━━━\u001b[0m\u001b[37m\u001b[0m \u001b[1m0s\u001b[0m 2ms/step\n"
     ]
    },
    {
     "name": "stderr",
     "output_type": "stream",
     "text": [
      "Probando dimensiones de embedding:  10%|█         | 1/10 [00:06<00:59,  6.61s/it]"
     ]
    },
    {
     "name": "stdout",
     "output_type": "stream",
     "text": [
      "\u001b[1m28/28\u001b[0m \u001b[32m━━━━━━━━━━━━━━━━━━━━\u001b[0m\u001b[37m\u001b[0m \u001b[1m0s\u001b[0m 2ms/step \n"
     ]
    },
    {
     "name": "stderr",
     "output_type": "stream",
     "text": [
      "Probando dimensiones de embedding:  20%|██        | 2/10 [00:16<01:10,  8.79s/it]"
     ]
    },
    {
     "name": "stdout",
     "output_type": "stream",
     "text": [
      "\u001b[1m28/28\u001b[0m \u001b[32m━━━━━━━━━━━━━━━━━━━━\u001b[0m\u001b[37m\u001b[0m \u001b[1m0s\u001b[0m 2ms/step\n"
     ]
    },
    {
     "name": "stderr",
     "output_type": "stream",
     "text": [
      "Probando dimensiones de embedding:  30%|███       | 3/10 [00:27<01:07,  9.64s/it]"
     ]
    },
    {
     "name": "stdout",
     "output_type": "stream",
     "text": [
      "\u001b[1m28/28\u001b[0m \u001b[32m━━━━━━━━━━━━━━━━━━━━\u001b[0m\u001b[37m\u001b[0m \u001b[1m0s\u001b[0m 2ms/step\n"
     ]
    },
    {
     "name": "stderr",
     "output_type": "stream",
     "text": [
      "Probando dimensiones de embedding:  40%|████      | 4/10 [00:38<01:00, 10.03s/it]"
     ]
    },
    {
     "name": "stdout",
     "output_type": "stream",
     "text": [
      "\u001b[1m28/28\u001b[0m \u001b[32m━━━━━━━━━━━━━━━━━━━━\u001b[0m\u001b[37m\u001b[0m \u001b[1m0s\u001b[0m 2ms/step\n"
     ]
    },
    {
     "name": "stderr",
     "output_type": "stream",
     "text": [
      "Probando dimensiones de embedding:  50%|█████     | 5/10 [00:48<00:51, 10.24s/it]"
     ]
    },
    {
     "name": "stdout",
     "output_type": "stream",
     "text": [
      "\u001b[1m28/28\u001b[0m \u001b[32m━━━━━━━━━━━━━━━━━━━━\u001b[0m\u001b[37m\u001b[0m \u001b[1m0s\u001b[0m 2ms/step\n"
     ]
    },
    {
     "name": "stderr",
     "output_type": "stream",
     "text": [
      "Probando dimensiones de embedding:  60%|██████    | 6/10 [00:59<00:41, 10.28s/it]"
     ]
    },
    {
     "name": "stdout",
     "output_type": "stream",
     "text": [
      "\u001b[1m28/28\u001b[0m \u001b[32m━━━━━━━━━━━━━━━━━━━━\u001b[0m\u001b[37m\u001b[0m \u001b[1m0s\u001b[0m 3ms/step\n"
     ]
    },
    {
     "name": "stderr",
     "output_type": "stream",
     "text": [
      "Probando dimensiones de embedding:  70%|███████   | 7/10 [01:48<01:08, 22.91s/it]"
     ]
    },
    {
     "name": "stdout",
     "output_type": "stream",
     "text": [
      "\u001b[1m28/28\u001b[0m \u001b[32m━━━━━━━━━━━━━━━━━━━━\u001b[0m\u001b[37m\u001b[0m \u001b[1m0s\u001b[0m 2ms/step\n"
     ]
    },
    {
     "name": "stderr",
     "output_type": "stream",
     "text": [
      "Probando dimensiones de embedding:  80%|████████  | 8/10 [02:00<00:39, 19.66s/it]"
     ]
    },
    {
     "name": "stdout",
     "output_type": "stream",
     "text": [
      "\u001b[1m28/28\u001b[0m \u001b[32m━━━━━━━━━━━━━━━━━━━━\u001b[0m\u001b[37m\u001b[0m \u001b[1m0s\u001b[0m 3ms/step\n"
     ]
    },
    {
     "name": "stderr",
     "output_type": "stream",
     "text": [
      "Probando dimensiones de embedding:  90%|█████████ | 9/10 [02:13<00:17, 17.55s/it]"
     ]
    },
    {
     "name": "stdout",
     "output_type": "stream",
     "text": [
      "\u001b[1m28/28\u001b[0m \u001b[32m━━━━━━━━━━━━━━━━━━━━\u001b[0m\u001b[37m\u001b[0m \u001b[1m0s\u001b[0m 3ms/step\n"
     ]
    },
    {
     "name": "stderr",
     "output_type": "stream",
     "text": [
      "Probando dimensiones de embedding: 100%|██████████| 10/10 [02:27<00:00, 14.71s/it]\n"
     ]
    },
    {
     "data": {
      "image/png": "[encoded data removed]",
      "text/plain": [
       "<Figure size 800x500 with 1 Axes>"
      ]
     },
     "metadata": {},
     "output_type": "display_data"
    }
   ],
   "source": [
    "# Parámetros fijos\n",
    "embedding_dims = list(range(50, 501, 50))\n",
    "max_sequence_length = 45\n",
    "num_classes = len(label_encoder.classes_)\n",
    "batch_size = 32\n",
    "epochs = 30\n",
    "accuracies = list()\n",
    "best_accuracy = 0\n",
    "best_model = None\n",
    "best_embedding_dim = None\n",
    "\n",
    "from keras.models import clone_model\n",
    "\n",
    "for embedding_dim in tqdm(embedding_dims, desc=\"Probando dimensiones de embedding\"):    \n",
    "    train_pad_sequences_lemmatized, train_encoded_labels_lemmatized, val_pad_sequences_lemmatized, val_encoded_labels_lemmatized, test_pad_sequences_lemmatized, test_encoded_labels_lemmatized = preprocess(500, train_sentences=train_sentences, val_data=val_data, test_data= test_data)\n",
    "    # Definim el model\n",
    "    model = Sequential([\n",
    "        Embedding(input_dim=vocab_size, output_dim=embedding_dim),\n",
    "        GlobalMaxPooling1D(),\n",
    "        Dense(128, activation='relu'),\n",
    "        Dense(num_classes, activation='softmax')\n",
    "    ])\n",
    "\n",
    "    model.compile(optimizer='adam', loss='categorical_crossentropy', metrics=['accuracy'])\n",
    "\n",
    "    early_stop = EarlyStopping(monitor='val_loss', patience=5, restore_best_weights=True)\n",
    "\n",
    "    history = model.fit(\n",
    "        train_pad_sequences_lemmatized, train_encoded_labels_lemmatized,\n",
    "        validation_data=(val_pad_sequences_lemmatized, val_encoded_labels_lemmatized),\n",
    "        epochs=epochs,\n",
    "        batch_size=batch_size,\n",
    "        callbacks=[early_stop],\n",
    "        verbose=0\n",
    "    )\n",
    "\n",
    "    test_probs = model.predict(test_pad_sequences_lemmatized)\n",
    "    test_pred_labels = np.argmax(test_probs, axis=1)\n",
    "    test_true_labels = np.argmax(test_encoded_labels_lemmatized, axis=1)\n",
    "    test_accuracy = accuracy_score(test_true_labels, test_pred_labels)\n",
    "    accuracies.append(test_accuracy)\n",
    "\n",
    "    if test_accuracy > best_accuracy:\n",
    "        best_accuracy = test_accuracy\n",
    "        best_model = clone_model(model)\n",
    "        best_model.set_weights(model.get_weights())\n",
    "        best_embedding_dim = embedding_dim\n",
    "\n",
    "# Guardar el mejor modelo\n",
    "best_model.save(f'./models/best_model_embedding{best_embedding_dim}.keras')\n",
    "\n",
    "# Plot accuracy vs vocab_size\n",
    "plt.figure(figsize=(8,5))\n",
    "plt.plot(embedding_dims, accuracies, marker='o')\n",
    "plt.xlabel('Embedding Dimension')\n",
    "plt.ylabel('Test Accuracy')\n",
    "plt.title('Accuracy vs Embedding Dimension')\n",
    "plt.grid(True)\n",
    "plt.show()"
   ]
  },
  {
   "cell_type": "code",
   "execution_count": 134,
   "metadata": {},
   "outputs": [
    {
     "name": "stdout",
     "output_type": "stream",
     "text": [
      "\u001b[1m28/28\u001b[0m \u001b[32m━━━━━━━━━━━━━━━━━━━━\u001b[0m\u001b[37m\u001b[0m \u001b[1m0s\u001b[0m 2ms/step \n",
      "Test Accuracy: 0.9347\n",
      "                            precision    recall  f1-score   support\n",
      "\n",
      "              abbreviation       1.00      1.00      1.00        33\n",
      "                  aircraft       0.75      1.00      0.86         9\n",
      " aircraft+flight+flight_no       0.00      0.00      0.00         0\n",
      "                   airfare       0.92      0.96      0.94        48\n",
      "       airfare+flight_time       0.00      0.00      0.00         0\n",
      "                   airline       0.89      0.87      0.88        38\n",
      "         airline+flight_no       0.00      0.00      0.00         0\n",
      "                   airport       1.00      0.61      0.76        18\n",
      "                  capacity       1.00      0.86      0.92        21\n",
      "                  cheapest       0.00      0.00      0.00         0\n",
      "                      city       0.00      0.00      0.00         6\n",
      "                  distance       1.00      0.90      0.95        10\n",
      "                    flight       0.94      0.99      0.96       632\n",
      "            flight+airfare       0.00      0.00      0.00        12\n",
      "                 flight_no       1.00      0.25      0.40         8\n",
      "               flight_time       1.00      1.00      1.00         1\n",
      "               ground_fare       1.00      0.86      0.92         7\n",
      "            ground_service       0.97      1.00      0.99        36\n",
      "ground_service+ground_fare       0.00      0.00      0.00         0\n",
      "                      meal       0.00      0.00      0.00         6\n",
      "                  quantity       0.43      1.00      0.60         3\n",
      "               restriction       0.00      0.00      0.00         0\n",
      "\n",
      "                  accuracy                           0.93       888\n",
      "                 macro avg       0.54      0.51      0.51       888\n",
      "              weighted avg       0.91      0.93      0.92       888\n",
      "\n"
     ]
    }
   ],
   "source": [
    "modelo_embedding_optimo = tf.keras.models.load_model(f'./models/best_model_embedding{best_embedding_dim}.keras')\n",
    "embedding_dim = best_embedding_dim\n",
    "evaluacion(modelo_embedding_optimo, test_labels=test_encoded_labels_lemmatized, test_sequences=test_pad_sequences_lemmatized)"
   ]
  },
  {
   "cell_type": "markdown",
   "metadata": {},
   "source": [
    "A partir de eso, vemos que lo óptimo fue: vocab_size=650, embedding_dim=200."
   ]
  },
  {
   "cell_type": "markdown",
   "metadata": {},
   "source": [
    "\n",
    " 3. **Xarxes Convolucionals.** Afegiu capes convolucionals al vostre model. Expliqueu amb detall els valors que heu provat i la vostra motivació a l'hora d'escollir-los. Recordeu, que també podeu provar diferents configuracions de *pooling*.\n"
   ]
  },
  {
   "cell_type": "code",
   "execution_count": 136,
   "metadata": {},
   "outputs": [
    {
     "name": "stderr",
     "output_type": "stream",
     "text": [
      "Probando kernel sizes:   0%|          | 0/3 [00:00<?, ?it/s]/home/manukali/TVD_P2/TVD_P2_environment/lib/python3.13/site-packages/keras/src/layers/core/embedding.py:97: UserWarning: Argument `input_length` is deprecated. Just remove it.\n",
      "  warnings.warn(\n",
      "Probando kernel sizes: 100%|██████████| 3/3 [02:04<00:00, 41.50s/it]"
     ]
    },
    {
     "name": "stdout",
     "output_type": "stream",
     "text": [
      "   kernel_size  filters  test_accuracy  test_loss  epochs_trained\n",
      "0            3       64       0.945946   0.243472              11\n",
      "1            3      128       0.949324   0.196854              11\n",
      "2            3      256       0.950450   0.204508              11\n",
      "3            5       64       0.940315   0.208823              11\n",
      "4            5      128       0.942568   0.225428              10\n",
      "5            5      256       0.956081   0.185302              12\n",
      "6            7       64       0.956081   0.217539              11\n",
      "7            7      128       0.941441   0.229572              11\n",
      "8            7      256       0.953829   0.221061              10\n"
     ]
    },
    {
     "name": "stderr",
     "output_type": "stream",
     "text": [
      "\n"
     ]
    }
   ],
   "source": [
    "from tqdm import tqdm\n",
    "from tensorflow.keras.models import Sequential\n",
    "from tensorflow.keras.layers import Embedding, Conv1D, GlobalMaxPooling1D, Dense\n",
    "from tensorflow.keras.callbacks import EarlyStopping\n",
    "\n",
    "# Parámetros fijos\n",
    "max_sequence_length = 45\n",
    "num_classes = len(label_encoder.classes_)\n",
    "batch_size = 32\n",
    "epochs = 30\n",
    "\n",
    "# Hiperparámetros a probar\n",
    "kernel_sizes = [3, 5, 7]\n",
    "filters_list = [64, 128, 256]\n",
    "\n",
    "# Para guardar los resultados\n",
    "resultados = []\n",
    "\n",
    "for kernel_size in tqdm(kernel_sizes, desc=\"Probando kernel sizes\"):\n",
    "    for filters in filters_list:\n",
    "        \n",
    "        # Definición del modelo\n",
    "        model = Sequential([\n",
    "            Embedding(input_dim=vocab_size, output_dim=embedding_dim),\n",
    "            Conv1D(filters=filters, kernel_size=kernel_size, activation='relu', padding='valid'),\n",
    "            GlobalMaxPooling1D(),\n",
    "            Dense(128, activation='relu'),\n",
    "            Dense(num_classes, activation='softmax')\n",
    "        ])\n",
    "\n",
    "        model.compile(optimizer='adam', loss='categorical_crossentropy', metrics=['accuracy'])\n",
    "\n",
    "        # Early stopping\n",
    "        early_stop = EarlyStopping(monitor='val_loss', patience=5, restore_best_weights=True)\n",
    "\n",
    "        # Entrenamiento\n",
    "        history = model.fit(\n",
    "            train_pad_sequences_lemmatized, train_encoded_labels_lemmatized,\n",
    "            validation_data=(val_pad_sequences_lemmatized, val_encoded_labels_lemmatized),\n",
    "            epochs=epochs,\n",
    "            batch_size=batch_size,\n",
    "            callbacks=[early_stop],\n",
    "            verbose=0\n",
    "        )\n",
    "\n",
    "        # Evaluación\n",
    "        loss, acc = model.evaluate(test_pad_sequences_lemmatized, test_encoded_labels_lemmatized, verbose=0)\n",
    "        \n",
    "        resultados.append({\n",
    "            'kernel_size': kernel_size,\n",
    "            'filters': filters,\n",
    "            'test_accuracy': acc,\n",
    "            'test_loss': loss,\n",
    "            'epochs_trained': len(history.history['loss'])\n",
    "        })\n",
    "\n",
    "# Mostrar resultados\n",
    "import pandas as pd\n",
    "resultados_df = pd.DataFrame(resultados)\n",
    "print(resultados_df)\n"
   ]
  },
  {
   "cell_type": "markdown",
   "metadata": {},
   "source": [
    "Entre la fila 5 y 6: Ambas tienen la misma test_accuracy (0.956081), pero la configuración con kernel_size=5 y filters=256 tiene un test_loss menor (0.185302 vs 0.217539) y ha entrenado una epoch más. Un test_loss menor indica que el modelo está más seguro en sus predicciones y generaliza mejor, por lo que vamos a probar más configuraciones de redes usando kernel_size = 5 y filters = 256."
   ]
  },
  {
   "cell_type": "code",
   "execution_count": 151,
   "metadata": {},
   "outputs": [],
   "source": [
    "best_kernel_size = 5\n",
    "best_filters = 256"
   ]
  },
  {
   "cell_type": "code",
   "execution_count": 148,
   "metadata": {},
   "outputs": [
    {
     "name": "stderr",
     "output_type": "stream",
     "text": [
      "Kernel1: 100%|██████████| 3/3 [07:45<00:00, 155.09s/it]"
     ]
    },
    {
     "name": "stdout",
     "output_type": "stream",
     "text": [
      "    kernel1  filters1  kernel2  filters2  test_loss  test_accuracy  \\\n",
      "1         3       128        3       128   0.249984       0.948198   \n",
      "20        7       256        3        64   0.255870       0.944820   \n",
      "10        5       128        5        64   0.306131       0.943694   \n",
      "23        7       256        5       128   0.322624       0.942568   \n",
      "7         3       256        5       128   0.294987       0.938063   \n",
      "9         5       128        3       128   0.246555       0.936937   \n",
      "17        7       128        3       128   0.349379       0.936937   \n",
      "5         3       256        3       128   0.256939       0.934685   \n",
      "12        5       256        3        64   0.276908       0.933559   \n",
      "4         3       256        3        64   0.288224       0.931306   \n",
      "19        7       128        5       128   0.389996       0.930180   \n",
      "21        7       256        3       128   0.305788       0.930180   \n",
      "18        7       128        5        64   0.380981       0.929054   \n",
      "6         3       256        5        64   0.310679       0.929054   \n",
      "16        7       128        3        64   0.369320       0.922297   \n",
      "0         3       128        3        64   0.283612       0.921171   \n",
      "8         5       128        3        64   0.359316       0.917793   \n",
      "3         3       128        5       128   0.343949       0.917793   \n",
      "15        5       256        5       128   0.352119       0.915541   \n",
      "14        5       256        5        64   0.344830       0.913288   \n",
      "22        7       256        5        64   0.313238       0.909910   \n",
      "2         3       128        5        64   0.338827       0.906532   \n",
      "13        5       256        3       128   0.308258       0.906532   \n",
      "11        5       128        5       128   0.349343       0.903153   \n",
      "\n",
      "    epochs_trained  \n",
      "1               11  \n",
      "20              14  \n",
      "10              12  \n",
      "23              12  \n",
      "7               12  \n",
      "9               11  \n",
      "17              12  \n",
      "5               12  \n",
      "12              10  \n",
      "4               11  \n",
      "19              12  \n",
      "21              11  \n",
      "18              13  \n",
      "6               11  \n",
      "16              11  \n",
      "0                9  \n",
      "8               11  \n",
      "3               12  \n",
      "15              10  \n",
      "14              11  \n",
      "22               9  \n",
      "2               10  \n",
      "13               9  \n",
      "11               9  \n"
     ]
    },
    {
     "name": "stderr",
     "output_type": "stream",
     "text": [
      "\n"
     ]
    }
   ],
   "source": [
    "# Parámetros del modelo\n",
    "# embedding_dim = 200\n",
    "# vocab_size = 650\n",
    "# max_sequence_length = 45\n",
    "# Parámetros fijos\n",
    "max_sequence_length = 45\n",
    "num_classes = len(label_encoder.classes_)\n",
    "batch_size = 32\n",
    "epochs = 30\n",
    "\n",
    "# Hiperparámetros a probar\n",
    "kernel_sizes_first = [3, 5, 7]     # kernel de la primera capa Conv1D\n",
    "filters_first = [128, 256]         # filters de la primera capa\n",
    "kernel_sizes_second = [3, 5]       # kernel de la segunda capa Conv1D\n",
    "filters_second = [64, 128]         # filters de la segunda capa\n",
    "\n",
    "# Lista para guardar resultados\n",
    "resultados = []\n",
    "\n",
    "# Loop sobre combinaciones\n",
    "for k1 in tqdm(kernel_sizes_first, desc=\"Kernel1\"):\n",
    "    for f1 in filters_first:\n",
    "        for k2 in kernel_sizes_second:\n",
    "            for f2 in filters_second:\n",
    "                \n",
    "                # Definición del modelo\n",
    "                model = Sequential([\n",
    "                    Embedding(input_dim=vocab_size, output_dim=embedding_dim, input_length=max_sequence_length),\n",
    "                    Conv1D(filters=f1, kernel_size=k1, activation='relu', padding='valid'),\n",
    "                    Conv1D(filters=f2, kernel_size=k2, activation='relu', padding='valid'),\n",
    "                    GlobalMaxPooling1D(),\n",
    "                    Dense(128, activation='relu'),\n",
    "                    Dense(num_classes, activation='softmax')\n",
    "                ])\n",
    "\n",
    "                model.compile(optimizer='adam', loss='categorical_crossentropy', metrics=['accuracy'])\n",
    "\n",
    "                early_stop = EarlyStopping(monitor='val_loss', patience=5, restore_best_weights=True)\n",
    "\n",
    "                # Entrenamiento\n",
    "                history = model.fit(\n",
    "                    train_pad_sequences_lemmatized, train_encoded_labels_lemmatized,\n",
    "                    validation_data=(val_pad_sequences_lemmatized, val_encoded_labels_lemmatized),\n",
    "                    epochs=epochs,\n",
    "                    batch_size=batch_size,\n",
    "                    callbacks=[early_stop],\n",
    "                    verbose=0\n",
    "                )\n",
    "\n",
    "                # Evaluación\n",
    "                loss, acc = model.evaluate(test_pad_sequences_lemmatized, test_encoded_labels_lemmatized, verbose=0)\n",
    "\n",
    "                # Guardar resultados\n",
    "                resultados.append({\n",
    "                    'kernel1': k1,\n",
    "                    'filters1': f1,\n",
    "                    'kernel2': k2,\n",
    "                    'filters2': f2,\n",
    "                    'test_loss': loss,\n",
    "                    'test_accuracy': acc,\n",
    "                    'epochs_trained': len(history.history['loss'])\n",
    "                })\n",
    "\n",
    "# Convertir a DataFrame y ordenar por precisión\n",
    "resultados_df = pd.DataFrame(resultados).sort_values(by='test_accuracy', ascending=False)\n",
    "print(resultados_df)\n"
   ]
  },
  {
   "cell_type": "markdown",
   "metadata": {},
   "source": [
    "Usando 2 capas convolucionales con Max pooling vemos que el resultado es peor que solo con una capa. Ahora vamos a probar con average pooling"
   ]
  },
  {
   "cell_type": "code",
   "execution_count": 149,
   "metadata": {},
   "outputs": [
    {
     "name": "stderr",
     "output_type": "stream",
     "text": [
      "Kernel1:   0%|          | 0/3 [00:00<?, ?it/s]/home/manukali/TVD_P2/TVD_P2_environment/lib/python3.13/site-packages/keras/src/layers/core/embedding.py:97: UserWarning: Argument `input_length` is deprecated. Just remove it.\n",
      "  warnings.warn(\n",
      "Kernel1: 100%|██████████| 3/3 [10:57<00:00, 219.18s/it]"
     ]
    },
    {
     "name": "stdout",
     "output_type": "stream",
     "text": [
      "    kernel1  filters1  kernel2  filters2  test_loss  test_accuracy  \\\n",
      "20        7       256        3        64   0.367877       0.917793   \n",
      "22        7       256        5        64   0.397107       0.916667   \n",
      "16        7       128        3        64   0.370862       0.912162   \n",
      "17        7       128        3       128   0.363383       0.906532   \n",
      "3         3       128        5       128   0.448000       0.899775   \n",
      "11        5       128        5       128   0.438577       0.899775   \n",
      "12        5       256        3        64   0.412262       0.898649   \n",
      "14        5       256        5        64   0.386270       0.898649   \n",
      "7         3       256        5       128   0.445249       0.897523   \n",
      "0         3       128        3        64   0.447293       0.893018   \n",
      "18        7       128        5        64   0.519904       0.891892   \n",
      "8         5       128        3        64   0.449684       0.891892   \n",
      "5         3       256        3       128   0.535683       0.890766   \n",
      "21        7       256        3       128   0.497237       0.889640   \n",
      "13        5       256        3       128   0.486260       0.889640   \n",
      "2         3       128        5        64   0.455924       0.887387   \n",
      "19        7       128        5       128   0.499572       0.886261   \n",
      "15        5       256        5       128   0.457337       0.885135   \n",
      "1         3       128        3       128   0.521113       0.885135   \n",
      "4         3       256        3        64   0.581537       0.882883   \n",
      "9         5       128        3       128   0.446685       0.882883   \n",
      "23        7       256        5       128   0.495208       0.872748   \n",
      "10        5       128        5        64   0.470289       0.870495   \n",
      "6         3       256        5        64   0.572171       0.868243   \n",
      "\n",
      "    epochs_trained  \n",
      "20              14  \n",
      "22              20  \n",
      "16              18  \n",
      "17              14  \n",
      "3               18  \n",
      "11              20  \n",
      "12              15  \n",
      "14              17  \n",
      "7               16  \n",
      "0               16  \n",
      "18              21  \n",
      "8               15  \n",
      "5               15  \n",
      "21              15  \n",
      "13              18  \n",
      "2               17  \n",
      "19              18  \n",
      "15              16  \n",
      "1               17  \n",
      "4               15  \n",
      "9               15  \n",
      "23              15  \n",
      "10              13  \n",
      "6               17  \n"
     ]
    },
    {
     "name": "stderr",
     "output_type": "stream",
     "text": [
      "\n"
     ]
    }
   ],
   "source": [
    "max_sequence_length = 45\n",
    "num_classes = len(label_encoder.classes_)\n",
    "batch_size = 32\n",
    "epochs = 30\n",
    "\n",
    "# Hiperparámetros a probar\n",
    "kernel_sizes_first = [3, 5, 7]     # kernel de la primera capa Conv1D\n",
    "filters_first = [128, 256]         # filters de la primera capa\n",
    "kernel_sizes_second = [3, 5]       # kernel de la segunda capa Conv1D\n",
    "filters_second = [64, 128]         # filters de la segunda capa\n",
    "\n",
    "# Lista para guardar resultados\n",
    "resultados = []\n",
    "\n",
    "# Loop sobre combinaciones\n",
    "for k1 in tqdm(kernel_sizes_first, desc=\"Kernel1\"):\n",
    "    for f1 in filters_first:\n",
    "        for k2 in kernel_sizes_second:\n",
    "            for f2 in filters_second:\n",
    "                \n",
    "                # Definición del modelo\n",
    "                model = Sequential([\n",
    "                    Embedding(input_dim=vocab_size, output_dim=embedding_dim, input_length=max_sequence_length),\n",
    "                    Conv1D(filters=f1, kernel_size=k1, activation='relu', padding='valid'),\n",
    "                    Conv1D(filters=f2, kernel_size=k2, activation='relu', padding='valid'),\n",
    "                    GlobalAveragePooling1D(),\n",
    "                    Dense(128, activation='relu'),\n",
    "                    Dense(num_classes, activation='softmax')\n",
    "                ])\n",
    "\n",
    "                model.compile(optimizer='adam', loss='categorical_crossentropy', metrics=['accuracy'])\n",
    "\n",
    "                early_stop = EarlyStopping(monitor='val_loss', patience=5, restore_best_weights=True)\n",
    "\n",
    "                # Entrenamiento\n",
    "                history = model.fit(\n",
    "                    train_pad_sequences_lemmatized, train_encoded_labels_lemmatized,\n",
    "                    validation_data=(val_pad_sequences_lemmatized, val_encoded_labels_lemmatized),\n",
    "                    epochs=epochs,\n",
    "                    batch_size=batch_size,\n",
    "                    callbacks=[early_stop],\n",
    "                    verbose=0\n",
    "                )\n",
    "\n",
    "                # Evaluación\n",
    "                loss, acc = model.evaluate(test_pad_sequences_lemmatized, test_encoded_labels_lemmatized, verbose=0)\n",
    "\n",
    "                # Guardar resultados\n",
    "                resultados.append({\n",
    "                    'kernel1': k1,\n",
    "                    'filters1': f1,\n",
    "                    'kernel2': k2,\n",
    "                    'filters2': f2,\n",
    "                    'test_loss': loss,\n",
    "                    'test_accuracy': acc,\n",
    "                    'epochs_trained': len(history.history['loss'])\n",
    "                })\n",
    "\n",
    "# Convertir a DataFrame y ordenar por precisión\n",
    "resultados_df = pd.DataFrame(resultados).sort_values(by='test_accuracy', ascending=False)\n",
    "print(resultados_df)"
   ]
  },
  {
   "cell_type": "markdown",
   "metadata": {},
   "source": [
    "AveragePooling empeora el de 2"
   ]
  },
  {
   "cell_type": "code",
   "execution_count": 150,
   "metadata": {},
   "outputs": [
    {
     "name": "stderr",
     "output_type": "stream",
     "text": [
      "Probando kernel sizes: 100%|██████████| 3/3 [02:58<00:00, 59.36s/it]"
     ]
    },
    {
     "name": "stdout",
     "output_type": "stream",
     "text": [
      "   kernel_size  filters  test_accuracy  test_loss  epochs_trained\n",
      "0            3       64       0.881757   0.444982              18\n",
      "1            3      128       0.899775   0.368501              18\n",
      "2            3      256       0.897523   0.378314              16\n",
      "3            5       64       0.920045   0.320728              20\n",
      "4            5      128       0.916667   0.349770              17\n",
      "5            5      256       0.906532   0.355025              16\n",
      "6            7       64       0.913288   0.380748              17\n",
      "7            7      128       0.921171   0.343062              20\n",
      "8            7      256       0.925676   0.272649              14\n"
     ]
    },
    {
     "name": "stderr",
     "output_type": "stream",
     "text": [
      "\n"
     ]
    }
   ],
   "source": [
    "# Parámetros fijos\n",
    "max_sequence_length = 45\n",
    "num_classes = len(label_encoder.classes_)\n",
    "batch_size = 32\n",
    "epochs = 30\n",
    "\n",
    "# Hiperparámetros a probar\n",
    "kernel_sizes = [3, 5, 7]\n",
    "filters_list = [64, 128, 256]\n",
    "\n",
    "# Para guardar los resultados\n",
    "resultados = []\n",
    "\n",
    "for kernel_size in tqdm(kernel_sizes, desc=\"Probando kernel sizes\"):\n",
    "    for filters in filters_list:\n",
    "        \n",
    "        # Definición del modelo\n",
    "        model = Sequential([\n",
    "            Embedding(input_dim=vocab_size, output_dim=embedding_dim),\n",
    "            Conv1D(filters=filters, kernel_size=kernel_size, activation='relu', padding='valid'),\n",
    "            GlobalAveragePooling1D(),\n",
    "            Dense(128, activation='relu'),\n",
    "            Dense(num_classes, activation='softmax')\n",
    "        ])\n",
    "\n",
    "        model.compile(optimizer='adam', loss='categorical_crossentropy', metrics=['accuracy'])\n",
    "\n",
    "        # Early stopping\n",
    "        early_stop = EarlyStopping(monitor='val_loss', patience=5, restore_best_weights=True)\n",
    "\n",
    "        # Entrenamiento\n",
    "        history = model.fit(\n",
    "            train_pad_sequences_lemmatized, train_encoded_labels_lemmatized,\n",
    "            validation_data=(val_pad_sequences_lemmatized, val_encoded_labels_lemmatized),\n",
    "            epochs=epochs,\n",
    "            batch_size=batch_size,\n",
    "            callbacks=[early_stop],\n",
    "            verbose=0\n",
    "        )\n",
    "\n",
    "        # Evaluación\n",
    "        loss, acc = model.evaluate(test_pad_sequences_lemmatized, test_encoded_labels_lemmatized, verbose=0)\n",
    "        \n",
    "        resultados.append({\n",
    "            'kernel_size': kernel_size,\n",
    "            'filters': filters,\n",
    "            'test_accuracy': acc,\n",
    "            'test_loss': loss,\n",
    "            'epochs_trained': len(history.history['loss'])\n",
    "        })\n",
    "\n",
    "# Mostrar resultados\n",
    "import pandas as pd\n",
    "resultados_df = pd.DataFrame(resultados)\n",
    "print(resultados_df)"
   ]
  },
  {
   "cell_type": "markdown",
   "metadata": {},
   "source": [
    "También empeora aca. Nos quedamos con una capa convolucional con el kernel size y filters mencionado anteriormente"
   ]
  },
  {
   "cell_type": "code",
   "execution_count": 153,
   "metadata": {},
   "outputs": [
    {
     "name": "stdout",
     "output_type": "stream",
     "text": [
      "Epoch 1/30\n",
      "\u001b[1m128/128\u001b[0m \u001b[32m━━━━━━━━━━━━━━━━━━━━\u001b[0m\u001b[37m\u001b[0m \u001b[1m3s\u001b[0m 17ms/step - accuracy: 0.8207 - loss: 0.8365 - val_accuracy: 0.9167 - val_loss: 0.3819\n",
      "Epoch 2/30\n",
      "\u001b[1m128/128\u001b[0m \u001b[32m━━━━━━━━━━━━━━━━━━━━\u001b[0m\u001b[37m\u001b[0m \u001b[1m2s\u001b[0m 13ms/step - accuracy: 0.9446 - loss: 0.2198 - val_accuracy: 0.9422 - val_loss: 0.2167\n",
      "Epoch 3/30\n",
      "\u001b[1m128/128\u001b[0m \u001b[32m━━━━━━━━━━━━━━━━━━━━\u001b[0m\u001b[37m\u001b[0m \u001b[1m2s\u001b[0m 14ms/step - accuracy: 0.9762 - loss: 0.0939 - val_accuracy: 0.9644 - val_loss: 0.1816\n",
      "Epoch 4/30\n",
      "\u001b[1m128/128\u001b[0m \u001b[32m━━━━━━━━━━━━━━━━━━━━\u001b[0m\u001b[37m\u001b[0m \u001b[1m2s\u001b[0m 12ms/step - accuracy: 0.9907 - loss: 0.0474 - val_accuracy: 0.9667 - val_loss: 0.1638\n",
      "Epoch 5/30\n",
      "\u001b[1m128/128\u001b[0m \u001b[32m━━━━━━━━━━━━━━━━━━━━\u001b[0m\u001b[37m\u001b[0m \u001b[1m2s\u001b[0m 12ms/step - accuracy: 0.9949 - loss: 0.0265 - val_accuracy: 0.9656 - val_loss: 0.1580\n",
      "Epoch 6/30\n",
      "\u001b[1m128/128\u001b[0m \u001b[32m━━━━━━━━━━━━━━━━━━━━\u001b[0m\u001b[37m\u001b[0m \u001b[1m2s\u001b[0m 12ms/step - accuracy: 0.9975 - loss: 0.0143 - val_accuracy: 0.9589 - val_loss: 0.1773\n",
      "Epoch 7/30\n",
      "\u001b[1m128/128\u001b[0m \u001b[32m━━━━━━━━━━━━━━━━━━━━\u001b[0m\u001b[37m\u001b[0m \u001b[1m2s\u001b[0m 12ms/step - accuracy: 0.9985 - loss: 0.0088 - val_accuracy: 0.9600 - val_loss: 0.1937\n",
      "Epoch 8/30\n",
      "\u001b[1m128/128\u001b[0m \u001b[32m━━━━━━━━━━━━━━━━━━━━\u001b[0m\u001b[37m\u001b[0m \u001b[1m2s\u001b[0m 13ms/step - accuracy: 0.9998 - loss: 0.0043 - val_accuracy: 0.9600 - val_loss: 0.2036\n",
      "Epoch 9/30\n",
      "\u001b[1m128/128\u001b[0m \u001b[32m━━━━━━━━━━━━━━━━━━━━\u001b[0m\u001b[37m\u001b[0m \u001b[1m2s\u001b[0m 13ms/step - accuracy: 0.9998 - loss: 0.0024 - val_accuracy: 0.9611 - val_loss: 0.1962\n",
      "Epoch 10/30\n",
      "\u001b[1m128/128\u001b[0m \u001b[32m━━━━━━━━━━━━━━━━━━━━\u001b[0m\u001b[37m\u001b[0m \u001b[1m2s\u001b[0m 13ms/step - accuracy: 0.9998 - loss: 0.0015 - val_accuracy: 0.9611 - val_loss: 0.1878\n",
      "\u001b[1m28/28\u001b[0m \u001b[32m━━━━━━━━━━━━━━━━━━━━\u001b[0m\u001b[37m\u001b[0m \u001b[1m0s\u001b[0m 5ms/step\n",
      "Test Accuracy: 0.9505\n",
      "                            precision    recall  f1-score   support\n",
      "\n",
      "              abbreviation       1.00      1.00      1.00        33\n",
      "                  aircraft       1.00      0.67      0.80         9\n",
      " aircraft+flight+flight_no       0.00      0.00      0.00         0\n",
      "                   airfare       0.91      1.00      0.95        48\n",
      "       airfare+flight_time       0.00      0.00      0.00         0\n",
      "                   airline       1.00      1.00      1.00        38\n",
      "         airline+flight_no       0.00      0.00      0.00         0\n",
      "                   airport       1.00      0.89      0.94        18\n",
      "                  capacity       0.95      0.86      0.90        21\n",
      "                  cheapest       0.00      0.00      0.00         0\n",
      "                      city       0.67      0.33      0.44         6\n",
      "                  distance       1.00      0.40      0.57        10\n",
      "                    flight       0.97      0.99      0.98       632\n",
      "            flight+airfare       0.75      0.25      0.38        12\n",
      "                 flight_no       1.00      0.50      0.67         8\n",
      "               flight_time       0.33      1.00      0.50         1\n",
      "               ground_fare       1.00      0.71      0.83         7\n",
      "            ground_service       0.84      1.00      0.91        36\n",
      "ground_service+ground_fare       0.00      0.00      0.00         0\n",
      "                      meal       0.00      0.00      0.00         6\n",
      "                  quantity       0.27      1.00      0.43         3\n",
      "               restriction       0.00      0.00      0.00         0\n",
      "\n",
      "                  accuracy                           0.95       888\n",
      "                 macro avg       0.58      0.53      0.51       888\n",
      "              weighted avg       0.95      0.95      0.94       888\n",
      "\n"
     ]
    }
   ],
   "source": [
    "# Parámetros fijos\n",
    "max_sequence_length = 45\n",
    "num_classes = len(label_encoder.classes_)\n",
    "batch_size = 32\n",
    "epochs = 30\n",
    "\n",
    "# Definición del modelo\n",
    "best_convolution_model = Sequential([\n",
    "    Embedding(input_dim=vocab_size, output_dim=embedding_dim),\n",
    "    Conv1D(filters=best_filters, kernel_size=best_kernel_size, activation='relu', padding='valid'),\n",
    "    GlobalMaxPooling1D(),\n",
    "    Dense(128, activation='relu'),\n",
    "    Dense(num_classes, activation='softmax')\n",
    "])\n",
    "\n",
    "best_convolution_model.compile(optimizer='adam', loss='categorical_crossentropy', metrics=['accuracy'])\n",
    "\n",
    "# Early stopping\n",
    "early_stop = EarlyStopping(monitor='val_loss', patience=5, restore_best_weights=True)\n",
    "\n",
    "# Entrenamiento\n",
    "history = best_convolution_model.fit(\n",
    "    train_pad_sequences_lemmatized, train_encoded_labels_lemmatized,\n",
    "    validation_data=(val_pad_sequences_lemmatized, val_encoded_labels_lemmatized),\n",
    "    epochs=epochs,\n",
    "    batch_size=batch_size,\n",
    "    callbacks=[early_stop],\n",
    "    verbose=1\n",
    ")\n",
    "\n",
    "evaluacion(best_convolution_model, test_labels=test_encoded_labels_lemmatized, test_sequences=test_pad_sequences_lemmatized)"
   ]
  },
  {
   "cell_type": "markdown",
   "metadata": {},
   "source": [
    "\n",
    " 4. **Xarxes Recurrents.**  Afegiu capes recurrents al vostre model (LSTM, GRU). Expliqueu amb detall els valors que heu provat i la vostra motivació.\n",
    "\n",
    " 5. **Regularització.** Quan proveu configuracions amb més paràmetres veureu que el model comença a tenir *overfitting* molt prompte durant l'entrenament. Afegiu *Dropout* al vostre model. Heu d'explicar la vostra decisió de valors i de posició dins de la xarxa.\n"
   ]
  },
  {
   "cell_type": "code",
   "execution_count": 163,
   "metadata": {},
   "outputs": [
    {
     "name": "stdout",
     "output_type": "stream",
     "text": [
      "Epoch 1/50\n",
      "\u001b[1m128/128\u001b[0m \u001b[32m━━━━━━━━━━━━━━━━━━━━\u001b[0m\u001b[37m\u001b[0m \u001b[1m3s\u001b[0m 15ms/step - accuracy: 0.7325 - loss: 3.7562 - val_accuracy: 0.7322 - val_loss: 1.2846\n",
      "Epoch 2/50\n",
      "\u001b[1m128/128\u001b[0m \u001b[32m━━━━━━━━━━━━━━━━━━━━\u001b[0m\u001b[37m\u001b[0m \u001b[1m2s\u001b[0m 12ms/step - accuracy: 0.7987 - loss: 1.0345 - val_accuracy: 0.8289 - val_loss: 0.9266\n",
      "Epoch 3/50\n",
      "\u001b[1m128/128\u001b[0m \u001b[32m━━━━━━━━━━━━━━━━━━━━\u001b[0m\u001b[37m\u001b[0m \u001b[1m2s\u001b[0m 13ms/step - accuracy: 0.8379 - loss: 0.8410 - val_accuracy: 0.8400 - val_loss: 0.7966\n",
      "Epoch 4/50\n",
      "\u001b[1m128/128\u001b[0m \u001b[32m━━━━━━━━━━━━━━━━━━━━\u001b[0m\u001b[37m\u001b[0m \u001b[1m2s\u001b[0m 12ms/step - accuracy: 0.8516 - loss: 0.7428 - val_accuracy: 0.8611 - val_loss: 0.6960\n",
      "Epoch 5/50\n",
      "\u001b[1m128/128\u001b[0m \u001b[32m━━━━━━━━━━━━━━━━━━━━\u001b[0m\u001b[37m\u001b[0m \u001b[1m2s\u001b[0m 14ms/step - accuracy: 0.8691 - loss: 0.6744 - val_accuracy: 0.8856 - val_loss: 0.6338\n",
      "Epoch 6/50\n",
      "\u001b[1m128/128\u001b[0m \u001b[32m━━━━━━━━━━━━━━━━━━━━\u001b[0m\u001b[37m\u001b[0m \u001b[1m2s\u001b[0m 12ms/step - accuracy: 0.8806 - loss: 0.6219 - val_accuracy: 0.8967 - val_loss: 0.5918\n",
      "Epoch 7/50\n",
      "\u001b[1m128/128\u001b[0m \u001b[32m━━━━━━━━━━━━━━━━━━━━\u001b[0m\u001b[37m\u001b[0m \u001b[1m2s\u001b[0m 13ms/step - accuracy: 0.8889 - loss: 0.5772 - val_accuracy: 0.9033 - val_loss: 0.5643\n",
      "Epoch 8/50\n",
      "\u001b[1m128/128\u001b[0m \u001b[32m━━━━━━━━━━━━━━━━━━━━\u001b[0m\u001b[37m\u001b[0m \u001b[1m2s\u001b[0m 12ms/step - accuracy: 0.9009 - loss: 0.5500 - val_accuracy: 0.9111 - val_loss: 0.5379\n",
      "Epoch 9/50\n",
      "\u001b[1m128/128\u001b[0m \u001b[32m━━━━━━━━━━━━━━━━━━━━\u001b[0m\u001b[37m\u001b[0m \u001b[1m2s\u001b[0m 13ms/step - accuracy: 0.9058 - loss: 0.5154 - val_accuracy: 0.9178 - val_loss: 0.5048\n",
      "Epoch 10/50\n",
      "\u001b[1m128/128\u001b[0m \u001b[32m━━━━━━━━━━━━━━━━━━━━\u001b[0m\u001b[37m\u001b[0m \u001b[1m2s\u001b[0m 13ms/step - accuracy: 0.9110 - loss: 0.4955 - val_accuracy: 0.9189 - val_loss: 0.4965\n",
      "Epoch 11/50\n",
      "\u001b[1m128/128\u001b[0m \u001b[32m━━━━━━━━━━━━━━━━━━━━\u001b[0m\u001b[37m\u001b[0m \u001b[1m2s\u001b[0m 12ms/step - accuracy: 0.9186 - loss: 0.4691 - val_accuracy: 0.9178 - val_loss: 0.4842\n",
      "Epoch 12/50\n",
      "\u001b[1m128/128\u001b[0m \u001b[32m━━━━━━━━━━━━━━━━━━━━\u001b[0m\u001b[37m\u001b[0m \u001b[1m2s\u001b[0m 13ms/step - accuracy: 0.9230 - loss: 0.4489 - val_accuracy: 0.9211 - val_loss: 0.4702\n",
      "Epoch 13/50\n",
      "\u001b[1m128/128\u001b[0m \u001b[32m━━━━━━━━━━━━━━━━━━━━\u001b[0m\u001b[37m\u001b[0m \u001b[1m2s\u001b[0m 13ms/step - accuracy: 0.9269 - loss: 0.4346 - val_accuracy: 0.9244 - val_loss: 0.4537\n",
      "Epoch 14/50\n",
      "\u001b[1m128/128\u001b[0m \u001b[32m━━━━━━━━━━━━━━━━━━━━\u001b[0m\u001b[37m\u001b[0m \u001b[1m2s\u001b[0m 12ms/step - accuracy: 0.9277 - loss: 0.4206 - val_accuracy: 0.9244 - val_loss: 0.4432\n",
      "Epoch 15/50\n",
      "\u001b[1m128/128\u001b[0m \u001b[32m━━━━━━━━━━━━━━━━━━━━\u001b[0m\u001b[37m\u001b[0m \u001b[1m3s\u001b[0m 13ms/step - accuracy: 0.9323 - loss: 0.4071 - val_accuracy: 0.9189 - val_loss: 0.4499\n",
      "Epoch 16/50\n",
      "\u001b[1m128/128\u001b[0m \u001b[32m━━━━━━━━━━━━━━━━━━━━\u001b[0m\u001b[37m\u001b[0m \u001b[1m2s\u001b[0m 12ms/step - accuracy: 0.9313 - loss: 0.3959 - val_accuracy: 0.9189 - val_loss: 0.4357\n",
      "Epoch 17/50\n",
      "\u001b[1m128/128\u001b[0m \u001b[32m━━━━━━━━━━━━━━━━━━━━\u001b[0m\u001b[37m\u001b[0m \u001b[1m2s\u001b[0m 12ms/step - accuracy: 0.9340 - loss: 0.3861 - val_accuracy: 0.9256 - val_loss: 0.4324\n",
      "Epoch 18/50\n",
      "\u001b[1m128/128\u001b[0m \u001b[32m━━━━━━━━━━━━━━━━━━━━\u001b[0m\u001b[37m\u001b[0m \u001b[1m2s\u001b[0m 13ms/step - accuracy: 0.9365 - loss: 0.3801 - val_accuracy: 0.9256 - val_loss: 0.4166\n",
      "Epoch 19/50\n",
      "\u001b[1m128/128\u001b[0m \u001b[32m━━━━━━━━━━━━━━━━━━━━\u001b[0m\u001b[37m\u001b[0m \u001b[1m2s\u001b[0m 13ms/step - accuracy: 0.9365 - loss: 0.3681 - val_accuracy: 0.9300 - val_loss: 0.4280\n",
      "Epoch 20/50\n",
      "\u001b[1m128/128\u001b[0m \u001b[32m━━━━━━━━━━━━━━━━━━━━\u001b[0m\u001b[37m\u001b[0m \u001b[1m2s\u001b[0m 12ms/step - accuracy: 0.9419 - loss: 0.3600 - val_accuracy: 0.9256 - val_loss: 0.4079\n",
      "Epoch 21/50\n",
      "\u001b[1m128/128\u001b[0m \u001b[32m━━━━━━━━━━━━━━━━━━━━\u001b[0m\u001b[37m\u001b[0m \u001b[1m3s\u001b[0m 13ms/step - accuracy: 0.9372 - loss: 0.3597 - val_accuracy: 0.9144 - val_loss: 0.4325\n",
      "Epoch 22/50\n",
      "\u001b[1m128/128\u001b[0m \u001b[32m━━━━━━━━━━━━━━━━━━━━\u001b[0m\u001b[37m\u001b[0m \u001b[1m2s\u001b[0m 12ms/step - accuracy: 0.9414 - loss: 0.3460 - val_accuracy: 0.9211 - val_loss: 0.4090\n",
      "Epoch 23/50\n",
      "\u001b[1m128/128\u001b[0m \u001b[32m━━━━━━━━━━━━━━━━━━━━\u001b[0m\u001b[37m\u001b[0m \u001b[1m2s\u001b[0m 13ms/step - accuracy: 0.9404 - loss: 0.3419 - val_accuracy: 0.9289 - val_loss: 0.4001\n",
      "Epoch 24/50\n",
      "\u001b[1m128/128\u001b[0m \u001b[32m━━━━━━━━━━━━━━━━━━━━\u001b[0m\u001b[37m\u001b[0m \u001b[1m2s\u001b[0m 12ms/step - accuracy: 0.9434 - loss: 0.3342 - val_accuracy: 0.9200 - val_loss: 0.4066\n",
      "Epoch 25/50\n",
      "\u001b[1m128/128\u001b[0m \u001b[32m━━━━━━━━━━━━━━━━━━━━\u001b[0m\u001b[37m\u001b[0m \u001b[1m2s\u001b[0m 13ms/step - accuracy: 0.9434 - loss: 0.3267 - val_accuracy: 0.9267 - val_loss: 0.3945\n",
      "Epoch 26/50\n",
      "\u001b[1m128/128\u001b[0m \u001b[32m━━━━━━━━━━━━━━━━━━━━\u001b[0m\u001b[37m\u001b[0m \u001b[1m2s\u001b[0m 14ms/step - accuracy: 0.9446 - loss: 0.3272 - val_accuracy: 0.9300 - val_loss: 0.3919\n",
      "Epoch 27/50\n",
      "\u001b[1m128/128\u001b[0m \u001b[32m━━━━━━━━━━━━━━━━━━━━\u001b[0m\u001b[37m\u001b[0m \u001b[1m2s\u001b[0m 12ms/step - accuracy: 0.9443 - loss: 0.3202 - val_accuracy: 0.9300 - val_loss: 0.4011\n",
      "Epoch 28/50\n",
      "\u001b[1m128/128\u001b[0m \u001b[32m━━━━━━━━━━━━━━━━━━━━\u001b[0m\u001b[37m\u001b[0m \u001b[1m2s\u001b[0m 14ms/step - accuracy: 0.9478 - loss: 0.3127 - val_accuracy: 0.9333 - val_loss: 0.3889\n",
      "Epoch 29/50\n",
      "\u001b[1m128/128\u001b[0m \u001b[32m━━━━━━━━━━━━━━━━━━━━\u001b[0m\u001b[37m\u001b[0m \u001b[1m2s\u001b[0m 12ms/step - accuracy: 0.9453 - loss: 0.3206 - val_accuracy: 0.9289 - val_loss: 0.3969\n",
      "Epoch 30/50\n",
      "\u001b[1m128/128\u001b[0m \u001b[32m━━━━━━━━━━━━━━━━━━━━\u001b[0m\u001b[37m\u001b[0m \u001b[1m3s\u001b[0m 24ms/step - accuracy: 0.9458 - loss: 0.3173 - val_accuracy: 0.9233 - val_loss: 0.4052\n",
      "Epoch 31/50\n",
      "\u001b[1m128/128\u001b[0m \u001b[32m━━━━━━━━━━━━━━━━━━━━\u001b[0m\u001b[37m\u001b[0m \u001b[1m4s\u001b[0m 14ms/step - accuracy: 0.9468 - loss: 0.3058 - val_accuracy: 0.9244 - val_loss: 0.4029\n",
      "Epoch 32/50\n",
      "\u001b[1m128/128\u001b[0m \u001b[32m━━━━━━━━━━━━━━━━━━━━\u001b[0m\u001b[37m\u001b[0m \u001b[1m2s\u001b[0m 14ms/step - accuracy: 0.9483 - loss: 0.3016 - val_accuracy: 0.9244 - val_loss: 0.4027\n",
      "Epoch 33/50\n",
      "\u001b[1m128/128\u001b[0m \u001b[32m━━━━━━━━━━━━━━━━━━━━\u001b[0m\u001b[37m\u001b[0m \u001b[1m2s\u001b[0m 13ms/step - accuracy: 0.9502 - loss: 0.3031 - val_accuracy: 0.9367 - val_loss: 0.3770\n",
      "Epoch 34/50\n",
      "\u001b[1m128/128\u001b[0m \u001b[32m━━━━━━━━━━━━━━━━━━━━\u001b[0m\u001b[37m\u001b[0m \u001b[1m2s\u001b[0m 12ms/step - accuracy: 0.9497 - loss: 0.2886 - val_accuracy: 0.9378 - val_loss: 0.3733\n",
      "Epoch 35/50\n",
      "\u001b[1m128/128\u001b[0m \u001b[32m━━━━━━━━━━━━━━━━━━━━\u001b[0m\u001b[37m\u001b[0m \u001b[1m2s\u001b[0m 12ms/step - accuracy: 0.9500 - loss: 0.2936 - val_accuracy: 0.9322 - val_loss: 0.3930\n",
      "Epoch 36/50\n",
      "\u001b[1m128/128\u001b[0m \u001b[32m━━━━━━━━━━━━━━━━━━━━\u001b[0m\u001b[37m\u001b[0m \u001b[1m2s\u001b[0m 12ms/step - accuracy: 0.9519 - loss: 0.2929 - val_accuracy: 0.9322 - val_loss: 0.3746\n",
      "Epoch 37/50\n",
      "\u001b[1m128/128\u001b[0m \u001b[32m━━━━━━━━━━━━━━━━━━━━\u001b[0m\u001b[37m\u001b[0m \u001b[1m3s\u001b[0m 12ms/step - accuracy: 0.9502 - loss: 0.2844 - val_accuracy: 0.9356 - val_loss: 0.3790\n",
      "Epoch 38/50\n",
      "\u001b[1m128/128\u001b[0m \u001b[32m━━━━━━━━━━━━━━━━━━━━\u001b[0m\u001b[37m\u001b[0m \u001b[1m2s\u001b[0m 13ms/step - accuracy: 0.9522 - loss: 0.2828 - val_accuracy: 0.9189 - val_loss: 0.4292\n",
      "Epoch 39/50\n",
      "\u001b[1m128/128\u001b[0m \u001b[32m━━━━━━━━━━━━━━━━━━━━\u001b[0m\u001b[37m\u001b[0m \u001b[1m2s\u001b[0m 14ms/step - accuracy: 0.9527 - loss: 0.2863 - val_accuracy: 0.9378 - val_loss: 0.3714\n",
      "Epoch 40/50\n",
      "\u001b[1m128/128\u001b[0m \u001b[32m━━━━━━━━━━━━━━━━━━━━\u001b[0m\u001b[37m\u001b[0m \u001b[1m2s\u001b[0m 13ms/step - accuracy: 0.9485 - loss: 0.2892 - val_accuracy: 0.9333 - val_loss: 0.3868\n",
      "Epoch 41/50\n",
      "\u001b[1m128/128\u001b[0m \u001b[32m━━━━━━━━━━━━━━━━━━━━\u001b[0m\u001b[37m\u001b[0m \u001b[1m2s\u001b[0m 12ms/step - accuracy: 0.9522 - loss: 0.2858 - val_accuracy: 0.9344 - val_loss: 0.3684\n",
      "Epoch 42/50\n",
      "\u001b[1m128/128\u001b[0m \u001b[32m━━━━━━━━━━━━━━━━━━━━\u001b[0m\u001b[37m\u001b[0m \u001b[1m2s\u001b[0m 13ms/step - accuracy: 0.9519 - loss: 0.2792 - val_accuracy: 0.9356 - val_loss: 0.3648\n",
      "Epoch 43/50\n",
      "\u001b[1m128/128\u001b[0m \u001b[32m━━━━━━━━━━━━━━━━━━━━\u001b[0m\u001b[37m\u001b[0m \u001b[1m2s\u001b[0m 12ms/step - accuracy: 0.9532 - loss: 0.2837 - val_accuracy: 0.9367 - val_loss: 0.3671\n",
      "Epoch 44/50\n",
      "\u001b[1m128/128\u001b[0m \u001b[32m━━━━━━━━━━━━━━━━━━━━\u001b[0m\u001b[37m\u001b[0m \u001b[1m2s\u001b[0m 13ms/step - accuracy: 0.9559 - loss: 0.2604 - val_accuracy: 0.9367 - val_loss: 0.3756\n",
      "Epoch 45/50\n",
      "\u001b[1m128/128\u001b[0m \u001b[32m━━━━━━━━━━━━━━━━━━━━\u001b[0m\u001b[37m\u001b[0m \u001b[1m2s\u001b[0m 13ms/step - accuracy: 0.9514 - loss: 0.2847 - val_accuracy: 0.9367 - val_loss: 0.3665\n",
      "Epoch 46/50\n",
      "\u001b[1m128/128\u001b[0m \u001b[32m━━━━━━━━━━━━━━━━━━━━\u001b[0m\u001b[37m\u001b[0m \u001b[1m2s\u001b[0m 13ms/step - accuracy: 0.9539 - loss: 0.2635 - val_accuracy: 0.9400 - val_loss: 0.3555\n",
      "Epoch 47/50\n",
      "\u001b[1m128/128\u001b[0m \u001b[32m━━━━━━━━━━━━━━━━━━━━\u001b[0m\u001b[37m\u001b[0m \u001b[1m2s\u001b[0m 13ms/step - accuracy: 0.9524 - loss: 0.2763 - val_accuracy: 0.9333 - val_loss: 0.3733\n",
      "Epoch 48/50\n",
      "\u001b[1m128/128\u001b[0m \u001b[32m━━━━━━━━━━━━━━━━━━━━\u001b[0m\u001b[37m\u001b[0m \u001b[1m2s\u001b[0m 13ms/step - accuracy: 0.9551 - loss: 0.2739 - val_accuracy: 0.9344 - val_loss: 0.3681\n",
      "Epoch 49/50\n",
      "\u001b[1m128/128\u001b[0m \u001b[32m━━━━━━━━━━━━━━━━━━━━\u001b[0m\u001b[37m\u001b[0m \u001b[1m2s\u001b[0m 13ms/step - accuracy: 0.9568 - loss: 0.2602 - val_accuracy: 0.9356 - val_loss: 0.3676\n",
      "Epoch 50/50\n",
      "\u001b[1m128/128\u001b[0m \u001b[32m━━━━━━━━━━━━━━━━━━━━\u001b[0m\u001b[37m\u001b[0m \u001b[1m2s\u001b[0m 13ms/step - accuracy: 0.9576 - loss: 0.2552 - val_accuracy: 0.9322 - val_loss: 0.3674\n",
      "\u001b[1m28/28\u001b[0m \u001b[32m━━━━━━━━━━━━━━━━━━━━\u001b[0m\u001b[37m\u001b[0m \u001b[1m0s\u001b[0m 6ms/step\n",
      "Test Accuracy: 0.9043\n",
      "                            precision    recall  f1-score   support\n",
      "\n",
      "              abbreviation       0.94      0.97      0.96        33\n",
      "                  aircraft       0.23      0.33      0.27         9\n",
      " aircraft+flight+flight_no       0.00      0.00      0.00         0\n",
      "                   airfare       0.83      1.00      0.91        48\n",
      "       airfare+flight_time       0.00      0.00      0.00         0\n",
      "                   airline       0.97      0.97      0.97        38\n",
      "         airline+flight_no       0.00      0.00      0.00         0\n",
      "                   airport       0.93      0.78      0.85        18\n",
      "                  capacity       0.00      0.00      0.00        21\n",
      "                  cheapest       0.00      0.00      0.00         0\n",
      "                      city       0.00      0.00      0.00         6\n",
      "                  distance       0.00      0.00      0.00        10\n",
      "                    flight       0.96      0.99      0.98       632\n",
      "            flight+airfare       0.00      0.00      0.00        12\n",
      "                 flight_no       0.00      0.00      0.00         8\n",
      "               flight_time       0.00      0.00      0.00         1\n",
      "               ground_fare       0.44      0.57      0.50         7\n",
      "            ground_service       0.68      1.00      0.81        36\n",
      "ground_service+ground_fare       0.00      0.00      0.00         0\n",
      "                      meal       0.00      0.00      0.00         6\n",
      "                  quantity       0.30      1.00      0.46         3\n",
      "               restriction       0.00      0.00      0.00         0\n",
      "\n",
      "                  accuracy                           0.90       888\n",
      "                 macro avg       0.29      0.35      0.30       888\n",
      "              weighted avg       0.86      0.90      0.88       888\n",
      "\n"
     ]
    }
   ],
   "source": [
    "from tensorflow.keras.models import Sequential\n",
    "from tensorflow.keras.layers import Embedding, Conv1D, GlobalMaxPooling1D, Dense, Dropout\n",
    "from tensorflow.keras import regularizers\n",
    "from tensorflow.keras.callbacks import EarlyStopping\n",
    "\n",
    "# Parámetros\n",
    "num_classes = len(label_encoder.classes_)\n",
    "dropout_rate = 0.2  # Dropout del 20%\n",
    "l2_rate = 0.03       # L2 regularization\n",
    "\n",
    "# Modelo con Conv1D + L2 + Dropout\n",
    "best_convolution_model_dropout = Sequential([\n",
    "    Embedding(input_dim=vocab_size, output_dim=embedding_dim),\n",
    "    \n",
    "    # Conv1D con L2\n",
    "    Conv1D(filters=best_filters,\n",
    "           kernel_size=best_kernel_size,\n",
    "           activation='relu',\n",
    "           padding='valid',\n",
    "           kernel_regularizer=regularizers.l2(l2_rate)),\n",
    "    \n",
    "    # Pooling global\n",
    "    GlobalMaxPooling1D(),\n",
    "    \n",
    "    # Dropout antes del Dense\n",
    "    Dropout(dropout_rate),\n",
    "    \n",
    "    # Dense con L2\n",
    "    Dense(128, activation='relu', kernel_regularizer=regularizers.l2(l2_rate)),\n",
    "    Dropout(dropout_rate),\n",
    "    \n",
    "    # Capa de salida\n",
    "    Dense(num_classes, activation='softmax')\n",
    "])\n",
    "\n",
    "# Compilación\n",
    "best_convolution_model_dropout.compile(optimizer='adam',\n",
    "                               loss='categorical_crossentropy',\n",
    "                               metrics=['accuracy'])\n",
    "\n",
    "# Early stopping\n",
    "early_stop = EarlyStopping(monitor='val_loss', patience=10, restore_best_weights=True)\n",
    "\n",
    "# Entrenamiento\n",
    "history = best_convolution_model_dropout.fit(\n",
    "    train_pad_sequences_lemmatized, train_encoded_labels_lemmatized,\n",
    "    validation_data=(val_pad_sequences_lemmatized, val_encoded_labels_lemmatized),\n",
    "    epochs=50,\n",
    "    batch_size=32,\n",
    "    callbacks=[early_stop],\n",
    "    verbose=1\n",
    ")\n",
    "\n",
    "# Evaluación\n",
    "evaluacion(best_convolution_model_dropout, test_labels=test_encoded_labels_lemmatized, test_sequences=test_pad_sequences_lemmatized)\n",
    "\n"
   ]
  },
  {
   "cell_type": "markdown",
   "metadata": {},
   "source": [
    "\n",
    " 6. **Balancejat de les classes.** Si analitzeu el dataset, veureu que la freqüència de les classes està molt desbalancejada. Keras us permet afegir un pes per a cada classe a l'hora de calcular la loss (Mireu el paràmetre \"class_weigth\" a la documentació https://keras.io/api/models/model_training_apis/). Calculeu un pes per a cada classe i afegiu-lo al mètode fit del vostre model.\n",
    "\n",
    " ---"
   ]
  },
  {
   "cell_type": "markdown",
   "metadata": {
    "id": "oJL2VFSu6sce"
   },
   "source": [
    "\n",
    "<h1><a name=\"section-four\"> 4. Lliurable </a></h1>\n",
    "\n",
    "Heu d'entregar un document PDF de com a **màxim 10 pàgines** que incloga els resultats de tots els exercicis així com una explicació de cadascun dels resultats i de la modificació que heu fet. L'estructura del document és:\n",
    "\n",
    "1. Introducció.\n",
    "2. Experiments i Resultats (amb raonament).\n",
    "3. Conclusions.\n",
    "\n",
    "No cal que afegiu el vostre codi al document, podeu entregar el *notebook* juntament amb el document.\n",
    "\n",
    " ---"
   ]
  }
 ],
 "metadata": {
  "accelerator": "GPU",
  "colab": {
   "gpuType": "T4",
   "provenance": [
    {
     "file_id": "1Hzv2UnnX9qt2tfevnrW9wKKyxz49enYa",
     "timestamp": 1695718475771
    }
   ]
  },
  "kernelspec": {
   "display_name": "TVD_P2_environment",
   "language": "python",
   "name": "python3"
  },
  "language_info": {
   "codemirror_mode": {
    "name": "ipython",
    "version": 3
   },
   "file_extension": ".py",
   "mimetype": "text/x-python",
   "name": "python",
   "nbconvert_exporter": "python",
   "pygments_lexer": "ipython3",
   "version": "3.13.7"
  }
 },
 "nbformat": 4,
 "nbformat_minor": 0
}
